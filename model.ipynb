{
 "cells": [
  {
   "cell_type": "code",
   "execution_count": 1,
   "id": "fcf4f1d0",
   "metadata": {},
   "outputs": [
    {
     "data": {
      "text/plain": [
       "id                          0\n",
       "belongs_to_collection    2396\n",
       "budget                      0\n",
       "genres                      7\n",
       "homepage                 2054\n",
       "imdb_id                     0\n",
       "original_language           0\n",
       "original_title              0\n",
       "overview                    8\n",
       "popularity                  0\n",
       "poster_path                 1\n",
       "production_companies      156\n",
       "production_countries       55\n",
       "release_date                0\n",
       "runtime                     2\n",
       "spoken_languages           20\n",
       "status                      0\n",
       "tagline                   597\n",
       "title                       0\n",
       "Keywords                  276\n",
       "cast                       13\n",
       "crew                       16\n",
       "revenue                     0\n",
       "dtype: int64"
      ]
     },
     "execution_count": 1,
     "metadata": {},
     "output_type": "execute_result"
    }
   ],
   "source": [
    "import numpy as np\n",
    "import pandas as pd\n",
    "import matplotlib.pyplot as plt\n",
    "import seaborn as sns\n",
    "\n",
    "trainData=pd.read_csv('D:\\\\train.csv')\n",
    "testData = pd.read_csv(\"D:\\\\test.csv\")\n",
    "###############################################\n",
    "\n",
    "trainData.isnull().sum()"
   ]
  },
  {
   "cell_type": "code",
   "execution_count": 2,
   "id": "4ecb87d9",
   "metadata": {},
   "outputs": [
    {
     "data": {
      "text/plain": [
       "id                          0\n",
       "belongs_to_collection    3521\n",
       "budget                      0\n",
       "genres                     16\n",
       "homepage                 2978\n",
       "imdb_id                     0\n",
       "original_language           0\n",
       "original_title              0\n",
       "overview                   14\n",
       "popularity                  0\n",
       "poster_path                 1\n",
       "production_companies      258\n",
       "production_countries      102\n",
       "release_date                1\n",
       "runtime                     4\n",
       "spoken_languages           42\n",
       "status                      2\n",
       "tagline                   863\n",
       "title                       3\n",
       "Keywords                  393\n",
       "cast                       13\n",
       "crew                       22\n",
       "dtype: int64"
      ]
     },
     "execution_count": 2,
     "metadata": {},
     "output_type": "execute_result"
    }
   ],
   "source": [
    "testData.isnull().sum()"
   ]
  },
  {
   "cell_type": "code",
   "execution_count": 3,
   "id": "0d0c0c7f",
   "metadata": {},
   "outputs": [
    {
     "data": {
      "text/html": [
       "<div>\n",
       "<style scoped>\n",
       "    .dataframe tbody tr th:only-of-type {\n",
       "        vertical-align: middle;\n",
       "    }\n",
       "\n",
       "    .dataframe tbody tr th {\n",
       "        vertical-align: top;\n",
       "    }\n",
       "\n",
       "    .dataframe thead th {\n",
       "        text-align: right;\n",
       "    }\n",
       "</style>\n",
       "<table border=\"1\" class=\"dataframe\">\n",
       "  <thead>\n",
       "    <tr style=\"text-align: right;\">\n",
       "      <th></th>\n",
       "      <th>id</th>\n",
       "      <th>belongs_to_collection</th>\n",
       "      <th>budget</th>\n",
       "      <th>genres</th>\n",
       "      <th>homepage</th>\n",
       "      <th>imdb_id</th>\n",
       "      <th>original_language</th>\n",
       "      <th>original_title</th>\n",
       "      <th>overview</th>\n",
       "      <th>popularity</th>\n",
       "      <th>...</th>\n",
       "      <th>release_date</th>\n",
       "      <th>runtime</th>\n",
       "      <th>spoken_languages</th>\n",
       "      <th>status</th>\n",
       "      <th>tagline</th>\n",
       "      <th>title</th>\n",
       "      <th>Keywords</th>\n",
       "      <th>cast</th>\n",
       "      <th>crew</th>\n",
       "      <th>revenue</th>\n",
       "    </tr>\n",
       "  </thead>\n",
       "  <tbody>\n",
       "    <tr>\n",
       "      <th>0</th>\n",
       "      <td>1</td>\n",
       "      <td>[{'id': 313576, 'name': 'Hot Tub Time Machine ...</td>\n",
       "      <td>14000000</td>\n",
       "      <td>[{'id': 35, 'name': 'Comedy'}]</td>\n",
       "      <td>NaN</td>\n",
       "      <td>tt2637294</td>\n",
       "      <td>en</td>\n",
       "      <td>Hot Tub Time Machine 2</td>\n",
       "      <td>When Lou, who has become the \"father of the In...</td>\n",
       "      <td>6.575393</td>\n",
       "      <td>...</td>\n",
       "      <td>2/20/15</td>\n",
       "      <td>93.0</td>\n",
       "      <td>[{'iso_639_1': 'en', 'name': 'English'}]</td>\n",
       "      <td>Released</td>\n",
       "      <td>The Laws of Space and Time are About to be Vio...</td>\n",
       "      <td>Hot Tub Time Machine 2</td>\n",
       "      <td>[{'id': 4379, 'name': 'time travel'}, {'id': 9...</td>\n",
       "      <td>[{'cast_id': 4, 'character': 'Lou', 'credit_id...</td>\n",
       "      <td>[{'credit_id': '59ac067c92514107af02c8c8', 'de...</td>\n",
       "      <td>12314651</td>\n",
       "    </tr>\n",
       "    <tr>\n",
       "      <th>1</th>\n",
       "      <td>2</td>\n",
       "      <td>[{'id': 107674, 'name': 'The Princess Diaries ...</td>\n",
       "      <td>40000000</td>\n",
       "      <td>[{'id': 35, 'name': 'Comedy'}, {'id': 18, 'nam...</td>\n",
       "      <td>NaN</td>\n",
       "      <td>tt0368933</td>\n",
       "      <td>en</td>\n",
       "      <td>The Princess Diaries 2: Royal Engagement</td>\n",
       "      <td>Mia Thermopolis is now a college graduate and ...</td>\n",
       "      <td>8.248895</td>\n",
       "      <td>...</td>\n",
       "      <td>8/6/04</td>\n",
       "      <td>113.0</td>\n",
       "      <td>[{'iso_639_1': 'en', 'name': 'English'}]</td>\n",
       "      <td>Released</td>\n",
       "      <td>It can take a lifetime to find true love; she'...</td>\n",
       "      <td>The Princess Diaries 2: Royal Engagement</td>\n",
       "      <td>[{'id': 2505, 'name': 'coronation'}, {'id': 42...</td>\n",
       "      <td>[{'cast_id': 1, 'character': 'Mia Thermopolis'...</td>\n",
       "      <td>[{'credit_id': '52fe43fe9251416c7502563d', 'de...</td>\n",
       "      <td>95149435</td>\n",
       "    </tr>\n",
       "    <tr>\n",
       "      <th>2</th>\n",
       "      <td>3</td>\n",
       "      <td>NaN</td>\n",
       "      <td>3300000</td>\n",
       "      <td>[{'id': 18, 'name': 'Drama'}]</td>\n",
       "      <td>http://sonyclassics.com/whiplash/</td>\n",
       "      <td>tt2582802</td>\n",
       "      <td>en</td>\n",
       "      <td>Whiplash</td>\n",
       "      <td>Under the direction of a ruthless instructor, ...</td>\n",
       "      <td>64.299990</td>\n",
       "      <td>...</td>\n",
       "      <td>10/10/14</td>\n",
       "      <td>105.0</td>\n",
       "      <td>[{'iso_639_1': 'en', 'name': 'English'}]</td>\n",
       "      <td>Released</td>\n",
       "      <td>The road to greatness can take you to the edge.</td>\n",
       "      <td>Whiplash</td>\n",
       "      <td>[{'id': 1416, 'name': 'jazz'}, {'id': 1523, 'n...</td>\n",
       "      <td>[{'cast_id': 5, 'character': 'Andrew Neimann',...</td>\n",
       "      <td>[{'credit_id': '54d5356ec3a3683ba0000039', 'de...</td>\n",
       "      <td>13092000</td>\n",
       "    </tr>\n",
       "    <tr>\n",
       "      <th>3</th>\n",
       "      <td>4</td>\n",
       "      <td>NaN</td>\n",
       "      <td>1200000</td>\n",
       "      <td>[{'id': 53, 'name': 'Thriller'}, {'id': 18, 'n...</td>\n",
       "      <td>http://kahaanithefilm.com/</td>\n",
       "      <td>tt1821480</td>\n",
       "      <td>hi</td>\n",
       "      <td>Kahaani</td>\n",
       "      <td>Vidya Bagchi (Vidya Balan) arrives in Kolkata ...</td>\n",
       "      <td>3.174936</td>\n",
       "      <td>...</td>\n",
       "      <td>3/9/12</td>\n",
       "      <td>122.0</td>\n",
       "      <td>[{'iso_639_1': 'en', 'name': 'English'}, {'iso...</td>\n",
       "      <td>Released</td>\n",
       "      <td>NaN</td>\n",
       "      <td>Kahaani</td>\n",
       "      <td>[{'id': 10092, 'name': 'mystery'}, {'id': 1054...</td>\n",
       "      <td>[{'cast_id': 1, 'character': 'Vidya Bagchi', '...</td>\n",
       "      <td>[{'credit_id': '52fe48779251416c9108d6eb', 'de...</td>\n",
       "      <td>16000000</td>\n",
       "    </tr>\n",
       "    <tr>\n",
       "      <th>4</th>\n",
       "      <td>5</td>\n",
       "      <td>NaN</td>\n",
       "      <td>0</td>\n",
       "      <td>[{'id': 28, 'name': 'Action'}, {'id': 53, 'nam...</td>\n",
       "      <td>NaN</td>\n",
       "      <td>tt1380152</td>\n",
       "      <td>ko</td>\n",
       "      <td>마린보이</td>\n",
       "      <td>Marine Boy is the story of a former national s...</td>\n",
       "      <td>1.148070</td>\n",
       "      <td>...</td>\n",
       "      <td>2/5/09</td>\n",
       "      <td>118.0</td>\n",
       "      <td>[{'iso_639_1': 'ko', 'name': '한국어/조선말'}]</td>\n",
       "      <td>Released</td>\n",
       "      <td>NaN</td>\n",
       "      <td>Marine Boy</td>\n",
       "      <td>NaN</td>\n",
       "      <td>[{'cast_id': 3, 'character': 'Chun-soo', 'cred...</td>\n",
       "      <td>[{'credit_id': '52fe464b9251416c75073b43', 'de...</td>\n",
       "      <td>3923970</td>\n",
       "    </tr>\n",
       "  </tbody>\n",
       "</table>\n",
       "<p>5 rows × 23 columns</p>\n",
       "</div>"
      ],
      "text/plain": [
       "   id                              belongs_to_collection    budget  \\\n",
       "0   1  [{'id': 313576, 'name': 'Hot Tub Time Machine ...  14000000   \n",
       "1   2  [{'id': 107674, 'name': 'The Princess Diaries ...  40000000   \n",
       "2   3                                                NaN   3300000   \n",
       "3   4                                                NaN   1200000   \n",
       "4   5                                                NaN         0   \n",
       "\n",
       "                                              genres  \\\n",
       "0                     [{'id': 35, 'name': 'Comedy'}]   \n",
       "1  [{'id': 35, 'name': 'Comedy'}, {'id': 18, 'nam...   \n",
       "2                      [{'id': 18, 'name': 'Drama'}]   \n",
       "3  [{'id': 53, 'name': 'Thriller'}, {'id': 18, 'n...   \n",
       "4  [{'id': 28, 'name': 'Action'}, {'id': 53, 'nam...   \n",
       "\n",
       "                            homepage    imdb_id original_language  \\\n",
       "0                                NaN  tt2637294                en   \n",
       "1                                NaN  tt0368933                en   \n",
       "2  http://sonyclassics.com/whiplash/  tt2582802                en   \n",
       "3         http://kahaanithefilm.com/  tt1821480                hi   \n",
       "4                                NaN  tt1380152                ko   \n",
       "\n",
       "                             original_title  \\\n",
       "0                    Hot Tub Time Machine 2   \n",
       "1  The Princess Diaries 2: Royal Engagement   \n",
       "2                                  Whiplash   \n",
       "3                                   Kahaani   \n",
       "4                                      마린보이   \n",
       "\n",
       "                                            overview  popularity  ...  \\\n",
       "0  When Lou, who has become the \"father of the In...    6.575393  ...   \n",
       "1  Mia Thermopolis is now a college graduate and ...    8.248895  ...   \n",
       "2  Under the direction of a ruthless instructor, ...   64.299990  ...   \n",
       "3  Vidya Bagchi (Vidya Balan) arrives in Kolkata ...    3.174936  ...   \n",
       "4  Marine Boy is the story of a former national s...    1.148070  ...   \n",
       "\n",
       "  release_date runtime                                   spoken_languages  \\\n",
       "0      2/20/15    93.0           [{'iso_639_1': 'en', 'name': 'English'}]   \n",
       "1       8/6/04   113.0           [{'iso_639_1': 'en', 'name': 'English'}]   \n",
       "2     10/10/14   105.0           [{'iso_639_1': 'en', 'name': 'English'}]   \n",
       "3       3/9/12   122.0  [{'iso_639_1': 'en', 'name': 'English'}, {'iso...   \n",
       "4       2/5/09   118.0           [{'iso_639_1': 'ko', 'name': '한국어/조선말'}]   \n",
       "\n",
       "     status                                            tagline  \\\n",
       "0  Released  The Laws of Space and Time are About to be Vio...   \n",
       "1  Released  It can take a lifetime to find true love; she'...   \n",
       "2  Released    The road to greatness can take you to the edge.   \n",
       "3  Released                                                NaN   \n",
       "4  Released                                                NaN   \n",
       "\n",
       "                                      title  \\\n",
       "0                    Hot Tub Time Machine 2   \n",
       "1  The Princess Diaries 2: Royal Engagement   \n",
       "2                                  Whiplash   \n",
       "3                                   Kahaani   \n",
       "4                                Marine Boy   \n",
       "\n",
       "                                            Keywords  \\\n",
       "0  [{'id': 4379, 'name': 'time travel'}, {'id': 9...   \n",
       "1  [{'id': 2505, 'name': 'coronation'}, {'id': 42...   \n",
       "2  [{'id': 1416, 'name': 'jazz'}, {'id': 1523, 'n...   \n",
       "3  [{'id': 10092, 'name': 'mystery'}, {'id': 1054...   \n",
       "4                                                NaN   \n",
       "\n",
       "                                                cast  \\\n",
       "0  [{'cast_id': 4, 'character': 'Lou', 'credit_id...   \n",
       "1  [{'cast_id': 1, 'character': 'Mia Thermopolis'...   \n",
       "2  [{'cast_id': 5, 'character': 'Andrew Neimann',...   \n",
       "3  [{'cast_id': 1, 'character': 'Vidya Bagchi', '...   \n",
       "4  [{'cast_id': 3, 'character': 'Chun-soo', 'cred...   \n",
       "\n",
       "                                                crew   revenue  \n",
       "0  [{'credit_id': '59ac067c92514107af02c8c8', 'de...  12314651  \n",
       "1  [{'credit_id': '52fe43fe9251416c7502563d', 'de...  95149435  \n",
       "2  [{'credit_id': '54d5356ec3a3683ba0000039', 'de...  13092000  \n",
       "3  [{'credit_id': '52fe48779251416c9108d6eb', 'de...  16000000  \n",
       "4  [{'credit_id': '52fe464b9251416c75073b43', 'de...   3923970  \n",
       "\n",
       "[5 rows x 23 columns]"
      ]
     },
     "execution_count": 3,
     "metadata": {},
     "output_type": "execute_result"
    }
   ],
   "source": [
    "trainData.head()"
   ]
  },
  {
   "cell_type": "code",
   "execution_count": 4,
   "id": "ce9d3353",
   "metadata": {},
   "outputs": [],
   "source": [
    "def get_dict(s):\n",
    "    try:\n",
    "        d = eval(s)\n",
    "    except:\n",
    "        d = {}\n",
    "    return d"
   ]
  },
  {
   "cell_type": "code",
   "execution_count": 5,
   "id": "e1794522",
   "metadata": {},
   "outputs": [],
   "source": [
    "trainData.drop(['belongs_to_collection','id'], axis=1, inplace=True)\n",
    "testData.drop(['belongs_to_collection','id'], axis=1, inplace=True)"
   ]
  },
  {
   "cell_type": "code",
   "execution_count": 6,
   "id": "696a8f61",
   "metadata": {},
   "outputs": [
    {
     "data": {
      "text/plain": [
       "(array([2.411e+03, 3.630e+02, 1.230e+02, 5.500e+01, 2.000e+01, 1.700e+01,\n",
       "        7.000e+00, 3.000e+00, 0.000e+00, 1.000e+00]),\n",
       " array([0.00e+00, 3.80e+07, 7.60e+07, 1.14e+08, 1.52e+08, 1.90e+08,\n",
       "        2.28e+08, 2.66e+08, 3.04e+08, 3.42e+08, 3.80e+08]),\n",
       " <BarContainer object of 10 artists>)"
      ]
     },
     "execution_count": 6,
     "metadata": {},
     "output_type": "execute_result"
    },
    {
     "data": {
      "image/png": "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\n",
      "text/plain": [
       "<Figure size 432x288 with 1 Axes>"
      ]
     },
     "metadata": {
      "needs_background": "light"
     },
     "output_type": "display_data"
    }
   ],
   "source": [
    "\n",
    "plt.xlabel( 'budget')\n",
    "plt.ylabel('revenu')\n",
    "plt.hist(trainData['budget'])"
   ]
  },
  {
   "cell_type": "code",
   "execution_count": 7,
   "id": "4f76bfe0",
   "metadata": {},
   "outputs": [
    {
     "data": {
      "text/plain": [
<<<<<<< HEAD
       "<matplotlib.collections.PathCollection at 0x1dfd2dd6520>"
=======
>>>>>>> parent of 5b3df61 (6 feature analysis)
      ]
     },
     "execution_count": 7,
     "metadata": {},
     "output_type": "execute_result"
    },
    {
     "data": {
      "image/png": "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\n",
      "text/plain": [
       "<Figure size 432x288 with 1 Axes>"
      ]
     },
     "metadata": {
      "needs_background": "light"
     },
     "output_type": "display_data"
    }
   ],
   "source": [
    "plt.title('displaying realtion between budget and revenu')\n",
    "plt.xlabel( 'budget')\n",
    "plt.ylabel('revenu')\n",
    "plt.scatter(x=trainData['budget'], y=trainData['revenue'])"
   ]
  },
  {
   "cell_type": "code",
   "execution_count": 8,
   "id": "5cc49597",
   "metadata": {},
   "outputs": [
    {
     "name": "stdout",
     "output_type": "stream",
     "text": [
      "812\n"
     ]
    }
   ],
   "source": [
    "print(len(trainData[trainData['budget'] == 0]))"
   ]
  },
  {
   "cell_type": "code",
   "execution_count": 9,
   "id": "5bbfb17e",
   "metadata": {},
   "outputs": [],
   "source": [
    "trainData['budget'] = trainData['budget'].replace(0, trainData['budget'].mean())"
   ]
  },
  {
   "cell_type": "code",
   "execution_count": 10,
   "id": "39632a43",
   "metadata": {},
   "outputs": [
    {
     "name": "stdout",
     "output_type": "stream",
     "text": [
      "0\n"
     ]
    }
   ],
   "source": [
    "print(len(trainData[trainData['budget'] == 0]))"
   ]
  },
  {
   "cell_type": "code",
   "execution_count": 11,
   "id": "ee998aeb",
   "metadata": {},
   "outputs": [
    {
     "data": {
      "text/html": [
       "<div>\n",
       "<style scoped>\n",
       "    .dataframe tbody tr th:only-of-type {\n",
       "        vertical-align: middle;\n",
       "    }\n",
       "\n",
       "    .dataframe tbody tr th {\n",
       "        vertical-align: top;\n",
       "    }\n",
       "\n",
       "    .dataframe thead th {\n",
       "        text-align: right;\n",
       "    }\n",
       "</style>\n",
       "<table border=\"1\" class=\"dataframe\">\n",
       "  <thead>\n",
       "    <tr style=\"text-align: right;\">\n",
       "      <th></th>\n",
       "      <th>genre_name</th>\n",
       "    </tr>\n",
       "  </thead>\n",
       "  <tbody>\n",
       "  </tbody>\n",
       "</table>\n",
       "</div>"
      ],
      "text/plain": [
       "Empty DataFrame\n",
       "Columns: [genre_name]\n",
       "Index: []"
      ]
     },
     "execution_count": 11,
     "metadata": {},
     "output_type": "execute_result"
    }
   ],
   "source": [
    "gn = pd.DataFrame(columns=['genre_name'])\n",
    "gn"
   ]
  },
  {
   "cell_type": "code",
   "execution_count": 12,
   "id": "44baec54",
   "metadata": {},
   "outputs": [
    {
     "data": {
      "text/html": [
       "<div>\n",
       "<style scoped>\n",
       "    .dataframe tbody tr th:only-of-type {\n",
       "        vertical-align: middle;\n",
       "    }\n",
       "\n",
       "    .dataframe tbody tr th {\n",
       "        vertical-align: top;\n",
       "    }\n",
       "\n",
       "    .dataframe thead th {\n",
       "        text-align: right;\n",
       "    }\n",
       "</style>\n",
       "<table border=\"1\" class=\"dataframe\">\n",
       "  <thead>\n",
       "    <tr style=\"text-align: right;\">\n",
       "      <th></th>\n",
       "      <th>budget</th>\n",
       "      <th>genres</th>\n",
       "      <th>homepage</th>\n",
       "      <th>imdb_id</th>\n",
       "      <th>original_language</th>\n",
       "      <th>original_title</th>\n",
       "      <th>overview</th>\n",
       "      <th>popularity</th>\n",
       "      <th>poster_path</th>\n",
       "      <th>production_companies</th>\n",
       "      <th>...</th>\n",
       "      <th>runtime</th>\n",
       "      <th>spoken_languages</th>\n",
       "      <th>status</th>\n",
       "      <th>tagline</th>\n",
       "      <th>title</th>\n",
       "      <th>Keywords</th>\n",
       "      <th>cast</th>\n",
       "      <th>crew</th>\n",
       "      <th>revenue</th>\n",
       "      <th>genre_name</th>\n",
       "    </tr>\n",
       "  </thead>\n",
       "  <tbody>\n",
       "    <tr>\n",
       "      <th>0</th>\n",
       "      <td>14000000.00</td>\n",
       "      <td>[{'id': 35, 'name': 'Comedy'}]</td>\n",
       "      <td>NaN</td>\n",
       "      <td>tt2637294</td>\n",
       "      <td>en</td>\n",
       "      <td>Hot Tub Time Machine 2</td>\n",
       "      <td>When Lou, who has become the \"father of the In...</td>\n",
       "      <td>6.575393</td>\n",
       "      <td>/tQtWuwvMf0hCc2QR2tkolwl7c3c.jpg</td>\n",
       "      <td>[{'name': 'Paramount Pictures', 'id': 4}, {'na...</td>\n",
       "      <td>...</td>\n",
       "      <td>93.0</td>\n",
       "      <td>[{'iso_639_1': 'en', 'name': 'English'}]</td>\n",
       "      <td>Released</td>\n",
       "      <td>The Laws of Space and Time are About to be Vio...</td>\n",
       "      <td>Hot Tub Time Machine 2</td>\n",
       "      <td>[{'id': 4379, 'name': 'time travel'}, {'id': 9...</td>\n",
       "      <td>[{'cast_id': 4, 'character': 'Lou', 'credit_id...</td>\n",
       "      <td>[{'credit_id': '59ac067c92514107af02c8c8', 'de...</td>\n",
       "      <td>12314651</td>\n",
       "      <td>NaN</td>\n",
       "    </tr>\n",
       "    <tr>\n",
       "      <th>1</th>\n",
       "      <td>40000000.00</td>\n",
       "      <td>[{'id': 35, 'name': 'Comedy'}, {'id': 18, 'nam...</td>\n",
       "      <td>NaN</td>\n",
       "      <td>tt0368933</td>\n",
       "      <td>en</td>\n",
       "      <td>The Princess Diaries 2: Royal Engagement</td>\n",
       "      <td>Mia Thermopolis is now a college graduate and ...</td>\n",
       "      <td>8.248895</td>\n",
       "      <td>/w9Z7A0GHEhIp7etpj0vyKOeU1Wx.jpg</td>\n",
       "      <td>[{'name': 'Walt Disney Pictures', 'id': 2}]</td>\n",
       "      <td>...</td>\n",
       "      <td>113.0</td>\n",
       "      <td>[{'iso_639_1': 'en', 'name': 'English'}]</td>\n",
       "      <td>Released</td>\n",
       "      <td>It can take a lifetime to find true love; she'...</td>\n",
       "      <td>The Princess Diaries 2: Royal Engagement</td>\n",
       "      <td>[{'id': 2505, 'name': 'coronation'}, {'id': 42...</td>\n",
       "      <td>[{'cast_id': 1, 'character': 'Mia Thermopolis'...</td>\n",
       "      <td>[{'credit_id': '52fe43fe9251416c7502563d', 'de...</td>\n",
       "      <td>95149435</td>\n",
       "      <td>NaN</td>\n",
       "    </tr>\n",
       "    <tr>\n",
       "      <th>2</th>\n",
       "      <td>3300000.00</td>\n",
       "      <td>[{'id': 18, 'name': 'Drama'}]</td>\n",
       "      <td>http://sonyclassics.com/whiplash/</td>\n",
       "      <td>tt2582802</td>\n",
       "      <td>en</td>\n",
       "      <td>Whiplash</td>\n",
       "      <td>Under the direction of a ruthless instructor, ...</td>\n",
       "      <td>64.299990</td>\n",
       "      <td>/lIv1QinFqz4dlp5U4lQ6HaiskOZ.jpg</td>\n",
       "      <td>[{'name': 'Bold Films', 'id': 2266}, {'name': ...</td>\n",
       "      <td>...</td>\n",
       "      <td>105.0</td>\n",
       "      <td>[{'iso_639_1': 'en', 'name': 'English'}]</td>\n",
       "      <td>Released</td>\n",
       "      <td>The road to greatness can take you to the edge.</td>\n",
       "      <td>Whiplash</td>\n",
       "      <td>[{'id': 1416, 'name': 'jazz'}, {'id': 1523, 'n...</td>\n",
       "      <td>[{'cast_id': 5, 'character': 'Andrew Neimann',...</td>\n",
       "      <td>[{'credit_id': '54d5356ec3a3683ba0000039', 'de...</td>\n",
       "      <td>13092000</td>\n",
       "      <td>NaN</td>\n",
       "    </tr>\n",
       "    <tr>\n",
       "      <th>3</th>\n",
       "      <td>1200000.00</td>\n",
       "      <td>[{'id': 53, 'name': 'Thriller'}, {'id': 18, 'n...</td>\n",
       "      <td>http://kahaanithefilm.com/</td>\n",
       "      <td>tt1821480</td>\n",
       "      <td>hi</td>\n",
       "      <td>Kahaani</td>\n",
       "      <td>Vidya Bagchi (Vidya Balan) arrives in Kolkata ...</td>\n",
       "      <td>3.174936</td>\n",
       "      <td>/aTXRaPrWSinhcmCrcfJK17urp3F.jpg</td>\n",
       "      <td>NaN</td>\n",
       "      <td>...</td>\n",
       "      <td>122.0</td>\n",
       "      <td>[{'iso_639_1': 'en', 'name': 'English'}, {'iso...</td>\n",
       "      <td>Released</td>\n",
       "      <td>NaN</td>\n",
       "      <td>Kahaani</td>\n",
       "      <td>[{'id': 10092, 'name': 'mystery'}, {'id': 1054...</td>\n",
       "      <td>[{'cast_id': 1, 'character': 'Vidya Bagchi', '...</td>\n",
       "      <td>[{'credit_id': '52fe48779251416c9108d6eb', 'de...</td>\n",
       "      <td>16000000</td>\n",
       "      <td>NaN</td>\n",
       "    </tr>\n",
       "    <tr>\n",
       "      <th>4</th>\n",
       "      <td>22531334.11</td>\n",
       "      <td>[{'id': 28, 'name': 'Action'}, {'id': 53, 'nam...</td>\n",
       "      <td>NaN</td>\n",
       "      <td>tt1380152</td>\n",
       "      <td>ko</td>\n",
       "      <td>마린보이</td>\n",
       "      <td>Marine Boy is the story of a former national s...</td>\n",
       "      <td>1.148070</td>\n",
       "      <td>/m22s7zvkVFDU9ir56PiiqIEWFdT.jpg</td>\n",
       "      <td>NaN</td>\n",
       "      <td>...</td>\n",
       "      <td>118.0</td>\n",
       "      <td>[{'iso_639_1': 'ko', 'name': '한국어/조선말'}]</td>\n",
       "      <td>Released</td>\n",
       "      <td>NaN</td>\n",
       "      <td>Marine Boy</td>\n",
       "      <td>NaN</td>\n",
       "      <td>[{'cast_id': 3, 'character': 'Chun-soo', 'cred...</td>\n",
       "      <td>[{'credit_id': '52fe464b9251416c75073b43', 'de...</td>\n",
       "      <td>3923970</td>\n",
       "      <td>NaN</td>\n",
       "    </tr>\n",
       "  </tbody>\n",
       "</table>\n",
       "<p>5 rows × 22 columns</p>\n",
       "</div>"
      ],
      "text/plain": [
       "        budget                                             genres  \\\n",
       "0  14000000.00                     [{'id': 35, 'name': 'Comedy'}]   \n",
       "1  40000000.00  [{'id': 35, 'name': 'Comedy'}, {'id': 18, 'nam...   \n",
       "2   3300000.00                      [{'id': 18, 'name': 'Drama'}]   \n",
       "3   1200000.00  [{'id': 53, 'name': 'Thriller'}, {'id': 18, 'n...   \n",
       "4  22531334.11  [{'id': 28, 'name': 'Action'}, {'id': 53, 'nam...   \n",
       "\n",
       "                            homepage    imdb_id original_language  \\\n",
       "0                                NaN  tt2637294                en   \n",
       "1                                NaN  tt0368933                en   \n",
       "2  http://sonyclassics.com/whiplash/  tt2582802                en   \n",
       "3         http://kahaanithefilm.com/  tt1821480                hi   \n",
       "4                                NaN  tt1380152                ko   \n",
       "\n",
       "                             original_title  \\\n",
       "0                    Hot Tub Time Machine 2   \n",
       "1  The Princess Diaries 2: Royal Engagement   \n",
       "2                                  Whiplash   \n",
       "3                                   Kahaani   \n",
       "4                                      마린보이   \n",
       "\n",
       "                                            overview  popularity  \\\n",
       "0  When Lou, who has become the \"father of the In...    6.575393   \n",
       "1  Mia Thermopolis is now a college graduate and ...    8.248895   \n",
       "2  Under the direction of a ruthless instructor, ...   64.299990   \n",
       "3  Vidya Bagchi (Vidya Balan) arrives in Kolkata ...    3.174936   \n",
       "4  Marine Boy is the story of a former national s...    1.148070   \n",
       "\n",
       "                        poster_path  \\\n",
       "0  /tQtWuwvMf0hCc2QR2tkolwl7c3c.jpg   \n",
       "1  /w9Z7A0GHEhIp7etpj0vyKOeU1Wx.jpg   \n",
       "2  /lIv1QinFqz4dlp5U4lQ6HaiskOZ.jpg   \n",
       "3  /aTXRaPrWSinhcmCrcfJK17urp3F.jpg   \n",
       "4  /m22s7zvkVFDU9ir56PiiqIEWFdT.jpg   \n",
       "\n",
       "                                production_companies  ... runtime  \\\n",
       "0  [{'name': 'Paramount Pictures', 'id': 4}, {'na...  ...    93.0   \n",
       "1        [{'name': 'Walt Disney Pictures', 'id': 2}]  ...   113.0   \n",
       "2  [{'name': 'Bold Films', 'id': 2266}, {'name': ...  ...   105.0   \n",
       "3                                                NaN  ...   122.0   \n",
       "4                                                NaN  ...   118.0   \n",
       "\n",
       "                                    spoken_languages    status  \\\n",
       "0           [{'iso_639_1': 'en', 'name': 'English'}]  Released   \n",
       "1           [{'iso_639_1': 'en', 'name': 'English'}]  Released   \n",
       "2           [{'iso_639_1': 'en', 'name': 'English'}]  Released   \n",
       "3  [{'iso_639_1': 'en', 'name': 'English'}, {'iso...  Released   \n",
       "4           [{'iso_639_1': 'ko', 'name': '한국어/조선말'}]  Released   \n",
       "\n",
       "                                             tagline  \\\n",
       "0  The Laws of Space and Time are About to be Vio...   \n",
       "1  It can take a lifetime to find true love; she'...   \n",
       "2    The road to greatness can take you to the edge.   \n",
       "3                                                NaN   \n",
       "4                                                NaN   \n",
       "\n",
       "                                      title  \\\n",
       "0                    Hot Tub Time Machine 2   \n",
       "1  The Princess Diaries 2: Royal Engagement   \n",
       "2                                  Whiplash   \n",
       "3                                   Kahaani   \n",
       "4                                Marine Boy   \n",
       "\n",
       "                                            Keywords  \\\n",
       "0  [{'id': 4379, 'name': 'time travel'}, {'id': 9...   \n",
       "1  [{'id': 2505, 'name': 'coronation'}, {'id': 42...   \n",
       "2  [{'id': 1416, 'name': 'jazz'}, {'id': 1523, 'n...   \n",
       "3  [{'id': 10092, 'name': 'mystery'}, {'id': 1054...   \n",
       "4                                                NaN   \n",
       "\n",
       "                                                cast  \\\n",
       "0  [{'cast_id': 4, 'character': 'Lou', 'credit_id...   \n",
       "1  [{'cast_id': 1, 'character': 'Mia Thermopolis'...   \n",
       "2  [{'cast_id': 5, 'character': 'Andrew Neimann',...   \n",
       "3  [{'cast_id': 1, 'character': 'Vidya Bagchi', '...   \n",
       "4  [{'cast_id': 3, 'character': 'Chun-soo', 'cred...   \n",
       "\n",
       "                                                crew   revenue genre_name  \n",
       "0  [{'credit_id': '59ac067c92514107af02c8c8', 'de...  12314651        NaN  \n",
       "1  [{'credit_id': '52fe43fe9251416c7502563d', 'de...  95149435        NaN  \n",
       "2  [{'credit_id': '54d5356ec3a3683ba0000039', 'de...  13092000        NaN  \n",
       "3  [{'credit_id': '52fe48779251416c9108d6eb', 'de...  16000000        NaN  \n",
       "4  [{'credit_id': '52fe464b9251416c75073b43', 'de...   3923970        NaN  \n",
       "\n",
       "[5 rows x 22 columns]"
      ]
     },
     "execution_count": 12,
     "metadata": {},
     "output_type": "execute_result"
    }
   ],
   "source": [
    "trainData = pd.concat([trainData, gn], axis=1)\n",
    "testData = pd.concat([testData, gn], axis=1)\n",
    "\n",
    "trainData.head()"
   ]
  },
  {
   "cell_type": "code",
   "execution_count": 13,
   "id": "11f13ba7",
   "metadata": {},
   "outputs": [
    {
     "name": "stderr",
     "output_type": "stream",
     "text": [
<<<<<<< HEAD
      "C:\\Users\\moham\\AppData\\Local\\Temp/ipykernel_15976/194901383.py:5: SettingWithCopyWarning: \n",
=======
      "C:\\Users\\moham\\AppData\\Local\\Temp/ipykernel_12872/194901383.py:5: SettingWithCopyWarning: \n",
>>>>>>> parent of 5b3df61 (6 feature analysis)
      "A value is trying to be set on a copy of a slice from a DataFrame\n",
      "\n",
      "See the caveats in the documentation: https://pandas.pydata.org/pandas-docs/stable/user_guide/indexing.html#returning-a-view-versus-a-copy\n",
      "  trainData['genre_name'][j] = d[0]['name']\n",
<<<<<<< HEAD
      "C:\\Users\\moham\\AppData\\Local\\Temp/ipykernel_15976/194901383.py:7: SettingWithCopyWarning: \n",
=======
      "C:\\Users\\moham\\AppData\\Local\\Temp/ipykernel_12872/194901383.py:7: SettingWithCopyWarning: \n",
>>>>>>> parent of 5b3df61 (6 feature analysis)
      "A value is trying to be set on a copy of a slice from a DataFrame\n",
      "\n",
      "See the caveats in the documentation: https://pandas.pydata.org/pandas-docs/stable/user_guide/indexing.html#returning-a-view-versus-a-copy\n",
      "  trainData['genre_name'][j] = np.NaN\n",
<<<<<<< HEAD
      "C:\\Users\\moham\\AppData\\Local\\Temp/ipykernel_15976/194901383.py:14: SettingWithCopyWarning: \n",
=======
      "C:\\Users\\moham\\AppData\\Local\\Temp/ipykernel_12872/194901383.py:14: SettingWithCopyWarning: \n",
>>>>>>> parent of 5b3df61 (6 feature analysis)
      "A value is trying to be set on a copy of a slice from a DataFrame\n",
      "\n",
      "See the caveats in the documentation: https://pandas.pydata.org/pandas-docs/stable/user_guide/indexing.html#returning-a-view-versus-a-copy\n",
      "  testData['genre_name'][j] = d[0]['name']\n",
<<<<<<< HEAD
      "C:\\Users\\moham\\AppData\\Local\\Temp/ipykernel_15976/194901383.py:16: SettingWithCopyWarning: \n",
=======
      "C:\\Users\\moham\\AppData\\Local\\Temp/ipykernel_12872/194901383.py:16: SettingWithCopyWarning: \n",
>>>>>>> parent of 5b3df61 (6 feature analysis)
      "A value is trying to be set on a copy of a slice from a DataFrame\n",
      "\n",
      "See the caveats in the documentation: https://pandas.pydata.org/pandas-docs/stable/user_guide/indexing.html#returning-a-view-versus-a-copy\n",
      "  testData['genre_name'][j] = np.NaN\n"
     ]
    },
    {
     "data": {
      "text/html": [
       "<div>\n",
       "<style scoped>\n",
       "    .dataframe tbody tr th:only-of-type {\n",
       "        vertical-align: middle;\n",
       "    }\n",
       "\n",
       "    .dataframe tbody tr th {\n",
       "        vertical-align: top;\n",
       "    }\n",
       "\n",
       "    .dataframe thead th {\n",
       "        text-align: right;\n",
       "    }\n",
       "</style>\n",
       "<table border=\"1\" class=\"dataframe\">\n",
       "  <thead>\n",
       "    <tr style=\"text-align: right;\">\n",
       "      <th></th>\n",
       "      <th>budget</th>\n",
       "      <th>homepage</th>\n",
       "      <th>imdb_id</th>\n",
       "      <th>original_language</th>\n",
       "      <th>original_title</th>\n",
       "      <th>overview</th>\n",
       "      <th>popularity</th>\n",
       "      <th>poster_path</th>\n",
       "      <th>production_companies</th>\n",
       "      <th>production_countries</th>\n",
       "      <th>...</th>\n",
       "      <th>runtime</th>\n",
       "      <th>spoken_languages</th>\n",
       "      <th>status</th>\n",
       "      <th>tagline</th>\n",
       "      <th>title</th>\n",
       "      <th>Keywords</th>\n",
       "      <th>cast</th>\n",
       "      <th>crew</th>\n",
       "      <th>revenue</th>\n",
       "      <th>genre_name</th>\n",
       "    </tr>\n",
       "  </thead>\n",
       "  <tbody>\n",
       "    <tr>\n",
       "      <th>0</th>\n",
       "      <td>14000000.00</td>\n",
       "      <td>NaN</td>\n",
       "      <td>tt2637294</td>\n",
       "      <td>en</td>\n",
       "      <td>Hot Tub Time Machine 2</td>\n",
       "      <td>When Lou, who has become the \"father of the In...</td>\n",
       "      <td>6.575393</td>\n",
       "      <td>/tQtWuwvMf0hCc2QR2tkolwl7c3c.jpg</td>\n",
       "      <td>[{'name': 'Paramount Pictures', 'id': 4}, {'na...</td>\n",
       "      <td>[{'iso_3166_1': 'US', 'name': 'United States o...</td>\n",
       "      <td>...</td>\n",
       "      <td>93.0</td>\n",
       "      <td>[{'iso_639_1': 'en', 'name': 'English'}]</td>\n",
       "      <td>Released</td>\n",
       "      <td>The Laws of Space and Time are About to be Vio...</td>\n",
       "      <td>Hot Tub Time Machine 2</td>\n",
       "      <td>[{'id': 4379, 'name': 'time travel'}, {'id': 9...</td>\n",
       "      <td>[{'cast_id': 4, 'character': 'Lou', 'credit_id...</td>\n",
       "      <td>[{'credit_id': '59ac067c92514107af02c8c8', 'de...</td>\n",
       "      <td>12314651</td>\n",
       "      <td>Comedy</td>\n",
       "    </tr>\n",
       "    <tr>\n",
       "      <th>1</th>\n",
       "      <td>40000000.00</td>\n",
       "      <td>NaN</td>\n",
       "      <td>tt0368933</td>\n",
       "      <td>en</td>\n",
       "      <td>The Princess Diaries 2: Royal Engagement</td>\n",
       "      <td>Mia Thermopolis is now a college graduate and ...</td>\n",
       "      <td>8.248895</td>\n",
       "      <td>/w9Z7A0GHEhIp7etpj0vyKOeU1Wx.jpg</td>\n",
       "      <td>[{'name': 'Walt Disney Pictures', 'id': 2}]</td>\n",
       "      <td>[{'iso_3166_1': 'US', 'name': 'United States o...</td>\n",
       "      <td>...</td>\n",
       "      <td>113.0</td>\n",
       "      <td>[{'iso_639_1': 'en', 'name': 'English'}]</td>\n",
       "      <td>Released</td>\n",
       "      <td>It can take a lifetime to find true love; she'...</td>\n",
       "      <td>The Princess Diaries 2: Royal Engagement</td>\n",
       "      <td>[{'id': 2505, 'name': 'coronation'}, {'id': 42...</td>\n",
       "      <td>[{'cast_id': 1, 'character': 'Mia Thermopolis'...</td>\n",
       "      <td>[{'credit_id': '52fe43fe9251416c7502563d', 'de...</td>\n",
       "      <td>95149435</td>\n",
       "      <td>Comedy</td>\n",
       "    </tr>\n",
       "    <tr>\n",
       "      <th>2</th>\n",
       "      <td>3300000.00</td>\n",
       "      <td>http://sonyclassics.com/whiplash/</td>\n",
       "      <td>tt2582802</td>\n",
       "      <td>en</td>\n",
       "      <td>Whiplash</td>\n",
       "      <td>Under the direction of a ruthless instructor, ...</td>\n",
       "      <td>64.299990</td>\n",
       "      <td>/lIv1QinFqz4dlp5U4lQ6HaiskOZ.jpg</td>\n",
       "      <td>[{'name': 'Bold Films', 'id': 2266}, {'name': ...</td>\n",
       "      <td>[{'iso_3166_1': 'US', 'name': 'United States o...</td>\n",
       "      <td>...</td>\n",
       "      <td>105.0</td>\n",
       "      <td>[{'iso_639_1': 'en', 'name': 'English'}]</td>\n",
       "      <td>Released</td>\n",
       "      <td>The road to greatness can take you to the edge.</td>\n",
       "      <td>Whiplash</td>\n",
       "      <td>[{'id': 1416, 'name': 'jazz'}, {'id': 1523, 'n...</td>\n",
       "      <td>[{'cast_id': 5, 'character': 'Andrew Neimann',...</td>\n",
       "      <td>[{'credit_id': '54d5356ec3a3683ba0000039', 'de...</td>\n",
       "      <td>13092000</td>\n",
       "      <td>Drama</td>\n",
       "    </tr>\n",
       "    <tr>\n",
       "      <th>3</th>\n",
       "      <td>1200000.00</td>\n",
       "      <td>http://kahaanithefilm.com/</td>\n",
       "      <td>tt1821480</td>\n",
       "      <td>hi</td>\n",
       "      <td>Kahaani</td>\n",
       "      <td>Vidya Bagchi (Vidya Balan) arrives in Kolkata ...</td>\n",
       "      <td>3.174936</td>\n",
       "      <td>/aTXRaPrWSinhcmCrcfJK17urp3F.jpg</td>\n",
       "      <td>NaN</td>\n",
       "      <td>[{'iso_3166_1': 'IN', 'name': 'India'}]</td>\n",
       "      <td>...</td>\n",
       "      <td>122.0</td>\n",
       "      <td>[{'iso_639_1': 'en', 'name': 'English'}, {'iso...</td>\n",
       "      <td>Released</td>\n",
       "      <td>NaN</td>\n",
       "      <td>Kahaani</td>\n",
       "      <td>[{'id': 10092, 'name': 'mystery'}, {'id': 1054...</td>\n",
       "      <td>[{'cast_id': 1, 'character': 'Vidya Bagchi', '...</td>\n",
       "      <td>[{'credit_id': '52fe48779251416c9108d6eb', 'de...</td>\n",
       "      <td>16000000</td>\n",
       "      <td>Thriller</td>\n",
       "    </tr>\n",
       "    <tr>\n",
       "      <th>4</th>\n",
       "      <td>22531334.11</td>\n",
       "      <td>NaN</td>\n",
       "      <td>tt1380152</td>\n",
       "      <td>ko</td>\n",
       "      <td>마린보이</td>\n",
       "      <td>Marine Boy is the story of a former national s...</td>\n",
       "      <td>1.148070</td>\n",
       "      <td>/m22s7zvkVFDU9ir56PiiqIEWFdT.jpg</td>\n",
       "      <td>NaN</td>\n",
       "      <td>[{'iso_3166_1': 'KR', 'name': 'South Korea'}]</td>\n",
       "      <td>...</td>\n",
       "      <td>118.0</td>\n",
       "      <td>[{'iso_639_1': 'ko', 'name': '한국어/조선말'}]</td>\n",
       "      <td>Released</td>\n",
       "      <td>NaN</td>\n",
       "      <td>Marine Boy</td>\n",
       "      <td>NaN</td>\n",
       "      <td>[{'cast_id': 3, 'character': 'Chun-soo', 'cred...</td>\n",
       "      <td>[{'credit_id': '52fe464b9251416c75073b43', 'de...</td>\n",
       "      <td>3923970</td>\n",
       "      <td>Action</td>\n",
       "    </tr>\n",
       "  </tbody>\n",
       "</table>\n",
       "<p>5 rows × 21 columns</p>\n",
       "</div>"
      ],
      "text/plain": [
       "        budget                           homepage    imdb_id  \\\n",
       "0  14000000.00                                NaN  tt2637294   \n",
       "1  40000000.00                                NaN  tt0368933   \n",
       "2   3300000.00  http://sonyclassics.com/whiplash/  tt2582802   \n",
       "3   1200000.00         http://kahaanithefilm.com/  tt1821480   \n",
       "4  22531334.11                                NaN  tt1380152   \n",
       "\n",
       "  original_language                            original_title  \\\n",
       "0                en                    Hot Tub Time Machine 2   \n",
       "1                en  The Princess Diaries 2: Royal Engagement   \n",
       "2                en                                  Whiplash   \n",
       "3                hi                                   Kahaani   \n",
       "4                ko                                      마린보이   \n",
       "\n",
       "                                            overview  popularity  \\\n",
       "0  When Lou, who has become the \"father of the In...    6.575393   \n",
       "1  Mia Thermopolis is now a college graduate and ...    8.248895   \n",
       "2  Under the direction of a ruthless instructor, ...   64.299990   \n",
       "3  Vidya Bagchi (Vidya Balan) arrives in Kolkata ...    3.174936   \n",
       "4  Marine Boy is the story of a former national s...    1.148070   \n",
       "\n",
       "                        poster_path  \\\n",
       "0  /tQtWuwvMf0hCc2QR2tkolwl7c3c.jpg   \n",
       "1  /w9Z7A0GHEhIp7etpj0vyKOeU1Wx.jpg   \n",
       "2  /lIv1QinFqz4dlp5U4lQ6HaiskOZ.jpg   \n",
       "3  /aTXRaPrWSinhcmCrcfJK17urp3F.jpg   \n",
       "4  /m22s7zvkVFDU9ir56PiiqIEWFdT.jpg   \n",
       "\n",
       "                                production_companies  \\\n",
       "0  [{'name': 'Paramount Pictures', 'id': 4}, {'na...   \n",
       "1        [{'name': 'Walt Disney Pictures', 'id': 2}]   \n",
       "2  [{'name': 'Bold Films', 'id': 2266}, {'name': ...   \n",
       "3                                                NaN   \n",
       "4                                                NaN   \n",
       "\n",
       "                                production_countries  ... runtime  \\\n",
       "0  [{'iso_3166_1': 'US', 'name': 'United States o...  ...    93.0   \n",
       "1  [{'iso_3166_1': 'US', 'name': 'United States o...  ...   113.0   \n",
       "2  [{'iso_3166_1': 'US', 'name': 'United States o...  ...   105.0   \n",
       "3            [{'iso_3166_1': 'IN', 'name': 'India'}]  ...   122.0   \n",
       "4      [{'iso_3166_1': 'KR', 'name': 'South Korea'}]  ...   118.0   \n",
       "\n",
       "                                    spoken_languages    status  \\\n",
       "0           [{'iso_639_1': 'en', 'name': 'English'}]  Released   \n",
       "1           [{'iso_639_1': 'en', 'name': 'English'}]  Released   \n",
       "2           [{'iso_639_1': 'en', 'name': 'English'}]  Released   \n",
       "3  [{'iso_639_1': 'en', 'name': 'English'}, {'iso...  Released   \n",
       "4           [{'iso_639_1': 'ko', 'name': '한국어/조선말'}]  Released   \n",
       "\n",
       "                                             tagline  \\\n",
       "0  The Laws of Space and Time are About to be Vio...   \n",
       "1  It can take a lifetime to find true love; she'...   \n",
       "2    The road to greatness can take you to the edge.   \n",
       "3                                                NaN   \n",
       "4                                                NaN   \n",
       "\n",
       "                                      title  \\\n",
       "0                    Hot Tub Time Machine 2   \n",
       "1  The Princess Diaries 2: Royal Engagement   \n",
       "2                                  Whiplash   \n",
       "3                                   Kahaani   \n",
       "4                                Marine Boy   \n",
       "\n",
       "                                            Keywords  \\\n",
       "0  [{'id': 4379, 'name': 'time travel'}, {'id': 9...   \n",
       "1  [{'id': 2505, 'name': 'coronation'}, {'id': 42...   \n",
       "2  [{'id': 1416, 'name': 'jazz'}, {'id': 1523, 'n...   \n",
       "3  [{'id': 10092, 'name': 'mystery'}, {'id': 1054...   \n",
       "4                                                NaN   \n",
       "\n",
       "                                                cast  \\\n",
       "0  [{'cast_id': 4, 'character': 'Lou', 'credit_id...   \n",
       "1  [{'cast_id': 1, 'character': 'Mia Thermopolis'...   \n",
       "2  [{'cast_id': 5, 'character': 'Andrew Neimann',...   \n",
       "3  [{'cast_id': 1, 'character': 'Vidya Bagchi', '...   \n",
       "4  [{'cast_id': 3, 'character': 'Chun-soo', 'cred...   \n",
       "\n",
       "                                                crew   revenue  genre_name  \n",
       "0  [{'credit_id': '59ac067c92514107af02c8c8', 'de...  12314651      Comedy  \n",
       "1  [{'credit_id': '52fe43fe9251416c7502563d', 'de...  95149435      Comedy  \n",
       "2  [{'credit_id': '54d5356ec3a3683ba0000039', 'de...  13092000       Drama  \n",
       "3  [{'credit_id': '52fe48779251416c9108d6eb', 'de...  16000000    Thriller  \n",
       "4  [{'credit_id': '52fe464b9251416c75073b43', 'de...   3923970      Action  \n",
       "\n",
       "[5 rows x 21 columns]"
      ]
     },
     "execution_count": 13,
     "metadata": {},
     "output_type": "execute_result"
    }
   ],
   "source": [
    "j = 0\n",
    "for i in trainData['genres']:\n",
    "    d = get_dict(i)\n",
    "    if d != {}:\n",
    "        trainData['genre_name'][j] = d[0]['name'] \n",
    "    else:\n",
    "         trainData['genre_name'][j] = np.NaN\n",
    "    j += 1\n",
    "\n",
    "j = 0\n",
    "for i in testData['genres']:\n",
    "    d = get_dict(i)\n",
    "    if d != {}:\n",
    "        testData['genre_name'][j] = d[0]['name'] \n",
    "    else:\n",
    "         testData['genre_name'][j] = np.NaN\n",
    "    j += 1\n",
    "trainData.drop(['genres'], axis=1, inplace=True)\n",
    "testData.drop(['genres'], axis=1, inplace=True)\n",
    "trainData.head()\n"
   ]
  },
  {
   "cell_type": "code",
<<<<<<< HEAD
   "execution_count": 14,
   "id": "3922fad8",
=======
   "execution_count": 16,
   "id": "057128d2",
>>>>>>> parent of 5b3df61 (6 feature analysis)
   "metadata": {},
   "outputs": [
    {
     "data": {
      "text/plain": [
       "2978"
      ]
     },
     "execution_count": 16,
     "metadata": {},
     "output_type": "execute_result"
    }
   ],
   "source": [
    "\n",
    "testData['homepage'].isnull().sum()"
   ]
  },
  {
   "cell_type": "code",
<<<<<<< HEAD
   "execution_count": 15,
   "id": "cbaf57a9",
=======
   "execution_count": 17,
   "id": "aa44ffaa",
>>>>>>> parent of 5b3df61 (6 feature analysis)
   "metadata": {},
   "outputs": [
    {
     "data": {
      "text/plain": [
       "2054"
      ]
     },
     "execution_count": 17,
     "metadata": {},
     "output_type": "execute_result"
    }
   ],
   "source": [
    "trainData['homepage'].isnull().sum()"
   ]
  },
  {
   "cell_type": "code",
<<<<<<< HEAD
   "execution_count": 16,
   "id": "d6cd009e",
=======
   "execution_count": 18,
   "id": "f1b71595",
>>>>>>> parent of 5b3df61 (6 feature analysis)
   "metadata": {},
   "outputs": [],
   "source": [
    "Homepage=pd.DataFrame(columns=['Homepage'])\n",
    "trainData=pd.concat([trainData,Homepage],axis=1)\n",
    "testData=pd.concat([testData,Homepage],axis=1)"
   ]
  },
  {
   "cell_type": "code",
<<<<<<< HEAD
   "execution_count": 17,
   "id": "bf51bb75",
=======
   "execution_count": 19,
   "id": "0261e83e",
>>>>>>> parent of 5b3df61 (6 feature analysis)
   "metadata": {},
   "outputs": [
    {
     "name": "stderr",
     "output_type": "stream",
     "text": [
<<<<<<< HEAD
      "C:\\Users\\moham\\AppData\\Local\\Temp/ipykernel_15976/3964125983.py:4: SettingWithCopyWarning: \n",
=======
      "C:\\Users\\moham\\AppData\\Local\\Temp/ipykernel_12872/3964125983.py:4: SettingWithCopyWarning: \n",
>>>>>>> parent of 5b3df61 (6 feature analysis)
      "A value is trying to be set on a copy of a slice from a DataFrame\n",
      "\n",
      "See the caveats in the documentation: https://pandas.pydata.org/pandas-docs/stable/user_guide/indexing.html#returning-a-view-versus-a-copy\n",
      "  trainData['Homepage'][j] = 0\n",
<<<<<<< HEAD
      "C:\\Users\\moham\\AppData\\Local\\Temp/ipykernel_15976/3964125983.py:6: SettingWithCopyWarning: \n",
=======
      "C:\\Users\\moham\\AppData\\Local\\Temp/ipykernel_12872/3964125983.py:6: SettingWithCopyWarning: \n",
>>>>>>> parent of 5b3df61 (6 feature analysis)
      "A value is trying to be set on a copy of a slice from a DataFrame\n",
      "\n",
      "See the caveats in the documentation: https://pandas.pydata.org/pandas-docs/stable/user_guide/indexing.html#returning-a-view-versus-a-copy\n",
      "  trainData['Homepage'][j] = 1\n",
<<<<<<< HEAD
      "C:\\Users\\moham\\AppData\\Local\\Temp/ipykernel_15976/3964125983.py:14: SettingWithCopyWarning: \n",
=======
      "C:\\Users\\moham\\AppData\\Local\\Temp/ipykernel_12872/3964125983.py:14: SettingWithCopyWarning: \n",
>>>>>>> parent of 5b3df61 (6 feature analysis)
      "A value is trying to be set on a copy of a slice from a DataFrame\n",
      "\n",
      "See the caveats in the documentation: https://pandas.pydata.org/pandas-docs/stable/user_guide/indexing.html#returning-a-view-versus-a-copy\n",
      "  testData['Homepage'][j] = 1\n",
<<<<<<< HEAD
      "C:\\Users\\moham\\AppData\\Local\\Temp/ipykernel_15976/3964125983.py:12: SettingWithCopyWarning: \n",
=======
      "C:\\Users\\moham\\AppData\\Local\\Temp/ipykernel_12872/3964125983.py:12: SettingWithCopyWarning: \n",
>>>>>>> parent of 5b3df61 (6 feature analysis)
      "A value is trying to be set on a copy of a slice from a DataFrame\n",
      "\n",
      "See the caveats in the documentation: https://pandas.pydata.org/pandas-docs/stable/user_guide/indexing.html#returning-a-view-versus-a-copy\n",
      "  testData['Homepage'][j] = 0\n"
     ]
    },
    {
     "data": {
      "text/html": [
       "<div>\n",
       "<style scoped>\n",
       "    .dataframe tbody tr th:only-of-type {\n",
       "        vertical-align: middle;\n",
       "    }\n",
       "\n",
       "    .dataframe tbody tr th {\n",
       "        vertical-align: top;\n",
       "    }\n",
       "\n",
       "    .dataframe thead th {\n",
       "        text-align: right;\n",
       "    }\n",
       "</style>\n",
       "<table border=\"1\" class=\"dataframe\">\n",
       "  <thead>\n",
       "    <tr style=\"text-align: right;\">\n",
       "      <th></th>\n",
       "      <th>budget</th>\n",
       "      <th>homepage</th>\n",
       "      <th>imdb_id</th>\n",
       "      <th>original_language</th>\n",
       "      <th>original_title</th>\n",
       "      <th>overview</th>\n",
       "      <th>popularity</th>\n",
       "      <th>poster_path</th>\n",
       "      <th>production_companies</th>\n",
       "      <th>production_countries</th>\n",
       "      <th>...</th>\n",
       "      <th>spoken_languages</th>\n",
       "      <th>status</th>\n",
       "      <th>tagline</th>\n",
       "      <th>title</th>\n",
       "      <th>Keywords</th>\n",
       "      <th>cast</th>\n",
       "      <th>crew</th>\n",
       "      <th>revenue</th>\n",
       "      <th>genre_name</th>\n",
       "      <th>Homepage</th>\n",
       "    </tr>\n",
       "  </thead>\n",
       "  <tbody>\n",
       "    <tr>\n",
       "      <th>0</th>\n",
       "      <td>14000000.00</td>\n",
       "      <td>NaN</td>\n",
       "      <td>tt2637294</td>\n",
       "      <td>en</td>\n",
       "      <td>Hot Tub Time Machine 2</td>\n",
       "      <td>When Lou, who has become the \"father of the In...</td>\n",
       "      <td>6.575393</td>\n",
       "      <td>/tQtWuwvMf0hCc2QR2tkolwl7c3c.jpg</td>\n",
       "      <td>[{'name': 'Paramount Pictures', 'id': 4}, {'na...</td>\n",
       "      <td>[{'iso_3166_1': 'US', 'name': 'United States o...</td>\n",
       "      <td>...</td>\n",
       "      <td>[{'iso_639_1': 'en', 'name': 'English'}]</td>\n",
       "      <td>Released</td>\n",
       "      <td>The Laws of Space and Time are About to be Vio...</td>\n",
       "      <td>Hot Tub Time Machine 2</td>\n",
       "      <td>[{'id': 4379, 'name': 'time travel'}, {'id': 9...</td>\n",
       "      <td>[{'cast_id': 4, 'character': 'Lou', 'credit_id...</td>\n",
       "      <td>[{'credit_id': '59ac067c92514107af02c8c8', 'de...</td>\n",
       "      <td>12314651</td>\n",
       "      <td>Comedy</td>\n",
       "      <td>0</td>\n",
       "    </tr>\n",
       "    <tr>\n",
       "      <th>1</th>\n",
       "      <td>40000000.00</td>\n",
       "      <td>NaN</td>\n",
       "      <td>tt0368933</td>\n",
       "      <td>en</td>\n",
       "      <td>The Princess Diaries 2: Royal Engagement</td>\n",
       "      <td>Mia Thermopolis is now a college graduate and ...</td>\n",
       "      <td>8.248895</td>\n",
       "      <td>/w9Z7A0GHEhIp7etpj0vyKOeU1Wx.jpg</td>\n",
       "      <td>[{'name': 'Walt Disney Pictures', 'id': 2}]</td>\n",
       "      <td>[{'iso_3166_1': 'US', 'name': 'United States o...</td>\n",
       "      <td>...</td>\n",
       "      <td>[{'iso_639_1': 'en', 'name': 'English'}]</td>\n",
       "      <td>Released</td>\n",
       "      <td>It can take a lifetime to find true love; she'...</td>\n",
       "      <td>The Princess Diaries 2: Royal Engagement</td>\n",
       "      <td>[{'id': 2505, 'name': 'coronation'}, {'id': 42...</td>\n",
       "      <td>[{'cast_id': 1, 'character': 'Mia Thermopolis'...</td>\n",
       "      <td>[{'credit_id': '52fe43fe9251416c7502563d', 'de...</td>\n",
       "      <td>95149435</td>\n",
       "      <td>Comedy</td>\n",
       "      <td>0</td>\n",
       "    </tr>\n",
       "    <tr>\n",
       "      <th>2</th>\n",
       "      <td>3300000.00</td>\n",
       "      <td>http://sonyclassics.com/whiplash/</td>\n",
       "      <td>tt2582802</td>\n",
       "      <td>en</td>\n",
       "      <td>Whiplash</td>\n",
       "      <td>Under the direction of a ruthless instructor, ...</td>\n",
       "      <td>64.299990</td>\n",
       "      <td>/lIv1QinFqz4dlp5U4lQ6HaiskOZ.jpg</td>\n",
       "      <td>[{'name': 'Bold Films', 'id': 2266}, {'name': ...</td>\n",
       "      <td>[{'iso_3166_1': 'US', 'name': 'United States o...</td>\n",
       "      <td>...</td>\n",
       "      <td>[{'iso_639_1': 'en', 'name': 'English'}]</td>\n",
       "      <td>Released</td>\n",
       "      <td>The road to greatness can take you to the edge.</td>\n",
       "      <td>Whiplash</td>\n",
       "      <td>[{'id': 1416, 'name': 'jazz'}, {'id': 1523, 'n...</td>\n",
       "      <td>[{'cast_id': 5, 'character': 'Andrew Neimann',...</td>\n",
       "      <td>[{'credit_id': '54d5356ec3a3683ba0000039', 'de...</td>\n",
       "      <td>13092000</td>\n",
       "      <td>Drama</td>\n",
       "      <td>1</td>\n",
       "    </tr>\n",
       "    <tr>\n",
       "      <th>3</th>\n",
       "      <td>1200000.00</td>\n",
       "      <td>http://kahaanithefilm.com/</td>\n",
       "      <td>tt1821480</td>\n",
       "      <td>hi</td>\n",
       "      <td>Kahaani</td>\n",
       "      <td>Vidya Bagchi (Vidya Balan) arrives in Kolkata ...</td>\n",
       "      <td>3.174936</td>\n",
       "      <td>/aTXRaPrWSinhcmCrcfJK17urp3F.jpg</td>\n",
       "      <td>NaN</td>\n",
       "      <td>[{'iso_3166_1': 'IN', 'name': 'India'}]</td>\n",
       "      <td>...</td>\n",
       "      <td>[{'iso_639_1': 'en', 'name': 'English'}, {'iso...</td>\n",
       "      <td>Released</td>\n",
       "      <td>NaN</td>\n",
       "      <td>Kahaani</td>\n",
       "      <td>[{'id': 10092, 'name': 'mystery'}, {'id': 1054...</td>\n",
       "      <td>[{'cast_id': 1, 'character': 'Vidya Bagchi', '...</td>\n",
       "      <td>[{'credit_id': '52fe48779251416c9108d6eb', 'de...</td>\n",
       "      <td>16000000</td>\n",
       "      <td>Thriller</td>\n",
       "      <td>1</td>\n",
       "    </tr>\n",
       "    <tr>\n",
       "      <th>4</th>\n",
       "      <td>22531334.11</td>\n",
       "      <td>NaN</td>\n",
       "      <td>tt1380152</td>\n",
       "      <td>ko</td>\n",
       "      <td>마린보이</td>\n",
       "      <td>Marine Boy is the story of a former national s...</td>\n",
       "      <td>1.148070</td>\n",
       "      <td>/m22s7zvkVFDU9ir56PiiqIEWFdT.jpg</td>\n",
       "      <td>NaN</td>\n",
       "      <td>[{'iso_3166_1': 'KR', 'name': 'South Korea'}]</td>\n",
       "      <td>...</td>\n",
       "      <td>[{'iso_639_1': 'ko', 'name': '한국어/조선말'}]</td>\n",
       "      <td>Released</td>\n",
       "      <td>NaN</td>\n",
       "      <td>Marine Boy</td>\n",
       "      <td>NaN</td>\n",
       "      <td>[{'cast_id': 3, 'character': 'Chun-soo', 'cred...</td>\n",
       "      <td>[{'credit_id': '52fe464b9251416c75073b43', 'de...</td>\n",
       "      <td>3923970</td>\n",
       "      <td>Action</td>\n",
       "      <td>0</td>\n",
       "    </tr>\n",
       "  </tbody>\n",
       "</table>\n",
       "<p>5 rows × 22 columns</p>\n",
       "</div>"
      ],
      "text/plain": [
       "        budget                           homepage    imdb_id  \\\n",
       "0  14000000.00                                NaN  tt2637294   \n",
       "1  40000000.00                                NaN  tt0368933   \n",
       "2   3300000.00  http://sonyclassics.com/whiplash/  tt2582802   \n",
       "3   1200000.00         http://kahaanithefilm.com/  tt1821480   \n",
       "4  22531334.11                                NaN  tt1380152   \n",
       "\n",
       "  original_language                            original_title  \\\n",
       "0                en                    Hot Tub Time Machine 2   \n",
       "1                en  The Princess Diaries 2: Royal Engagement   \n",
       "2                en                                  Whiplash   \n",
       "3                hi                                   Kahaani   \n",
       "4                ko                                      마린보이   \n",
       "\n",
       "                                            overview  popularity  \\\n",
       "0  When Lou, who has become the \"father of the In...    6.575393   \n",
       "1  Mia Thermopolis is now a college graduate and ...    8.248895   \n",
       "2  Under the direction of a ruthless instructor, ...   64.299990   \n",
       "3  Vidya Bagchi (Vidya Balan) arrives in Kolkata ...    3.174936   \n",
       "4  Marine Boy is the story of a former national s...    1.148070   \n",
       "\n",
       "                        poster_path  \\\n",
       "0  /tQtWuwvMf0hCc2QR2tkolwl7c3c.jpg   \n",
       "1  /w9Z7A0GHEhIp7etpj0vyKOeU1Wx.jpg   \n",
       "2  /lIv1QinFqz4dlp5U4lQ6HaiskOZ.jpg   \n",
       "3  /aTXRaPrWSinhcmCrcfJK17urp3F.jpg   \n",
       "4  /m22s7zvkVFDU9ir56PiiqIEWFdT.jpg   \n",
       "\n",
       "                                production_companies  \\\n",
       "0  [{'name': 'Paramount Pictures', 'id': 4}, {'na...   \n",
       "1        [{'name': 'Walt Disney Pictures', 'id': 2}]   \n",
       "2  [{'name': 'Bold Films', 'id': 2266}, {'name': ...   \n",
       "3                                                NaN   \n",
       "4                                                NaN   \n",
       "\n",
       "                                production_countries  ...  \\\n",
       "0  [{'iso_3166_1': 'US', 'name': 'United States o...  ...   \n",
       "1  [{'iso_3166_1': 'US', 'name': 'United States o...  ...   \n",
       "2  [{'iso_3166_1': 'US', 'name': 'United States o...  ...   \n",
       "3            [{'iso_3166_1': 'IN', 'name': 'India'}]  ...   \n",
       "4      [{'iso_3166_1': 'KR', 'name': 'South Korea'}]  ...   \n",
       "\n",
       "                                    spoken_languages    status  \\\n",
       "0           [{'iso_639_1': 'en', 'name': 'English'}]  Released   \n",
       "1           [{'iso_639_1': 'en', 'name': 'English'}]  Released   \n",
       "2           [{'iso_639_1': 'en', 'name': 'English'}]  Released   \n",
       "3  [{'iso_639_1': 'en', 'name': 'English'}, {'iso...  Released   \n",
       "4           [{'iso_639_1': 'ko', 'name': '한국어/조선말'}]  Released   \n",
       "\n",
       "                                             tagline  \\\n",
       "0  The Laws of Space and Time are About to be Vio...   \n",
       "1  It can take a lifetime to find true love; she'...   \n",
       "2    The road to greatness can take you to the edge.   \n",
       "3                                                NaN   \n",
       "4                                                NaN   \n",
       "\n",
       "                                      title  \\\n",
       "0                    Hot Tub Time Machine 2   \n",
       "1  The Princess Diaries 2: Royal Engagement   \n",
       "2                                  Whiplash   \n",
       "3                                   Kahaani   \n",
       "4                                Marine Boy   \n",
       "\n",
       "                                            Keywords  \\\n",
       "0  [{'id': 4379, 'name': 'time travel'}, {'id': 9...   \n",
       "1  [{'id': 2505, 'name': 'coronation'}, {'id': 42...   \n",
       "2  [{'id': 1416, 'name': 'jazz'}, {'id': 1523, 'n...   \n",
       "3  [{'id': 10092, 'name': 'mystery'}, {'id': 1054...   \n",
       "4                                                NaN   \n",
       "\n",
       "                                                cast  \\\n",
       "0  [{'cast_id': 4, 'character': 'Lou', 'credit_id...   \n",
       "1  [{'cast_id': 1, 'character': 'Mia Thermopolis'...   \n",
       "2  [{'cast_id': 5, 'character': 'Andrew Neimann',...   \n",
       "3  [{'cast_id': 1, 'character': 'Vidya Bagchi', '...   \n",
       "4  [{'cast_id': 3, 'character': 'Chun-soo', 'cred...   \n",
       "\n",
       "                                                crew   revenue genre_name  \\\n",
       "0  [{'credit_id': '59ac067c92514107af02c8c8', 'de...  12314651     Comedy   \n",
       "1  [{'credit_id': '52fe43fe9251416c7502563d', 'de...  95149435     Comedy   \n",
       "2  [{'credit_id': '54d5356ec3a3683ba0000039', 'de...  13092000      Drama   \n",
       "3  [{'credit_id': '52fe48779251416c9108d6eb', 'de...  16000000   Thriller   \n",
       "4  [{'credit_id': '52fe464b9251416c75073b43', 'de...   3923970     Action   \n",
       "\n",
       "   Homepage  \n",
       "0         0  \n",
       "1         0  \n",
       "2         1  \n",
       "3         1  \n",
       "4         0  \n",
       "\n",
       "[5 rows x 22 columns]"
      ]
     },
     "execution_count": 19,
     "metadata": {},
     "output_type": "execute_result"
    }
   ],
   "source": [
    "j = 0\n",
    "for i in trainData['homepage']:\n",
    "    if str(trainData['homepage'][j]) == 'nan':\n",
    "        trainData['Homepage'][j] = 0\n",
    "    else:\n",
    "        trainData['Homepage'][j] = 1\n",
    "    j += 1\n",
    "\n",
    "j = 0\n",
    "for i in testData['homepage']:\n",
    "    if str( testData['homepage'][j]) == 'nan':\n",
    "         testData['Homepage'][j] = 0\n",
    "    else:\n",
    "         testData['Homepage'][j] = 1\n",
    "    j += 1\n",
    "trainData.head()"
   ]
  },
  {
   "cell_type": "code",
<<<<<<< HEAD
   "execution_count": 18,
   "id": "81e00fa2",
=======
   "execution_count": 20,
   "id": "71af6f6d",
>>>>>>> parent of 5b3df61 (6 feature analysis)
   "metadata": {},
   "outputs": [
    {
     "data": {
      "text/plain": [
       "0    0\n",
       "1    0\n",
       "2    1\n",
       "3    1\n",
       "4    0\n",
       "Name: Homepage, dtype: object"
      ]
     },
     "execution_count": 20,
     "metadata": {},
     "output_type": "execute_result"
    }
   ],
   "source": [
    "trainData.drop(['homepage'], axis=1, inplace=True)\n",
    "testData.drop(['homepage'], axis=1, inplace=True)\n",
    "trainData[\"Homepage\"].head()\n"
   ]
  },
  {
   "cell_type": "code",
<<<<<<< HEAD
   "execution_count": 19,
   "id": "b7027cf9",
=======
   "execution_count": 22,
   "id": "1a71f29e",
>>>>>>> parent of 5b3df61 (6 feature analysis)
   "metadata": {},
   "outputs": [
    {
     "data": {
      "text/plain": [
       "<seaborn.axisgrid.FacetGrid at 0x2160262d640>"
      ]
     },
<<<<<<< HEAD
     "execution_count": 19,
=======
     "execution_count": 22,
>>>>>>> parent of 5b3df61 (6 feature analysis)
     "metadata": {},
     "output_type": "execute_result"
    },
    {
     "data": {
      "image/png": "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\n",
      "text/plain": [
       "<Figure size 360x360 with 1 Axes>"
      ]
     },
     "metadata": {
      "needs_background": "light"
     },
     "output_type": "display_data"
    }
   ],
   "source": [
    "\n",
    "sns.catplot(x='Homepage',y='revenue',data=trainData)\n",
    "\n",
    "\n",
    "\n"
   ]
  },
  {
   "cell_type": "code",
<<<<<<< HEAD
   "execution_count": 20,
   "id": "6fc22b44",
=======
   "execution_count": null,
   "id": "18c5ba1c",
>>>>>>> parent of 5b3df61 (6 feature analysis)
   "metadata": {},
   "outputs": [],
   "source": [
    "#imbd_id"
   ]
  },
  {
   "cell_type": "code",
<<<<<<< HEAD
   "execution_count": 21,
   "id": "9721b1dd",
=======
   "execution_count": null,
   "id": "27b1293b",
>>>>>>> parent of 5b3df61 (6 feature analysis)
   "metadata": {},
   "outputs": [],
   "source": [
    "trainData.drop(['imdb_id'], axis=1, inplace=True)\n",
    "testData.drop(['imdb_id'], axis=1, inplace=True)\n"
   ]
  },
  {
   "cell_type": "code",
<<<<<<< HEAD
   "execution_count": 22,
   "id": "83161c17",
=======
   "execution_count": null,
   "id": "0a0bd7c5",
>>>>>>> parent of 5b3df61 (6 feature analysis)
   "metadata": {},
   "outputs": [],
   "source": [
    "#original_language\t"
   ]
  },
  {
   "cell_type": "code",
<<<<<<< HEAD
   "execution_count": 23,
   "id": "9b623923",
=======
   "execution_count": 24,
   "id": "a55e116f",
>>>>>>> parent of 5b3df61 (6 feature analysis)
   "metadata": {},
   "outputs": [
    {
     "name": "stdout",
     "output_type": "stream",
     "text": [
      "0 en\n",
      "1 en\n",
      "2 en\n",
      "3 hi\n",
      "4 ko\n"
     ]
    }
   ],
   "source": [
    "for i,e in enumerate(trainData['original_language'][:5]):\n",
    "    print(i,e)"
   ]
  },
  {
   "cell_type": "code",
   "execution_count": 29,
   "id": "81459b48",
   "metadata": {},
   "outputs": [
    {
     "name": "stderr",
     "output_type": "stream",
     "text": [
      "C:\\Users\\moham\\anaconda3\\lib\\site-packages\\seaborn\\_decorators.py:36: FutureWarning: Pass the following variables as keyword args: x, y. From version 0.12, the only valid positional argument will be `data`, and passing other arguments without an explicit keyword will result in an error or misinterpretation.\n",
      "  warnings.warn(\n"
     ]
    },
    {
     "data": {
      "text/plain": [
       "<AxesSubplot:xlabel='original_language', ylabel='revenue'>"
      ]
     },
     "execution_count": 29,
     "metadata": {},
     "output_type": "execute_result"
    },
    {
     "data": {
      "image/png": "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\n",
      "text/plain": [
       "<Figure size 864x648 with 1 Axes>"
      ]
     },
     "metadata": {
      "needs_background": "light"
     },
     "output_type": "display_data"
    }
   ],
   "source": [
    "plt.subplots(figsize=(12, 9))\n",
    "sns.boxplot('original_language','revenue',data=trainData)\n",
    "\n"
   ]
  },
  {
   "cell_type": "code",
<<<<<<< HEAD
   "execution_count": 25,
   "id": "c71b2b7b",
=======
   "execution_count": 30,
   "id": "a5c61d18",
>>>>>>> parent of 5b3df61 (6 feature analysis)
   "metadata": {},
   "outputs": [
    {
     "data": {
      "text/html": [
       "<div>\n",
       "<style scoped>\n",
       "    .dataframe tbody tr th:only-of-type {\n",
       "        vertical-align: middle;\n",
       "    }\n",
       "\n",
       "    .dataframe tbody tr th {\n",
       "        vertical-align: top;\n",
       "    }\n",
       "\n",
       "    .dataframe thead th {\n",
       "        text-align: right;\n",
       "    }\n",
       "</style>\n",
       "<table border=\"1\" class=\"dataframe\">\n",
       "  <thead>\n",
       "    <tr style=\"text-align: right;\">\n",
       "      <th></th>\n",
       "      <th>budget</th>\n",
       "      <th>imdb_id</th>\n",
       "      <th>original_language</th>\n",
       "      <th>original_title</th>\n",
       "      <th>overview</th>\n",
       "      <th>popularity</th>\n",
       "      <th>poster_path</th>\n",
       "      <th>production_companies</th>\n",
       "      <th>production_countries</th>\n",
       "      <th>release_date</th>\n",
       "      <th>...</th>\n",
       "      <th>status</th>\n",
       "      <th>tagline</th>\n",
       "      <th>title</th>\n",
       "      <th>Keywords</th>\n",
       "      <th>cast</th>\n",
       "      <th>crew</th>\n",
       "      <th>revenue</th>\n",
       "      <th>genre_name</th>\n",
       "      <th>Homepage</th>\n",
       "      <th>Has_En</th>\n",
       "    </tr>\n",
       "  </thead>\n",
       "  <tbody>\n",
       "    <tr>\n",
       "      <th>0</th>\n",
       "      <td>14000000.00</td>\n",
       "      <td>tt2637294</td>\n",
       "      <td>en</td>\n",
       "      <td>Hot Tub Time Machine 2</td>\n",
       "      <td>When Lou, who has become the \"father of the In...</td>\n",
       "      <td>6.575393</td>\n",
       "      <td>/tQtWuwvMf0hCc2QR2tkolwl7c3c.jpg</td>\n",
       "      <td>[{'name': 'Paramount Pictures', 'id': 4}, {'na...</td>\n",
       "      <td>[{'iso_3166_1': 'US', 'name': 'United States o...</td>\n",
       "      <td>2/20/15</td>\n",
       "      <td>...</td>\n",
       "      <td>Released</td>\n",
       "      <td>The Laws of Space and Time are About to be Vio...</td>\n",
       "      <td>Hot Tub Time Machine 2</td>\n",
       "      <td>[{'id': 4379, 'name': 'time travel'}, {'id': 9...</td>\n",
       "      <td>[{'cast_id': 4, 'character': 'Lou', 'credit_id...</td>\n",
       "      <td>[{'credit_id': '59ac067c92514107af02c8c8', 'de...</td>\n",
       "      <td>12314651</td>\n",
       "      <td>Comedy</td>\n",
       "      <td>0</td>\n",
       "      <td>1</td>\n",
       "    </tr>\n",
       "    <tr>\n",
       "      <th>1</th>\n",
       "      <td>40000000.00</td>\n",
       "      <td>tt0368933</td>\n",
       "      <td>en</td>\n",
       "      <td>The Princess Diaries 2: Royal Engagement</td>\n",
       "      <td>Mia Thermopolis is now a college graduate and ...</td>\n",
       "      <td>8.248895</td>\n",
       "      <td>/w9Z7A0GHEhIp7etpj0vyKOeU1Wx.jpg</td>\n",
       "      <td>[{'name': 'Walt Disney Pictures', 'id': 2}]</td>\n",
       "      <td>[{'iso_3166_1': 'US', 'name': 'United States o...</td>\n",
       "      <td>8/6/04</td>\n",
       "      <td>...</td>\n",
       "      <td>Released</td>\n",
       "      <td>It can take a lifetime to find true love; she'...</td>\n",
       "      <td>The Princess Diaries 2: Royal Engagement</td>\n",
       "      <td>[{'id': 2505, 'name': 'coronation'}, {'id': 42...</td>\n",
       "      <td>[{'cast_id': 1, 'character': 'Mia Thermopolis'...</td>\n",
       "      <td>[{'credit_id': '52fe43fe9251416c7502563d', 'de...</td>\n",
       "      <td>95149435</td>\n",
       "      <td>Comedy</td>\n",
       "      <td>0</td>\n",
       "      <td>1</td>\n",
       "    </tr>\n",
       "    <tr>\n",
       "      <th>2</th>\n",
       "      <td>3300000.00</td>\n",
       "      <td>tt2582802</td>\n",
       "      <td>en</td>\n",
       "      <td>Whiplash</td>\n",
       "      <td>Under the direction of a ruthless instructor, ...</td>\n",
       "      <td>64.299990</td>\n",
       "      <td>/lIv1QinFqz4dlp5U4lQ6HaiskOZ.jpg</td>\n",
       "      <td>[{'name': 'Bold Films', 'id': 2266}, {'name': ...</td>\n",
       "      <td>[{'iso_3166_1': 'US', 'name': 'United States o...</td>\n",
       "      <td>10/10/14</td>\n",
       "      <td>...</td>\n",
       "      <td>Released</td>\n",
       "      <td>The road to greatness can take you to the edge.</td>\n",
       "      <td>Whiplash</td>\n",
       "      <td>[{'id': 1416, 'name': 'jazz'}, {'id': 1523, 'n...</td>\n",
       "      <td>[{'cast_id': 5, 'character': 'Andrew Neimann',...</td>\n",
       "      <td>[{'credit_id': '54d5356ec3a3683ba0000039', 'de...</td>\n",
       "      <td>13092000</td>\n",
       "      <td>Drama</td>\n",
       "      <td>1</td>\n",
       "      <td>1</td>\n",
       "    </tr>\n",
       "    <tr>\n",
       "      <th>3</th>\n",
       "      <td>1200000.00</td>\n",
       "      <td>tt1821480</td>\n",
       "      <td>hi</td>\n",
       "      <td>Kahaani</td>\n",
       "      <td>Vidya Bagchi (Vidya Balan) arrives in Kolkata ...</td>\n",
       "      <td>3.174936</td>\n",
       "      <td>/aTXRaPrWSinhcmCrcfJK17urp3F.jpg</td>\n",
       "      <td>NaN</td>\n",
       "      <td>[{'iso_3166_1': 'IN', 'name': 'India'}]</td>\n",
       "      <td>3/9/12</td>\n",
       "      <td>...</td>\n",
       "      <td>Released</td>\n",
       "      <td>NaN</td>\n",
       "      <td>Kahaani</td>\n",
       "      <td>[{'id': 10092, 'name': 'mystery'}, {'id': 1054...</td>\n",
       "      <td>[{'cast_id': 1, 'character': 'Vidya Bagchi', '...</td>\n",
       "      <td>[{'credit_id': '52fe48779251416c9108d6eb', 'de...</td>\n",
       "      <td>16000000</td>\n",
       "      <td>Thriller</td>\n",
       "      <td>1</td>\n",
       "      <td>1</td>\n",
       "    </tr>\n",
       "    <tr>\n",
       "      <th>4</th>\n",
       "      <td>22531334.11</td>\n",
       "      <td>tt1380152</td>\n",
       "      <td>ko</td>\n",
       "      <td>마린보이</td>\n",
       "      <td>Marine Boy is the story of a former national s...</td>\n",
       "      <td>1.148070</td>\n",
       "      <td>/m22s7zvkVFDU9ir56PiiqIEWFdT.jpg</td>\n",
       "      <td>NaN</td>\n",
       "      <td>[{'iso_3166_1': 'KR', 'name': 'South Korea'}]</td>\n",
       "      <td>2/5/09</td>\n",
       "      <td>...</td>\n",
       "      <td>Released</td>\n",
       "      <td>NaN</td>\n",
       "      <td>Marine Boy</td>\n",
       "      <td>NaN</td>\n",
       "      <td>[{'cast_id': 3, 'character': 'Chun-soo', 'cred...</td>\n",
       "      <td>[{'credit_id': '52fe464b9251416c75073b43', 'de...</td>\n",
       "      <td>3923970</td>\n",
       "      <td>Action</td>\n",
       "      <td>0</td>\n",
       "      <td>1</td>\n",
       "    </tr>\n",
       "  </tbody>\n",
       "</table>\n",
       "<p>5 rows × 22 columns</p>\n",
       "</div>"
      ],
      "text/plain": [
       "        budget    imdb_id original_language  \\\n",
       "0  14000000.00  tt2637294                en   \n",
       "1  40000000.00  tt0368933                en   \n",
       "2   3300000.00  tt2582802                en   \n",
       "3   1200000.00  tt1821480                hi   \n",
       "4  22531334.11  tt1380152                ko   \n",
       "\n",
       "                             original_title  \\\n",
       "0                    Hot Tub Time Machine 2   \n",
       "1  The Princess Diaries 2: Royal Engagement   \n",
       "2                                  Whiplash   \n",
       "3                                   Kahaani   \n",
       "4                                      마린보이   \n",
       "\n",
       "                                            overview  popularity  \\\n",
       "0  When Lou, who has become the \"father of the In...    6.575393   \n",
       "1  Mia Thermopolis is now a college graduate and ...    8.248895   \n",
       "2  Under the direction of a ruthless instructor, ...   64.299990   \n",
       "3  Vidya Bagchi (Vidya Balan) arrives in Kolkata ...    3.174936   \n",
       "4  Marine Boy is the story of a former national s...    1.148070   \n",
       "\n",
       "                        poster_path  \\\n",
       "0  /tQtWuwvMf0hCc2QR2tkolwl7c3c.jpg   \n",
       "1  /w9Z7A0GHEhIp7etpj0vyKOeU1Wx.jpg   \n",
       "2  /lIv1QinFqz4dlp5U4lQ6HaiskOZ.jpg   \n",
       "3  /aTXRaPrWSinhcmCrcfJK17urp3F.jpg   \n",
       "4  /m22s7zvkVFDU9ir56PiiqIEWFdT.jpg   \n",
       "\n",
       "                                production_companies  \\\n",
       "0  [{'name': 'Paramount Pictures', 'id': 4}, {'na...   \n",
       "1        [{'name': 'Walt Disney Pictures', 'id': 2}]   \n",
       "2  [{'name': 'Bold Films', 'id': 2266}, {'name': ...   \n",
       "3                                                NaN   \n",
       "4                                                NaN   \n",
       "\n",
       "                                production_countries release_date  ...  \\\n",
       "0  [{'iso_3166_1': 'US', 'name': 'United States o...      2/20/15  ...   \n",
       "1  [{'iso_3166_1': 'US', 'name': 'United States o...       8/6/04  ...   \n",
       "2  [{'iso_3166_1': 'US', 'name': 'United States o...     10/10/14  ...   \n",
       "3            [{'iso_3166_1': 'IN', 'name': 'India'}]       3/9/12  ...   \n",
       "4      [{'iso_3166_1': 'KR', 'name': 'South Korea'}]       2/5/09  ...   \n",
       "\n",
       "     status                                            tagline  \\\n",
       "0  Released  The Laws of Space and Time are About to be Vio...   \n",
       "1  Released  It can take a lifetime to find true love; she'...   \n",
       "2  Released    The road to greatness can take you to the edge.   \n",
       "3  Released                                                NaN   \n",
       "4  Released                                                NaN   \n",
       "\n",
       "                                      title  \\\n",
       "0                    Hot Tub Time Machine 2   \n",
       "1  The Princess Diaries 2: Royal Engagement   \n",
       "2                                  Whiplash   \n",
       "3                                   Kahaani   \n",
       "4                                Marine Boy   \n",
       "\n",
       "                                            Keywords  \\\n",
       "0  [{'id': 4379, 'name': 'time travel'}, {'id': 9...   \n",
       "1  [{'id': 2505, 'name': 'coronation'}, {'id': 42...   \n",
       "2  [{'id': 1416, 'name': 'jazz'}, {'id': 1523, 'n...   \n",
       "3  [{'id': 10092, 'name': 'mystery'}, {'id': 1054...   \n",
       "4                                                NaN   \n",
       "\n",
       "                                                cast  \\\n",
       "0  [{'cast_id': 4, 'character': 'Lou', 'credit_id...   \n",
       "1  [{'cast_id': 1, 'character': 'Mia Thermopolis'...   \n",
       "2  [{'cast_id': 5, 'character': 'Andrew Neimann',...   \n",
       "3  [{'cast_id': 1, 'character': 'Vidya Bagchi', '...   \n",
       "4  [{'cast_id': 3, 'character': 'Chun-soo', 'cred...   \n",
       "\n",
       "                                                crew   revenue genre_name  \\\n",
       "0  [{'credit_id': '59ac067c92514107af02c8c8', 'de...  12314651     Comedy   \n",
       "1  [{'credit_id': '52fe43fe9251416c7502563d', 'de...  95149435     Comedy   \n",
       "2  [{'credit_id': '54d5356ec3a3683ba0000039', 'de...  13092000      Drama   \n",
       "3  [{'credit_id': '52fe48779251416c9108d6eb', 'de...  16000000   Thriller   \n",
       "4  [{'credit_id': '52fe464b9251416c75073b43', 'de...   3923970     Action   \n",
       "\n",
       "   Homepage Has_En  \n",
       "0         0      1  \n",
       "1         0      1  \n",
       "2         1      1  \n",
       "3         1      1  \n",
       "4         0      1  \n",
       "\n",
       "[5 rows x 22 columns]"
      ]
     },
<<<<<<< HEAD
     "execution_count": 25,
=======
     "execution_count": 30,
>>>>>>> parent of 5b3df61 (6 feature analysis)
     "metadata": {},
     "output_type": "execute_result"
    }
   ],
   "source": [
    "\n",
    "for i in trainData['original_language']:\n",
    "    if(i=='en'):\n",
    "        trainData['Has_En']=1\n",
    "    else:\n",
    "        trainData['Has_En']=0\n",
    "for i in testData['original_language']:\n",
    "    if(i=='en'):\n",
    "        testData['Has_En']=1\n",
    "    else:\n",
    "        testData['Has_En']=0\n",
    "\n",
    "trainDatainData.head()\n"
   ]
  },
  {
   "cell_type": "code",
<<<<<<< HEAD
   "execution_count": 26,
   "id": "0c137665",
=======
   "execution_count": null,
   "id": "e75fe7db",
>>>>>>> parent of 5b3df61 (6 feature analysis)
   "metadata": {},
   "outputs": [],
   "source": [
    "#original_title $ overview"
   ]
  },
  {
   "cell_type": "code",
<<<<<<< HEAD
   "execution_count": 27,
   "id": "02e41d9f",
=======
   "execution_count": null,
   "id": "59e8660a",
>>>>>>> parent of 5b3df61 (6 feature analysis)
   "metadata": {},
   "outputs": [],
   "source": [
    "trainData.drop(['original_title'], axis=1, inplace=True)\n",
    "testData.drop([' overview'], axis=1, inplace=True)"
   ]
  },
  {
   "cell_type": "code",
<<<<<<< HEAD
   "execution_count": 28,
   "id": "75470f8c",
=======
   "execution_count": null,
   "id": "406806ad",
>>>>>>> parent of 5b3df61 (6 feature analysis)
   "metadata": {},
   "outputs": [],
   "source": [
    "#popularity\t"
   ]
  },
  {
   "cell_type": "code",
<<<<<<< HEAD
   "execution_count": 29,
   "id": "f96c622a",
=======
   "execution_count": 31,
   "id": "3ffc74c8",
>>>>>>> parent of 5b3df61 (6 feature analysis)
   "metadata": {},
   "outputs": [
    {
     "data": {
      "text/plain": [
       "0"
      ]
     },
<<<<<<< HEAD
     "execution_count": 29,
=======
     "execution_count": 31,
>>>>>>> parent of 5b3df61 (6 feature analysis)
     "metadata": {},
     "output_type": "execute_result"
    }
   ],
   "source": [
    "trainData['popularity'].isnull().sum()"
   ]
  },
  {
   "cell_type": "code",
<<<<<<< HEAD
   "execution_count": 30,
   "id": "0d149397",
   "metadata": {},
   "outputs": [
    {
     "data": {
      "image/png": "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\n",
      "text/plain": [
       "<Figure size 432x288 with 1 Axes>"
      ]
     },
     "metadata": {
      "needs_background": "light"
     },
     "output_type": "display_data"
    }
   ],
   "source": [
    "plt.scatter('popularity','revenue',data=trainData)\n",
    "plt.show()"
   ]
  },
  {
   "cell_type": "code",
   "execution_count": 31,
   "id": "9398a7e2",
   "metadata": {},
   "outputs": [],
   "source": [
    "#poster_path\n",
    "trainData.drop(['poster_path','original_language'], axis=1, inplace=True)\n",
    "testData.drop(['poster_path','original_language'], axis=1, inplace=True)\n"
   ]
  },
  {
   "cell_type": "code",
   "execution_count": 32,
   "id": "7b2cc6dc",
   "metadata": {},
   "outputs": [
    {
     "ename": "KeyError",
     "evalue": "\"['original_language'] not found in axis\"",
     "output_type": "error",
     "traceback": [
      "\u001b[1;31m---------------------------------------------------------------------------\u001b[0m",
      "\u001b[1;31mKeyError\u001b[0m                                  Traceback (most recent call last)",
      "\u001b[1;32m~\\AppData\\Local\\Temp/ipykernel_15976/2322711666.py\u001b[0m in \u001b[0;36m<module>\u001b[1;34m\u001b[0m\n\u001b[1;32m----> 1\u001b[1;33m \u001b[0mtrainData\u001b[0m\u001b[1;33m.\u001b[0m\u001b[0mdrop\u001b[0m\u001b[1;33m(\u001b[0m\u001b[1;33m[\u001b[0m\u001b[1;34m'original_language'\u001b[0m\u001b[1;33m]\u001b[0m\u001b[1;33m,\u001b[0m \u001b[0maxis\u001b[0m\u001b[1;33m=\u001b[0m\u001b[1;36m1\u001b[0m\u001b[1;33m,\u001b[0m \u001b[0minplace\u001b[0m\u001b[1;33m=\u001b[0m\u001b[1;32mTrue\u001b[0m\u001b[1;33m)\u001b[0m\u001b[1;33m\u001b[0m\u001b[1;33m\u001b[0m\u001b[0m\n\u001b[0m\u001b[0;32m      2\u001b[0m \u001b[0mtestData\u001b[0m\u001b[1;33m.\u001b[0m\u001b[0mdrop\u001b[0m\u001b[1;33m(\u001b[0m\u001b[1;33m[\u001b[0m\u001b[1;34m'original_language'\u001b[0m\u001b[1;33m]\u001b[0m\u001b[1;33m,\u001b[0m \u001b[0maxis\u001b[0m\u001b[1;33m=\u001b[0m\u001b[1;36m1\u001b[0m\u001b[1;33m,\u001b[0m \u001b[0minplace\u001b[0m\u001b[1;33m=\u001b[0m\u001b[1;32mTrue\u001b[0m\u001b[1;33m)\u001b[0m\u001b[1;33m\u001b[0m\u001b[1;33m\u001b[0m\u001b[0m\n\u001b[0;32m      3\u001b[0m \u001b[0mtrainData\u001b[0m\u001b[1;33m.\u001b[0m\u001b[0mhead\u001b[0m\u001b[1;33m(\u001b[0m\u001b[1;33m)\u001b[0m\u001b[1;33m\u001b[0m\u001b[1;33m\u001b[0m\u001b[0m\n",
      "\u001b[1;32m~\\anaconda3\\lib\\site-packages\\pandas\\util\\_decorators.py\u001b[0m in \u001b[0;36mwrapper\u001b[1;34m(*args, **kwargs)\u001b[0m\n\u001b[0;32m    309\u001b[0m                     \u001b[0mstacklevel\u001b[0m\u001b[1;33m=\u001b[0m\u001b[0mstacklevel\u001b[0m\u001b[1;33m,\u001b[0m\u001b[1;33m\u001b[0m\u001b[1;33m\u001b[0m\u001b[0m\n\u001b[0;32m    310\u001b[0m                 )\n\u001b[1;32m--> 311\u001b[1;33m             \u001b[1;32mreturn\u001b[0m \u001b[0mfunc\u001b[0m\u001b[1;33m(\u001b[0m\u001b[1;33m*\u001b[0m\u001b[0margs\u001b[0m\u001b[1;33m,\u001b[0m \u001b[1;33m**\u001b[0m\u001b[0mkwargs\u001b[0m\u001b[1;33m)\u001b[0m\u001b[1;33m\u001b[0m\u001b[1;33m\u001b[0m\u001b[0m\n\u001b[0m\u001b[0;32m    312\u001b[0m \u001b[1;33m\u001b[0m\u001b[0m\n\u001b[0;32m    313\u001b[0m         \u001b[1;32mreturn\u001b[0m \u001b[0mwrapper\u001b[0m\u001b[1;33m\u001b[0m\u001b[1;33m\u001b[0m\u001b[0m\n",
      "\u001b[1;32m~\\anaconda3\\lib\\site-packages\\pandas\\core\\frame.py\u001b[0m in \u001b[0;36mdrop\u001b[1;34m(self, labels, axis, index, columns, level, inplace, errors)\u001b[0m\n\u001b[0;32m   4904\u001b[0m                 \u001b[0mweight\u001b[0m  \u001b[1;36m1.0\u001b[0m     \u001b[1;36m0.8\u001b[0m\u001b[1;33m\u001b[0m\u001b[1;33m\u001b[0m\u001b[0m\n\u001b[0;32m   4905\u001b[0m         \"\"\"\n\u001b[1;32m-> 4906\u001b[1;33m         return super().drop(\n\u001b[0m\u001b[0;32m   4907\u001b[0m             \u001b[0mlabels\u001b[0m\u001b[1;33m=\u001b[0m\u001b[0mlabels\u001b[0m\u001b[1;33m,\u001b[0m\u001b[1;33m\u001b[0m\u001b[1;33m\u001b[0m\u001b[0m\n\u001b[0;32m   4908\u001b[0m             \u001b[0maxis\u001b[0m\u001b[1;33m=\u001b[0m\u001b[0maxis\u001b[0m\u001b[1;33m,\u001b[0m\u001b[1;33m\u001b[0m\u001b[1;33m\u001b[0m\u001b[0m\n",
      "\u001b[1;32m~\\anaconda3\\lib\\site-packages\\pandas\\core\\generic.py\u001b[0m in \u001b[0;36mdrop\u001b[1;34m(self, labels, axis, index, columns, level, inplace, errors)\u001b[0m\n\u001b[0;32m   4148\u001b[0m         \u001b[1;32mfor\u001b[0m \u001b[0maxis\u001b[0m\u001b[1;33m,\u001b[0m \u001b[0mlabels\u001b[0m \u001b[1;32min\u001b[0m \u001b[0maxes\u001b[0m\u001b[1;33m.\u001b[0m\u001b[0mitems\u001b[0m\u001b[1;33m(\u001b[0m\u001b[1;33m)\u001b[0m\u001b[1;33m:\u001b[0m\u001b[1;33m\u001b[0m\u001b[1;33m\u001b[0m\u001b[0m\n\u001b[0;32m   4149\u001b[0m             \u001b[1;32mif\u001b[0m \u001b[0mlabels\u001b[0m \u001b[1;32mis\u001b[0m \u001b[1;32mnot\u001b[0m \u001b[1;32mNone\u001b[0m\u001b[1;33m:\u001b[0m\u001b[1;33m\u001b[0m\u001b[1;33m\u001b[0m\u001b[0m\n\u001b[1;32m-> 4150\u001b[1;33m                 \u001b[0mobj\u001b[0m \u001b[1;33m=\u001b[0m \u001b[0mobj\u001b[0m\u001b[1;33m.\u001b[0m\u001b[0m_drop_axis\u001b[0m\u001b[1;33m(\u001b[0m\u001b[0mlabels\u001b[0m\u001b[1;33m,\u001b[0m \u001b[0maxis\u001b[0m\u001b[1;33m,\u001b[0m \u001b[0mlevel\u001b[0m\u001b[1;33m=\u001b[0m\u001b[0mlevel\u001b[0m\u001b[1;33m,\u001b[0m \u001b[0merrors\u001b[0m\u001b[1;33m=\u001b[0m\u001b[0merrors\u001b[0m\u001b[1;33m)\u001b[0m\u001b[1;33m\u001b[0m\u001b[1;33m\u001b[0m\u001b[0m\n\u001b[0m\u001b[0;32m   4151\u001b[0m \u001b[1;33m\u001b[0m\u001b[0m\n\u001b[0;32m   4152\u001b[0m         \u001b[1;32mif\u001b[0m \u001b[0minplace\u001b[0m\u001b[1;33m:\u001b[0m\u001b[1;33m\u001b[0m\u001b[1;33m\u001b[0m\u001b[0m\n",
      "\u001b[1;32m~\\anaconda3\\lib\\site-packages\\pandas\\core\\generic.py\u001b[0m in \u001b[0;36m_drop_axis\u001b[1;34m(self, labels, axis, level, errors)\u001b[0m\n\u001b[0;32m   4183\u001b[0m                 \u001b[0mnew_axis\u001b[0m \u001b[1;33m=\u001b[0m \u001b[0maxis\u001b[0m\u001b[1;33m.\u001b[0m\u001b[0mdrop\u001b[0m\u001b[1;33m(\u001b[0m\u001b[0mlabels\u001b[0m\u001b[1;33m,\u001b[0m \u001b[0mlevel\u001b[0m\u001b[1;33m=\u001b[0m\u001b[0mlevel\u001b[0m\u001b[1;33m,\u001b[0m \u001b[0merrors\u001b[0m\u001b[1;33m=\u001b[0m\u001b[0merrors\u001b[0m\u001b[1;33m)\u001b[0m\u001b[1;33m\u001b[0m\u001b[1;33m\u001b[0m\u001b[0m\n\u001b[0;32m   4184\u001b[0m             \u001b[1;32melse\u001b[0m\u001b[1;33m:\u001b[0m\u001b[1;33m\u001b[0m\u001b[1;33m\u001b[0m\u001b[0m\n\u001b[1;32m-> 4185\u001b[1;33m                 \u001b[0mnew_axis\u001b[0m \u001b[1;33m=\u001b[0m \u001b[0maxis\u001b[0m\u001b[1;33m.\u001b[0m\u001b[0mdrop\u001b[0m\u001b[1;33m(\u001b[0m\u001b[0mlabels\u001b[0m\u001b[1;33m,\u001b[0m \u001b[0merrors\u001b[0m\u001b[1;33m=\u001b[0m\u001b[0merrors\u001b[0m\u001b[1;33m)\u001b[0m\u001b[1;33m\u001b[0m\u001b[1;33m\u001b[0m\u001b[0m\n\u001b[0m\u001b[0;32m   4186\u001b[0m             \u001b[0mresult\u001b[0m \u001b[1;33m=\u001b[0m \u001b[0mself\u001b[0m\u001b[1;33m.\u001b[0m\u001b[0mreindex\u001b[0m\u001b[1;33m(\u001b[0m\u001b[1;33m**\u001b[0m\u001b[1;33m{\u001b[0m\u001b[0maxis_name\u001b[0m\u001b[1;33m:\u001b[0m \u001b[0mnew_axis\u001b[0m\u001b[1;33m}\u001b[0m\u001b[1;33m)\u001b[0m\u001b[1;33m\u001b[0m\u001b[1;33m\u001b[0m\u001b[0m\n\u001b[0;32m   4187\u001b[0m \u001b[1;33m\u001b[0m\u001b[0m\n",
      "\u001b[1;32m~\\anaconda3\\lib\\site-packages\\pandas\\core\\indexes\\base.py\u001b[0m in \u001b[0;36mdrop\u001b[1;34m(self, labels, errors)\u001b[0m\n\u001b[0;32m   6015\u001b[0m         \u001b[1;32mif\u001b[0m \u001b[0mmask\u001b[0m\u001b[1;33m.\u001b[0m\u001b[0many\u001b[0m\u001b[1;33m(\u001b[0m\u001b[1;33m)\u001b[0m\u001b[1;33m:\u001b[0m\u001b[1;33m\u001b[0m\u001b[1;33m\u001b[0m\u001b[0m\n\u001b[0;32m   6016\u001b[0m             \u001b[1;32mif\u001b[0m \u001b[0merrors\u001b[0m \u001b[1;33m!=\u001b[0m \u001b[1;34m\"ignore\"\u001b[0m\u001b[1;33m:\u001b[0m\u001b[1;33m\u001b[0m\u001b[1;33m\u001b[0m\u001b[0m\n\u001b[1;32m-> 6017\u001b[1;33m                 \u001b[1;32mraise\u001b[0m \u001b[0mKeyError\u001b[0m\u001b[1;33m(\u001b[0m\u001b[1;34mf\"{labels[mask]} not found in axis\"\u001b[0m\u001b[1;33m)\u001b[0m\u001b[1;33m\u001b[0m\u001b[1;33m\u001b[0m\u001b[0m\n\u001b[0m\u001b[0;32m   6018\u001b[0m             \u001b[0mindexer\u001b[0m \u001b[1;33m=\u001b[0m \u001b[0mindexer\u001b[0m\u001b[1;33m[\u001b[0m\u001b[1;33m~\u001b[0m\u001b[0mmask\u001b[0m\u001b[1;33m]\u001b[0m\u001b[1;33m\u001b[0m\u001b[1;33m\u001b[0m\u001b[0m\n\u001b[0;32m   6019\u001b[0m         \u001b[1;32mreturn\u001b[0m \u001b[0mself\u001b[0m\u001b[1;33m.\u001b[0m\u001b[0mdelete\u001b[0m\u001b[1;33m(\u001b[0m\u001b[0mindexer\u001b[0m\u001b[1;33m)\u001b[0m\u001b[1;33m\u001b[0m\u001b[1;33m\u001b[0m\u001b[0m\n",
      "\u001b[1;31mKeyError\u001b[0m: \"['original_language'] not found in axis\""
     ]
    }
   ],
   "source": [
    "trainData.drop(['original_language'], axis=1, inplace=True)\n",
    "testData.drop(['original_language'], axis=1, inplace=True)\n",
    "trainData.head()"
   ]
  },
  {
   "cell_type": "code",
   "execution_count": null,
   "id": "99c825eb",
   "metadata": {},
   "outputs": [],
   "source": [
    "#production_companies\n",
    "for i,e in enumerate(trainData[\"production_companies\"][:5]):\n",
    "    print(i,e)"
   ]
  },
  {
   "cell_type": "code",
   "execution_count": null,
   "id": "5b984d2a",
   "metadata": {},
   "outputs": [],
   "source": [
    "num_production_companies=pd.DataFrame(columns=['num_production_companies'])\n",
    "trainData=pd.concat([trainData,num_production_companies],axis=1)\n",
    "testData=pd.concat([testData,num_production_companies],axis=1)\n"
   ]
  },
  {
   "cell_type": "code",
   "execution_count": null,
   "id": "bf98d5d6",
   "metadata": {},
   "outputs": [],
   "source": [
    "j=0\n",
    "for i in trainData[\"production_companies\"]:\n",
    "    d=get_dict(i)\n",
    "    if len(d)!=0:\n",
    "        trainData['num_production_companies'][j]=len(d)\n",
    "    else:\n",
    "        trainData['num_production_companies'][j]=np.NaN\n",
    "    j+=1\n",
    "j=0\n",
    "for i in testData[\"production_companies\"]:\n",
    "    d=get_dict(i)\n",
    "    if len(d)!=0:\n",
    "        testData['num_production_companies'][j]=len(d)\n",
    "    else:\n",
    "        testData['num_production_companies'][j]=np.NaN\n",
    "    j+=1\n"
   ]
  },
  {
   "cell_type": "code",
   "execution_count": null,
   "id": "a3a1f7a3",
   "metadata": {},
   "outputs": [],
   "source": [
    "trainData.drop(['production_companies'], axis=1, inplace=True)\n",
    "testData.drop(['production_companies'], axis=1, inplace=True)"
   ]
  },
  {
   "cell_type": "code",
   "execution_count": null,
   "id": "947bc02d",
   "metadata": {},
   "outputs": [],
   "source": [
    "trainData[\"num_production_companies\"]"
   ]
  },
  {
   "cell_type": "code",
   "execution_count": 33,
   "id": "41d5bee3",
   "metadata": {},
   "outputs": [
    {
     "ename": "ValueError",
     "evalue": "Could not interpret input 'num_production_companies'",
     "output_type": "error",
     "traceback": [
      "\u001b[1;31m---------------------------------------------------------------------------\u001b[0m",
      "\u001b[1;31mValueError\u001b[0m                                Traceback (most recent call last)",
      "\u001b[1;32m~\\AppData\\Local\\Temp/ipykernel_15976/424638298.py\u001b[0m in \u001b[0;36m<module>\u001b[1;34m\u001b[0m\n\u001b[1;32m----> 1\u001b[1;33m \u001b[0msns\u001b[0m\u001b[1;33m.\u001b[0m\u001b[0mcatplot\u001b[0m\u001b[1;33m(\u001b[0m\u001b[0mx\u001b[0m\u001b[1;33m=\u001b[0m\u001b[1;34m'num_production_companies'\u001b[0m\u001b[1;33m,\u001b[0m\u001b[0my\u001b[0m\u001b[1;33m=\u001b[0m\u001b[1;34m'revenue'\u001b[0m\u001b[1;33m,\u001b[0m\u001b[0mdata\u001b[0m\u001b[1;33m=\u001b[0m\u001b[0mtrainData\u001b[0m\u001b[1;33m)\u001b[0m\u001b[1;33m\u001b[0m\u001b[1;33m\u001b[0m\u001b[0m\n\u001b[0m",
      "\u001b[1;32m~\\anaconda3\\lib\\site-packages\\seaborn\\_decorators.py\u001b[0m in \u001b[0;36minner_f\u001b[1;34m(*args, **kwargs)\u001b[0m\n\u001b[0;32m     44\u001b[0m             )\n\u001b[0;32m     45\u001b[0m         \u001b[0mkwargs\u001b[0m\u001b[1;33m.\u001b[0m\u001b[0mupdate\u001b[0m\u001b[1;33m(\u001b[0m\u001b[1;33m{\u001b[0m\u001b[0mk\u001b[0m\u001b[1;33m:\u001b[0m \u001b[0marg\u001b[0m \u001b[1;32mfor\u001b[0m \u001b[0mk\u001b[0m\u001b[1;33m,\u001b[0m \u001b[0marg\u001b[0m \u001b[1;32min\u001b[0m \u001b[0mzip\u001b[0m\u001b[1;33m(\u001b[0m\u001b[0msig\u001b[0m\u001b[1;33m.\u001b[0m\u001b[0mparameters\u001b[0m\u001b[1;33m,\u001b[0m \u001b[0margs\u001b[0m\u001b[1;33m)\u001b[0m\u001b[1;33m}\u001b[0m\u001b[1;33m)\u001b[0m\u001b[1;33m\u001b[0m\u001b[1;33m\u001b[0m\u001b[0m\n\u001b[1;32m---> 46\u001b[1;33m         \u001b[1;32mreturn\u001b[0m \u001b[0mf\u001b[0m\u001b[1;33m(\u001b[0m\u001b[1;33m**\u001b[0m\u001b[0mkwargs\u001b[0m\u001b[1;33m)\u001b[0m\u001b[1;33m\u001b[0m\u001b[1;33m\u001b[0m\u001b[0m\n\u001b[0m\u001b[0;32m     47\u001b[0m     \u001b[1;32mreturn\u001b[0m \u001b[0minner_f\u001b[0m\u001b[1;33m\u001b[0m\u001b[1;33m\u001b[0m\u001b[0m\n\u001b[0;32m     48\u001b[0m \u001b[1;33m\u001b[0m\u001b[0m\n",
      "\u001b[1;32m~\\anaconda3\\lib\\site-packages\\seaborn\\categorical.py\u001b[0m in \u001b[0;36mcatplot\u001b[1;34m(x, y, hue, data, row, col, col_wrap, estimator, ci, n_boot, units, seed, order, hue_order, row_order, col_order, kind, height, aspect, orient, color, palette, legend, legend_out, sharex, sharey, margin_titles, facet_kws, **kwargs)\u001b[0m\n\u001b[0;32m   3790\u001b[0m     \u001b[0mp\u001b[0m \u001b[1;33m=\u001b[0m \u001b[0m_CategoricalPlotter\u001b[0m\u001b[1;33m(\u001b[0m\u001b[1;33m)\u001b[0m\u001b[1;33m\u001b[0m\u001b[1;33m\u001b[0m\u001b[0m\n\u001b[0;32m   3791\u001b[0m     \u001b[0mp\u001b[0m\u001b[1;33m.\u001b[0m\u001b[0mrequire_numeric\u001b[0m \u001b[1;33m=\u001b[0m \u001b[0mplotter_class\u001b[0m\u001b[1;33m.\u001b[0m\u001b[0mrequire_numeric\u001b[0m\u001b[1;33m\u001b[0m\u001b[1;33m\u001b[0m\u001b[0m\n\u001b[1;32m-> 3792\u001b[1;33m     \u001b[0mp\u001b[0m\u001b[1;33m.\u001b[0m\u001b[0mestablish_variables\u001b[0m\u001b[1;33m(\u001b[0m\u001b[0mx_\u001b[0m\u001b[1;33m,\u001b[0m \u001b[0my_\u001b[0m\u001b[1;33m,\u001b[0m \u001b[0mhue\u001b[0m\u001b[1;33m,\u001b[0m \u001b[0mdata\u001b[0m\u001b[1;33m,\u001b[0m \u001b[0morient\u001b[0m\u001b[1;33m,\u001b[0m \u001b[0morder\u001b[0m\u001b[1;33m,\u001b[0m \u001b[0mhue_order\u001b[0m\u001b[1;33m)\u001b[0m\u001b[1;33m\u001b[0m\u001b[1;33m\u001b[0m\u001b[0m\n\u001b[0m\u001b[0;32m   3793\u001b[0m     if (\n\u001b[0;32m   3794\u001b[0m         \u001b[0morder\u001b[0m \u001b[1;32mis\u001b[0m \u001b[1;32mnot\u001b[0m \u001b[1;32mNone\u001b[0m\u001b[1;33m\u001b[0m\u001b[1;33m\u001b[0m\u001b[0m\n",
      "\u001b[1;32m~\\anaconda3\\lib\\site-packages\\seaborn\\categorical.py\u001b[0m in \u001b[0;36mestablish_variables\u001b[1;34m(self, x, y, hue, data, orient, order, hue_order, units)\u001b[0m\n\u001b[0;32m    151\u001b[0m                 \u001b[1;32mif\u001b[0m \u001b[0misinstance\u001b[0m\u001b[1;33m(\u001b[0m\u001b[0mvar\u001b[0m\u001b[1;33m,\u001b[0m \u001b[0mstr\u001b[0m\u001b[1;33m)\u001b[0m\u001b[1;33m:\u001b[0m\u001b[1;33m\u001b[0m\u001b[1;33m\u001b[0m\u001b[0m\n\u001b[0;32m    152\u001b[0m                     \u001b[0merr\u001b[0m \u001b[1;33m=\u001b[0m \u001b[1;34m\"Could not interpret input '{}'\"\u001b[0m\u001b[1;33m.\u001b[0m\u001b[0mformat\u001b[0m\u001b[1;33m(\u001b[0m\u001b[0mvar\u001b[0m\u001b[1;33m)\u001b[0m\u001b[1;33m\u001b[0m\u001b[1;33m\u001b[0m\u001b[0m\n\u001b[1;32m--> 153\u001b[1;33m                     \u001b[1;32mraise\u001b[0m \u001b[0mValueError\u001b[0m\u001b[1;33m(\u001b[0m\u001b[0merr\u001b[0m\u001b[1;33m)\u001b[0m\u001b[1;33m\u001b[0m\u001b[1;33m\u001b[0m\u001b[0m\n\u001b[0m\u001b[0;32m    154\u001b[0m \u001b[1;33m\u001b[0m\u001b[0m\n\u001b[0;32m    155\u001b[0m             \u001b[1;31m# Figure out the plotting orientation\u001b[0m\u001b[1;33m\u001b[0m\u001b[1;33m\u001b[0m\u001b[0m\n",
      "\u001b[1;31mValueError\u001b[0m: Could not interpret input 'num_production_companies'"
     ]
    }
   ],
   "source": [
    "sns.catplot(x='num_production_companies',y='revenue',data=trainData)\n"
   ]
  },
  {
   "cell_type": "code",
   "execution_count": 34,
   "id": "37e176d8",
   "metadata": {},
   "outputs": [
    {
     "ename": "KeyError",
     "evalue": "'num_production_companies'",
     "output_type": "error",
     "traceback": [
      "\u001b[1;31m---------------------------------------------------------------------------\u001b[0m",
      "\u001b[1;31mKeyError\u001b[0m                                  Traceback (most recent call last)",
      "\u001b[1;32m~\\anaconda3\\lib\\site-packages\\pandas\\core\\indexes\\base.py\u001b[0m in \u001b[0;36mget_loc\u001b[1;34m(self, key, method, tolerance)\u001b[0m\n\u001b[0;32m   3360\u001b[0m             \u001b[1;32mtry\u001b[0m\u001b[1;33m:\u001b[0m\u001b[1;33m\u001b[0m\u001b[1;33m\u001b[0m\u001b[0m\n\u001b[1;32m-> 3361\u001b[1;33m                 \u001b[1;32mreturn\u001b[0m \u001b[0mself\u001b[0m\u001b[1;33m.\u001b[0m\u001b[0m_engine\u001b[0m\u001b[1;33m.\u001b[0m\u001b[0mget_loc\u001b[0m\u001b[1;33m(\u001b[0m\u001b[0mcasted_key\u001b[0m\u001b[1;33m)\u001b[0m\u001b[1;33m\u001b[0m\u001b[1;33m\u001b[0m\u001b[0m\n\u001b[0m\u001b[0;32m   3362\u001b[0m             \u001b[1;32mexcept\u001b[0m \u001b[0mKeyError\u001b[0m \u001b[1;32mas\u001b[0m \u001b[0merr\u001b[0m\u001b[1;33m:\u001b[0m\u001b[1;33m\u001b[0m\u001b[1;33m\u001b[0m\u001b[0m\n",
      "\u001b[1;32m~\\anaconda3\\lib\\site-packages\\pandas\\_libs\\index.pyx\u001b[0m in \u001b[0;36mpandas._libs.index.IndexEngine.get_loc\u001b[1;34m()\u001b[0m\n",
      "\u001b[1;32m~\\anaconda3\\lib\\site-packages\\pandas\\_libs\\index.pyx\u001b[0m in \u001b[0;36mpandas._libs.index.IndexEngine.get_loc\u001b[1;34m()\u001b[0m\n",
      "\u001b[1;32mpandas\\_libs\\hashtable_class_helper.pxi\u001b[0m in \u001b[0;36mpandas._libs.hashtable.PyObjectHashTable.get_item\u001b[1;34m()\u001b[0m\n",
      "\u001b[1;32mpandas\\_libs\\hashtable_class_helper.pxi\u001b[0m in \u001b[0;36mpandas._libs.hashtable.PyObjectHashTable.get_item\u001b[1;34m()\u001b[0m\n",
      "\u001b[1;31mKeyError\u001b[0m: 'num_production_companies'",
      "\nThe above exception was the direct cause of the following exception:\n",
      "\u001b[1;31mKeyError\u001b[0m                                  Traceback (most recent call last)",
      "\u001b[1;32m~\\AppData\\Local\\Temp/ipykernel_15976/2836336344.py\u001b[0m in \u001b[0;36m<module>\u001b[1;34m\u001b[0m\n\u001b[1;32m----> 1\u001b[1;33m \u001b[0mtrainData\u001b[0m\u001b[1;33m[\u001b[0m\u001b[1;34m\"num_production_companies\"\u001b[0m\u001b[1;33m]\u001b[0m\u001b[1;33m.\u001b[0m\u001b[0misnull\u001b[0m\u001b[1;33m(\u001b[0m\u001b[1;33m)\u001b[0m\u001b[1;33m.\u001b[0m\u001b[0msum\u001b[0m\u001b[1;33m(\u001b[0m\u001b[1;33m)\u001b[0m\u001b[1;33m\u001b[0m\u001b[1;33m\u001b[0m\u001b[0m\n\u001b[0m",
      "\u001b[1;32m~\\anaconda3\\lib\\site-packages\\pandas\\core\\frame.py\u001b[0m in \u001b[0;36m__getitem__\u001b[1;34m(self, key)\u001b[0m\n\u001b[0;32m   3456\u001b[0m             \u001b[1;32mif\u001b[0m \u001b[0mself\u001b[0m\u001b[1;33m.\u001b[0m\u001b[0mcolumns\u001b[0m\u001b[1;33m.\u001b[0m\u001b[0mnlevels\u001b[0m \u001b[1;33m>\u001b[0m \u001b[1;36m1\u001b[0m\u001b[1;33m:\u001b[0m\u001b[1;33m\u001b[0m\u001b[1;33m\u001b[0m\u001b[0m\n\u001b[0;32m   3457\u001b[0m                 \u001b[1;32mreturn\u001b[0m \u001b[0mself\u001b[0m\u001b[1;33m.\u001b[0m\u001b[0m_getitem_multilevel\u001b[0m\u001b[1;33m(\u001b[0m\u001b[0mkey\u001b[0m\u001b[1;33m)\u001b[0m\u001b[1;33m\u001b[0m\u001b[1;33m\u001b[0m\u001b[0m\n\u001b[1;32m-> 3458\u001b[1;33m             \u001b[0mindexer\u001b[0m \u001b[1;33m=\u001b[0m \u001b[0mself\u001b[0m\u001b[1;33m.\u001b[0m\u001b[0mcolumns\u001b[0m\u001b[1;33m.\u001b[0m\u001b[0mget_loc\u001b[0m\u001b[1;33m(\u001b[0m\u001b[0mkey\u001b[0m\u001b[1;33m)\u001b[0m\u001b[1;33m\u001b[0m\u001b[1;33m\u001b[0m\u001b[0m\n\u001b[0m\u001b[0;32m   3459\u001b[0m             \u001b[1;32mif\u001b[0m \u001b[0mis_integer\u001b[0m\u001b[1;33m(\u001b[0m\u001b[0mindexer\u001b[0m\u001b[1;33m)\u001b[0m\u001b[1;33m:\u001b[0m\u001b[1;33m\u001b[0m\u001b[1;33m\u001b[0m\u001b[0m\n\u001b[0;32m   3460\u001b[0m                 \u001b[0mindexer\u001b[0m \u001b[1;33m=\u001b[0m \u001b[1;33m[\u001b[0m\u001b[0mindexer\u001b[0m\u001b[1;33m]\u001b[0m\u001b[1;33m\u001b[0m\u001b[1;33m\u001b[0m\u001b[0m\n",
      "\u001b[1;32m~\\anaconda3\\lib\\site-packages\\pandas\\core\\indexes\\base.py\u001b[0m in \u001b[0;36mget_loc\u001b[1;34m(self, key, method, tolerance)\u001b[0m\n\u001b[0;32m   3361\u001b[0m                 \u001b[1;32mreturn\u001b[0m \u001b[0mself\u001b[0m\u001b[1;33m.\u001b[0m\u001b[0m_engine\u001b[0m\u001b[1;33m.\u001b[0m\u001b[0mget_loc\u001b[0m\u001b[1;33m(\u001b[0m\u001b[0mcasted_key\u001b[0m\u001b[1;33m)\u001b[0m\u001b[1;33m\u001b[0m\u001b[1;33m\u001b[0m\u001b[0m\n\u001b[0;32m   3362\u001b[0m             \u001b[1;32mexcept\u001b[0m \u001b[0mKeyError\u001b[0m \u001b[1;32mas\u001b[0m \u001b[0merr\u001b[0m\u001b[1;33m:\u001b[0m\u001b[1;33m\u001b[0m\u001b[1;33m\u001b[0m\u001b[0m\n\u001b[1;32m-> 3363\u001b[1;33m                 \u001b[1;32mraise\u001b[0m \u001b[0mKeyError\u001b[0m\u001b[1;33m(\u001b[0m\u001b[0mkey\u001b[0m\u001b[1;33m)\u001b[0m \u001b[1;32mfrom\u001b[0m \u001b[0merr\u001b[0m\u001b[1;33m\u001b[0m\u001b[1;33m\u001b[0m\u001b[0m\n\u001b[0m\u001b[0;32m   3364\u001b[0m \u001b[1;33m\u001b[0m\u001b[0m\n\u001b[0;32m   3365\u001b[0m         \u001b[1;32mif\u001b[0m \u001b[0mis_scalar\u001b[0m\u001b[1;33m(\u001b[0m\u001b[0mkey\u001b[0m\u001b[1;33m)\u001b[0m \u001b[1;32mand\u001b[0m \u001b[0misna\u001b[0m\u001b[1;33m(\u001b[0m\u001b[0mkey\u001b[0m\u001b[1;33m)\u001b[0m \u001b[1;32mand\u001b[0m \u001b[1;32mnot\u001b[0m \u001b[0mself\u001b[0m\u001b[1;33m.\u001b[0m\u001b[0mhasnans\u001b[0m\u001b[1;33m:\u001b[0m\u001b[1;33m\u001b[0m\u001b[1;33m\u001b[0m\u001b[0m\n",
      "\u001b[1;31mKeyError\u001b[0m: 'num_production_companies'"
     ]
    }
   ],
   "source": [
    "trainData[\"num_production_companies\"].isnull().sum()"
   ]
  },
  {
   "cell_type": "code",
   "execution_count": 35,
   "id": "7f4f802c",
   "metadata": {},
   "outputs": [
    {
     "ename": "SyntaxError",
     "evalue": "invalid syntax (Temp/ipykernel_15976/1662856856.py, line 2)",
     "output_type": "error",
     "traceback": [
      "\u001b[1;36m  File \u001b[1;32m\"C:\\Users\\moham\\AppData\\Local\\Temp/ipykernel_15976/1662856856.py\"\u001b[1;36m, line \u001b[1;32m2\u001b[0m\n\u001b[1;33m    testData['num_production_companies'] = testData['num_production_companies'].fillna(testData['num_production_companies'].mode()[0])\u001b[0m\n\u001b[1;37m    ^\u001b[0m\n\u001b[1;31mSyntaxError\u001b[0m\u001b[1;31m:\u001b[0m invalid syntax\n"
     ]
    }
   ],
   "source": [
    "trainData['num_production_companies'] = trainData['num_production_companies'].fillna(trainData['num_production_companies'].mode()\n",
    "testData['num_production_companies'] = testData['num_production_companies'].fillna(testData['num_production_companies'].mode()[0])\n",
    "\n"
   ]
  },
  {
   "cell_type": "code",
   "execution_count": 36,
   "id": "26abc342",
   "metadata": {},
   "outputs": [
    {
     "ename": "KeyError",
     "evalue": "'num_production_companies'",
     "output_type": "error",
     "traceback": [
      "\u001b[1;31m---------------------------------------------------------------------------\u001b[0m",
      "\u001b[1;31mKeyError\u001b[0m                                  Traceback (most recent call last)",
      "\u001b[1;32m~\\anaconda3\\lib\\site-packages\\pandas\\core\\indexes\\base.py\u001b[0m in \u001b[0;36mget_loc\u001b[1;34m(self, key, method, tolerance)\u001b[0m\n\u001b[0;32m   3360\u001b[0m             \u001b[1;32mtry\u001b[0m\u001b[1;33m:\u001b[0m\u001b[1;33m\u001b[0m\u001b[1;33m\u001b[0m\u001b[0m\n\u001b[1;32m-> 3361\u001b[1;33m                 \u001b[1;32mreturn\u001b[0m \u001b[0mself\u001b[0m\u001b[1;33m.\u001b[0m\u001b[0m_engine\u001b[0m\u001b[1;33m.\u001b[0m\u001b[0mget_loc\u001b[0m\u001b[1;33m(\u001b[0m\u001b[0mcasted_key\u001b[0m\u001b[1;33m)\u001b[0m\u001b[1;33m\u001b[0m\u001b[1;33m\u001b[0m\u001b[0m\n\u001b[0m\u001b[0;32m   3362\u001b[0m             \u001b[1;32mexcept\u001b[0m \u001b[0mKeyError\u001b[0m \u001b[1;32mas\u001b[0m \u001b[0merr\u001b[0m\u001b[1;33m:\u001b[0m\u001b[1;33m\u001b[0m\u001b[1;33m\u001b[0m\u001b[0m\n",
      "\u001b[1;32m~\\anaconda3\\lib\\site-packages\\pandas\\_libs\\index.pyx\u001b[0m in \u001b[0;36mpandas._libs.index.IndexEngine.get_loc\u001b[1;34m()\u001b[0m\n",
      "\u001b[1;32m~\\anaconda3\\lib\\site-packages\\pandas\\_libs\\index.pyx\u001b[0m in \u001b[0;36mpandas._libs.index.IndexEngine.get_loc\u001b[1;34m()\u001b[0m\n",
      "\u001b[1;32mpandas\\_libs\\hashtable_class_helper.pxi\u001b[0m in \u001b[0;36mpandas._libs.hashtable.PyObjectHashTable.get_item\u001b[1;34m()\u001b[0m\n",
      "\u001b[1;32mpandas\\_libs\\hashtable_class_helper.pxi\u001b[0m in \u001b[0;36mpandas._libs.hashtable.PyObjectHashTable.get_item\u001b[1;34m()\u001b[0m\n",
      "\u001b[1;31mKeyError\u001b[0m: 'num_production_companies'",
      "\nThe above exception was the direct cause of the following exception:\n",
      "\u001b[1;31mKeyError\u001b[0m                                  Traceback (most recent call last)",
      "\u001b[1;32m~\\AppData\\Local\\Temp/ipykernel_15976/2836336344.py\u001b[0m in \u001b[0;36m<module>\u001b[1;34m\u001b[0m\n\u001b[1;32m----> 1\u001b[1;33m \u001b[0mtrainData\u001b[0m\u001b[1;33m[\u001b[0m\u001b[1;34m\"num_production_companies\"\u001b[0m\u001b[1;33m]\u001b[0m\u001b[1;33m.\u001b[0m\u001b[0misnull\u001b[0m\u001b[1;33m(\u001b[0m\u001b[1;33m)\u001b[0m\u001b[1;33m.\u001b[0m\u001b[0msum\u001b[0m\u001b[1;33m(\u001b[0m\u001b[1;33m)\u001b[0m\u001b[1;33m\u001b[0m\u001b[1;33m\u001b[0m\u001b[0m\n\u001b[0m",
      "\u001b[1;32m~\\anaconda3\\lib\\site-packages\\pandas\\core\\frame.py\u001b[0m in \u001b[0;36m__getitem__\u001b[1;34m(self, key)\u001b[0m\n\u001b[0;32m   3456\u001b[0m             \u001b[1;32mif\u001b[0m \u001b[0mself\u001b[0m\u001b[1;33m.\u001b[0m\u001b[0mcolumns\u001b[0m\u001b[1;33m.\u001b[0m\u001b[0mnlevels\u001b[0m \u001b[1;33m>\u001b[0m \u001b[1;36m1\u001b[0m\u001b[1;33m:\u001b[0m\u001b[1;33m\u001b[0m\u001b[1;33m\u001b[0m\u001b[0m\n\u001b[0;32m   3457\u001b[0m                 \u001b[1;32mreturn\u001b[0m \u001b[0mself\u001b[0m\u001b[1;33m.\u001b[0m\u001b[0m_getitem_multilevel\u001b[0m\u001b[1;33m(\u001b[0m\u001b[0mkey\u001b[0m\u001b[1;33m)\u001b[0m\u001b[1;33m\u001b[0m\u001b[1;33m\u001b[0m\u001b[0m\n\u001b[1;32m-> 3458\u001b[1;33m             \u001b[0mindexer\u001b[0m \u001b[1;33m=\u001b[0m \u001b[0mself\u001b[0m\u001b[1;33m.\u001b[0m\u001b[0mcolumns\u001b[0m\u001b[1;33m.\u001b[0m\u001b[0mget_loc\u001b[0m\u001b[1;33m(\u001b[0m\u001b[0mkey\u001b[0m\u001b[1;33m)\u001b[0m\u001b[1;33m\u001b[0m\u001b[1;33m\u001b[0m\u001b[0m\n\u001b[0m\u001b[0;32m   3459\u001b[0m             \u001b[1;32mif\u001b[0m \u001b[0mis_integer\u001b[0m\u001b[1;33m(\u001b[0m\u001b[0mindexer\u001b[0m\u001b[1;33m)\u001b[0m\u001b[1;33m:\u001b[0m\u001b[1;33m\u001b[0m\u001b[1;33m\u001b[0m\u001b[0m\n\u001b[0;32m   3460\u001b[0m                 \u001b[0mindexer\u001b[0m \u001b[1;33m=\u001b[0m \u001b[1;33m[\u001b[0m\u001b[0mindexer\u001b[0m\u001b[1;33m]\u001b[0m\u001b[1;33m\u001b[0m\u001b[1;33m\u001b[0m\u001b[0m\n",
      "\u001b[1;32m~\\anaconda3\\lib\\site-packages\\pandas\\core\\indexes\\base.py\u001b[0m in \u001b[0;36mget_loc\u001b[1;34m(self, key, method, tolerance)\u001b[0m\n\u001b[0;32m   3361\u001b[0m                 \u001b[1;32mreturn\u001b[0m \u001b[0mself\u001b[0m\u001b[1;33m.\u001b[0m\u001b[0m_engine\u001b[0m\u001b[1;33m.\u001b[0m\u001b[0mget_loc\u001b[0m\u001b[1;33m(\u001b[0m\u001b[0mcasted_key\u001b[0m\u001b[1;33m)\u001b[0m\u001b[1;33m\u001b[0m\u001b[1;33m\u001b[0m\u001b[0m\n\u001b[0;32m   3362\u001b[0m             \u001b[1;32mexcept\u001b[0m \u001b[0mKeyError\u001b[0m \u001b[1;32mas\u001b[0m \u001b[0merr\u001b[0m\u001b[1;33m:\u001b[0m\u001b[1;33m\u001b[0m\u001b[1;33m\u001b[0m\u001b[0m\n\u001b[1;32m-> 3363\u001b[1;33m                 \u001b[1;32mraise\u001b[0m \u001b[0mKeyError\u001b[0m\u001b[1;33m(\u001b[0m\u001b[0mkey\u001b[0m\u001b[1;33m)\u001b[0m \u001b[1;32mfrom\u001b[0m \u001b[0merr\u001b[0m\u001b[1;33m\u001b[0m\u001b[1;33m\u001b[0m\u001b[0m\n\u001b[0m\u001b[0;32m   3364\u001b[0m \u001b[1;33m\u001b[0m\u001b[0m\n\u001b[0;32m   3365\u001b[0m         \u001b[1;32mif\u001b[0m \u001b[0mis_scalar\u001b[0m\u001b[1;33m(\u001b[0m\u001b[0mkey\u001b[0m\u001b[1;33m)\u001b[0m \u001b[1;32mand\u001b[0m \u001b[0misna\u001b[0m\u001b[1;33m(\u001b[0m\u001b[0mkey\u001b[0m\u001b[1;33m)\u001b[0m \u001b[1;32mand\u001b[0m \u001b[1;32mnot\u001b[0m \u001b[0mself\u001b[0m\u001b[1;33m.\u001b[0m\u001b[0mhasnans\u001b[0m\u001b[1;33m:\u001b[0m\u001b[1;33m\u001b[0m\u001b[1;33m\u001b[0m\u001b[0m\n",
      "\u001b[1;31mKeyError\u001b[0m: 'num_production_companies'"
     ]
    }
   ],
   "source": [
    "trainData[\"num_production_companies\"].isnull().sum()"
   ]
  },
  {
   "cell_type": "code",
   "execution_count": 37,
   "id": "6c162932",
   "metadata": {},
   "outputs": [],
   "source": [
    "#production_countries"
   ]
  },
  {
   "cell_type": "code",
   "execution_count": 38,
   "id": "87c37633",
   "metadata": {},
   "outputs": [
    {
     "name": "stdout",
     "output_type": "stream",
     "text": [
      "0 [{'iso_3166_1': 'US', 'name': 'United States of America'}]\n",
      "1 [{'iso_3166_1': 'US', 'name': 'United States of America'}]\n",
      "2 [{'iso_3166_1': 'US', 'name': 'United States of America'}]\n",
      "3 [{'iso_3166_1': 'IN', 'name': 'India'}]\n",
      "4 [{'iso_3166_1': 'KR', 'name': 'South Korea'}]\n"
     ]
    }
   ],
   "source": [
    "for i,e in enumerate(trainData[\"production_countries\"][:5]):\n",
    "    print(i,e)"
   ]
  },
  {
   "cell_type": "code",
   "execution_count": 39,
   "id": "13104fa6",
   "metadata": {},
   "outputs": [],
   "source": [
    "prodect_countries=pd.DataFrame(columns=[\"production_country\"])\n",
    "trainData=pd.concat([trainData,prodect_countries],axis=1)\n",
    "testData=pd.concat([testData,prodect_countries],axis=1)\n"
   ]
  },
  {
   "cell_type": "code",
   "execution_count": 40,
   "id": "c5aba3c6",
   "metadata": {},
   "outputs": [
    {
     "name": "stderr",
     "output_type": "stream",
     "text": [
      "C:\\Users\\moham\\AppData\\Local\\Temp/ipykernel_15976/1265860272.py:12: SettingWithCopyWarning: \n",
      "A value is trying to be set on a copy of a slice from a DataFrame\n",
      "\n",
      "See the caveats in the documentation: https://pandas.pydata.org/pandas-docs/stable/user_guide/indexing.html#returning-a-view-versus-a-copy\n",
      "  trainData['production_country'][j] = d[0]['name']\n",
      "C:\\Users\\moham\\AppData\\Local\\Temp/ipykernel_15976/1265860272.py:14: SettingWithCopyWarning: \n",
      "A value is trying to be set on a copy of a slice from a DataFrame\n",
      "\n",
      "See the caveats in the documentation: https://pandas.pydata.org/pandas-docs/stable/user_guide/indexing.html#returning-a-view-versus-a-copy\n",
      "  trainData['production_country'][j] = np.NaN\n",
      "C:\\Users\\moham\\AppData\\Local\\Temp/ipykernel_15976/1265860272.py:10: SettingWithCopyWarning: \n",
      "A value is trying to be set on a copy of a slice from a DataFrame\n",
      "\n",
      "See the caveats in the documentation: https://pandas.pydata.org/pandas-docs/stable/user_guide/indexing.html#returning-a-view-versus-a-copy\n",
      "  trainData['production_country'][j] = 'United States of America'\n",
      "C:\\Users\\moham\\AppData\\Local\\Temp/ipykernel_15976/1265860272.py:26: SettingWithCopyWarning: \n",
      "A value is trying to be set on a copy of a slice from a DataFrame\n",
      "\n",
      "See the caveats in the documentation: https://pandas.pydata.org/pandas-docs/stable/user_guide/indexing.html#returning-a-view-versus-a-copy\n",
      "  testData['production_country'][j] = 'United States of America'\n",
      "C:\\Users\\moham\\AppData\\Local\\Temp/ipykernel_15976/1265860272.py:28: SettingWithCopyWarning: \n",
      "A value is trying to be set on a copy of a slice from a DataFrame\n",
      "\n",
      "See the caveats in the documentation: https://pandas.pydata.org/pandas-docs/stable/user_guide/indexing.html#returning-a-view-versus-a-copy\n",
      "  testData['production_country'][j] = d[0]['name']\n",
      "C:\\Users\\moham\\AppData\\Local\\Temp/ipykernel_15976/1265860272.py:30: SettingWithCopyWarning: \n",
      "A value is trying to be set on a copy of a slice from a DataFrame\n",
      "\n",
      "See the caveats in the documentation: https://pandas.pydata.org/pandas-docs/stable/user_guide/indexing.html#returning-a-view-versus-a-copy\n",
      "  testData['production_country'][j] = np.NaN\n"
     ]
    }
   ],
   "source": [
    "j = 0\n",
    "for i in trainData['production_countries']:\n",
    "    d = get_dict(i)\n",
    "    if d != {}:\n",
    "        if len(d) > 1:\n",
    "            countires = []\n",
    "            for k in range(len(d)):\n",
    "                countires.append(d[k]['name'])\n",
    "            if 'United States of America' in countires:\n",
    "                trainData['production_country'][j] = 'United States of America'\n",
    "        else:\n",
    "            trainData['production_country'][j] = d[0]['name']\n",
    "    else:\n",
    "        trainData['production_country'][j] = np.NaN\n",
    "    j += 1\n",
    "    \n",
    "j = 0\n",
    "for i in testData['production_countries']:\n",
    "    d = get_dict(i)\n",
    "    if d != {}:\n",
    "        if len(d) > 1:\n",
    "            countires = []\n",
    "            for k in range(len(d)):\n",
    "                countires.append(d[k]['name'])\n",
    "            if 'United States of America' in countires:\n",
    "                testData['production_country'][j] = 'United States of America'\n",
    "        else:\n",
    "            testData['production_country'][j] = d[0]['name']\n",
    "    else:\n",
    "        testData['production_country'][j] = np.NaN\n",
    "    j += 1"
   ]
  },
  {
   "cell_type": "code",
   "execution_count": 41,
   "id": "263c2887",
   "metadata": {},
   "outputs": [
    {
     "data": {
      "text/html": [
       "<div>\n",
       "<style scoped>\n",
       "    .dataframe tbody tr th:only-of-type {\n",
       "        vertical-align: middle;\n",
       "    }\n",
       "\n",
       "    .dataframe tbody tr th {\n",
       "        vertical-align: top;\n",
       "    }\n",
       "\n",
       "    .dataframe thead th {\n",
       "        text-align: right;\n",
       "    }\n",
       "</style>\n",
       "<table border=\"1\" class=\"dataframe\">\n",
       "  <thead>\n",
       "    <tr style=\"text-align: right;\">\n",
       "      <th></th>\n",
       "      <th>budget</th>\n",
       "      <th>popularity</th>\n",
       "      <th>production_companies</th>\n",
       "      <th>production_countries</th>\n",
       "      <th>release_date</th>\n",
       "      <th>runtime</th>\n",
       "      <th>spoken_languages</th>\n",
       "      <th>status</th>\n",
       "      <th>tagline</th>\n",
       "      <th>title</th>\n",
       "      <th>Keywords</th>\n",
       "      <th>cast</th>\n",
       "      <th>crew</th>\n",
       "      <th>revenue</th>\n",
       "      <th>genre_name</th>\n",
       "      <th>Homepage</th>\n",
       "      <th>Has_En</th>\n",
       "      <th>production_country</th>\n",
       "    </tr>\n",
       "  </thead>\n",
       "  <tbody>\n",
       "    <tr>\n",
       "      <th>0</th>\n",
       "      <td>14000000.00</td>\n",
       "      <td>6.575393</td>\n",
       "      <td>[{'name': 'Paramount Pictures', 'id': 4}, {'na...</td>\n",
       "      <td>[{'iso_3166_1': 'US', 'name': 'United States o...</td>\n",
       "      <td>2/20/15</td>\n",
       "      <td>93.0</td>\n",
       "      <td>[{'iso_639_1': 'en', 'name': 'English'}]</td>\n",
       "      <td>Released</td>\n",
       "      <td>The Laws of Space and Time are About to be Vio...</td>\n",
       "      <td>Hot Tub Time Machine 2</td>\n",
       "      <td>[{'id': 4379, 'name': 'time travel'}, {'id': 9...</td>\n",
       "      <td>[{'cast_id': 4, 'character': 'Lou', 'credit_id...</td>\n",
       "      <td>[{'credit_id': '59ac067c92514107af02c8c8', 'de...</td>\n",
       "      <td>12314651</td>\n",
       "      <td>Comedy</td>\n",
       "      <td>0</td>\n",
       "      <td>1</td>\n",
       "      <td>United States of America</td>\n",
       "    </tr>\n",
       "    <tr>\n",
       "      <th>1</th>\n",
       "      <td>40000000.00</td>\n",
       "      <td>8.248895</td>\n",
       "      <td>[{'name': 'Walt Disney Pictures', 'id': 2}]</td>\n",
       "      <td>[{'iso_3166_1': 'US', 'name': 'United States o...</td>\n",
       "      <td>8/6/04</td>\n",
       "      <td>113.0</td>\n",
       "      <td>[{'iso_639_1': 'en', 'name': 'English'}]</td>\n",
       "      <td>Released</td>\n",
       "      <td>It can take a lifetime to find true love; she'...</td>\n",
       "      <td>The Princess Diaries 2: Royal Engagement</td>\n",
       "      <td>[{'id': 2505, 'name': 'coronation'}, {'id': 42...</td>\n",
       "      <td>[{'cast_id': 1, 'character': 'Mia Thermopolis'...</td>\n",
       "      <td>[{'credit_id': '52fe43fe9251416c7502563d', 'de...</td>\n",
       "      <td>95149435</td>\n",
       "      <td>Comedy</td>\n",
       "      <td>0</td>\n",
       "      <td>1</td>\n",
       "      <td>United States of America</td>\n",
       "    </tr>\n",
       "    <tr>\n",
       "      <th>2</th>\n",
       "      <td>3300000.00</td>\n",
       "      <td>64.299990</td>\n",
       "      <td>[{'name': 'Bold Films', 'id': 2266}, {'name': ...</td>\n",
       "      <td>[{'iso_3166_1': 'US', 'name': 'United States o...</td>\n",
       "      <td>10/10/14</td>\n",
       "      <td>105.0</td>\n",
       "      <td>[{'iso_639_1': 'en', 'name': 'English'}]</td>\n",
       "      <td>Released</td>\n",
       "      <td>The road to greatness can take you to the edge.</td>\n",
       "      <td>Whiplash</td>\n",
       "      <td>[{'id': 1416, 'name': 'jazz'}, {'id': 1523, 'n...</td>\n",
       "      <td>[{'cast_id': 5, 'character': 'Andrew Neimann',...</td>\n",
       "      <td>[{'credit_id': '54d5356ec3a3683ba0000039', 'de...</td>\n",
       "      <td>13092000</td>\n",
       "      <td>Drama</td>\n",
       "      <td>1</td>\n",
       "      <td>1</td>\n",
       "      <td>United States of America</td>\n",
       "    </tr>\n",
       "    <tr>\n",
       "      <th>3</th>\n",
       "      <td>1200000.00</td>\n",
       "      <td>3.174936</td>\n",
       "      <td>NaN</td>\n",
       "      <td>[{'iso_3166_1': 'IN', 'name': 'India'}]</td>\n",
       "      <td>3/9/12</td>\n",
       "      <td>122.0</td>\n",
       "      <td>[{'iso_639_1': 'en', 'name': 'English'}, {'iso...</td>\n",
       "      <td>Released</td>\n",
       "      <td>NaN</td>\n",
       "      <td>Kahaani</td>\n",
       "      <td>[{'id': 10092, 'name': 'mystery'}, {'id': 1054...</td>\n",
       "      <td>[{'cast_id': 1, 'character': 'Vidya Bagchi', '...</td>\n",
       "      <td>[{'credit_id': '52fe48779251416c9108d6eb', 'de...</td>\n",
       "      <td>16000000</td>\n",
       "      <td>Thriller</td>\n",
       "      <td>1</td>\n",
       "      <td>1</td>\n",
       "      <td>India</td>\n",
       "    </tr>\n",
       "    <tr>\n",
       "      <th>4</th>\n",
       "      <td>22531334.11</td>\n",
       "      <td>1.148070</td>\n",
       "      <td>NaN</td>\n",
       "      <td>[{'iso_3166_1': 'KR', 'name': 'South Korea'}]</td>\n",
       "      <td>2/5/09</td>\n",
       "      <td>118.0</td>\n",
       "      <td>[{'iso_639_1': 'ko', 'name': '한국어/조선말'}]</td>\n",
       "      <td>Released</td>\n",
       "      <td>NaN</td>\n",
       "      <td>Marine Boy</td>\n",
       "      <td>NaN</td>\n",
       "      <td>[{'cast_id': 3, 'character': 'Chun-soo', 'cred...</td>\n",
       "      <td>[{'credit_id': '52fe464b9251416c75073b43', 'de...</td>\n",
       "      <td>3923970</td>\n",
       "      <td>Action</td>\n",
       "      <td>0</td>\n",
       "      <td>1</td>\n",
       "      <td>South Korea</td>\n",
       "    </tr>\n",
       "  </tbody>\n",
       "</table>\n",
       "</div>"
      ],
      "text/plain": [
       "        budget  popularity                               production_companies  \\\n",
       "0  14000000.00    6.575393  [{'name': 'Paramount Pictures', 'id': 4}, {'na...   \n",
       "1  40000000.00    8.248895        [{'name': 'Walt Disney Pictures', 'id': 2}]   \n",
       "2   3300000.00   64.299990  [{'name': 'Bold Films', 'id': 2266}, {'name': ...   \n",
       "3   1200000.00    3.174936                                                NaN   \n",
       "4  22531334.11    1.148070                                                NaN   \n",
       "\n",
       "                                production_countries release_date  runtime  \\\n",
       "0  [{'iso_3166_1': 'US', 'name': 'United States o...      2/20/15     93.0   \n",
       "1  [{'iso_3166_1': 'US', 'name': 'United States o...       8/6/04    113.0   \n",
       "2  [{'iso_3166_1': 'US', 'name': 'United States o...     10/10/14    105.0   \n",
       "3            [{'iso_3166_1': 'IN', 'name': 'India'}]       3/9/12    122.0   \n",
       "4      [{'iso_3166_1': 'KR', 'name': 'South Korea'}]       2/5/09    118.0   \n",
       "\n",
       "                                    spoken_languages    status  \\\n",
       "0           [{'iso_639_1': 'en', 'name': 'English'}]  Released   \n",
       "1           [{'iso_639_1': 'en', 'name': 'English'}]  Released   \n",
       "2           [{'iso_639_1': 'en', 'name': 'English'}]  Released   \n",
       "3  [{'iso_639_1': 'en', 'name': 'English'}, {'iso...  Released   \n",
       "4           [{'iso_639_1': 'ko', 'name': '한국어/조선말'}]  Released   \n",
       "\n",
       "                                             tagline  \\\n",
       "0  The Laws of Space and Time are About to be Vio...   \n",
       "1  It can take a lifetime to find true love; she'...   \n",
       "2    The road to greatness can take you to the edge.   \n",
       "3                                                NaN   \n",
       "4                                                NaN   \n",
       "\n",
       "                                      title  \\\n",
       "0                    Hot Tub Time Machine 2   \n",
       "1  The Princess Diaries 2: Royal Engagement   \n",
       "2                                  Whiplash   \n",
       "3                                   Kahaani   \n",
       "4                                Marine Boy   \n",
       "\n",
       "                                            Keywords  \\\n",
       "0  [{'id': 4379, 'name': 'time travel'}, {'id': 9...   \n",
       "1  [{'id': 2505, 'name': 'coronation'}, {'id': 42...   \n",
       "2  [{'id': 1416, 'name': 'jazz'}, {'id': 1523, 'n...   \n",
       "3  [{'id': 10092, 'name': 'mystery'}, {'id': 1054...   \n",
       "4                                                NaN   \n",
       "\n",
       "                                                cast  \\\n",
       "0  [{'cast_id': 4, 'character': 'Lou', 'credit_id...   \n",
       "1  [{'cast_id': 1, 'character': 'Mia Thermopolis'...   \n",
       "2  [{'cast_id': 5, 'character': 'Andrew Neimann',...   \n",
       "3  [{'cast_id': 1, 'character': 'Vidya Bagchi', '...   \n",
       "4  [{'cast_id': 3, 'character': 'Chun-soo', 'cred...   \n",
       "\n",
       "                                                crew   revenue genre_name  \\\n",
       "0  [{'credit_id': '59ac067c92514107af02c8c8', 'de...  12314651     Comedy   \n",
       "1  [{'credit_id': '52fe43fe9251416c7502563d', 'de...  95149435     Comedy   \n",
       "2  [{'credit_id': '54d5356ec3a3683ba0000039', 'de...  13092000      Drama   \n",
       "3  [{'credit_id': '52fe48779251416c9108d6eb', 'de...  16000000   Thriller   \n",
       "4  [{'credit_id': '52fe464b9251416c75073b43', 'de...   3923970     Action   \n",
       "\n",
       "  Homepage  Has_En        production_country  \n",
       "0        0       1  United States of America  \n",
       "1        0       1  United States of America  \n",
       "2        1       1  United States of America  \n",
       "3        1       1                     India  \n",
       "4        0       1               South Korea  "
      ]
     },
     "execution_count": 41,
     "metadata": {},
     "output_type": "execute_result"
    }
   ],
   "source": [
    "trainData.head()"
   ]
  },
  {
   "cell_type": "code",
   "execution_count": 42,
   "id": "9a2deae3",
   "metadata": {},
   "outputs": [
    {
     "data": {
      "text/plain": [
       "<seaborn.axisgrid.FacetGrid at 0x1dfd2a8fc40>"
      ]
     },
     "execution_count": 42,
     "metadata": {},
     "output_type": "execute_result"
    },
    {
     "data": {
      "image/png": "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\n",
=======
   "execution_count": 41,
   "id": "0195cf5b",
   "metadata": {},
   "outputs": [
    {
     "ename": "KeyboardInterrupt",
     "evalue": "",
     "output_type": "error",
     "traceback": [
      "\u001b[1;31m---------------------------------------------------------------------------\u001b[0m",
      "\u001b[1;31mKeyboardInterrupt\u001b[0m                         Traceback (most recent call last)",
      "\u001b[1;32m~\\AppData\\Local\\Temp/ipykernel_12872/1265322298.py\u001b[0m in \u001b[0;36m<module>\u001b[1;34m\u001b[0m\n\u001b[1;32m----> 1\u001b[1;33m \u001b[0msns\u001b[0m\u001b[1;33m.\u001b[0m\u001b[0mcatplot\u001b[0m\u001b[1;33m(\u001b[0m\u001b[0mx\u001b[0m\u001b[1;33m=\u001b[0m\u001b[1;34m'popularity'\u001b[0m\u001b[1;33m,\u001b[0m\u001b[0my\u001b[0m\u001b[1;33m=\u001b[0m\u001b[1;34m'revenue'\u001b[0m\u001b[1;33m,\u001b[0m\u001b[0mdata\u001b[0m\u001b[1;33m=\u001b[0m\u001b[0mtrainData\u001b[0m\u001b[1;33m)\u001b[0m\u001b[1;33m\u001b[0m\u001b[1;33m\u001b[0m\u001b[0m\n\u001b[0m",
      "\u001b[1;32m~\\anaconda3\\lib\\site-packages\\seaborn\\_decorators.py\u001b[0m in \u001b[0;36minner_f\u001b[1;34m(*args, **kwargs)\u001b[0m\n\u001b[0;32m     44\u001b[0m             )\n\u001b[0;32m     45\u001b[0m         \u001b[0mkwargs\u001b[0m\u001b[1;33m.\u001b[0m\u001b[0mupdate\u001b[0m\u001b[1;33m(\u001b[0m\u001b[1;33m{\u001b[0m\u001b[0mk\u001b[0m\u001b[1;33m:\u001b[0m \u001b[0marg\u001b[0m \u001b[1;32mfor\u001b[0m \u001b[0mk\u001b[0m\u001b[1;33m,\u001b[0m \u001b[0marg\u001b[0m \u001b[1;32min\u001b[0m \u001b[0mzip\u001b[0m\u001b[1;33m(\u001b[0m\u001b[0msig\u001b[0m\u001b[1;33m.\u001b[0m\u001b[0mparameters\u001b[0m\u001b[1;33m,\u001b[0m \u001b[0margs\u001b[0m\u001b[1;33m)\u001b[0m\u001b[1;33m}\u001b[0m\u001b[1;33m)\u001b[0m\u001b[1;33m\u001b[0m\u001b[1;33m\u001b[0m\u001b[0m\n\u001b[1;32m---> 46\u001b[1;33m         \u001b[1;32mreturn\u001b[0m \u001b[0mf\u001b[0m\u001b[1;33m(\u001b[0m\u001b[1;33m**\u001b[0m\u001b[0mkwargs\u001b[0m\u001b[1;33m)\u001b[0m\u001b[1;33m\u001b[0m\u001b[1;33m\u001b[0m\u001b[0m\n\u001b[0m\u001b[0;32m     47\u001b[0m     \u001b[1;32mreturn\u001b[0m \u001b[0minner_f\u001b[0m\u001b[1;33m\u001b[0m\u001b[1;33m\u001b[0m\u001b[0m\n\u001b[0;32m     48\u001b[0m \u001b[1;33m\u001b[0m\u001b[0m\n",
      "\u001b[1;32m~\\anaconda3\\lib\\site-packages\\seaborn\\categorical.py\u001b[0m in \u001b[0;36mcatplot\u001b[1;34m(x, y, hue, data, row, col, col_wrap, estimator, ci, n_boot, units, seed, order, hue_order, row_order, col_order, kind, height, aspect, orient, color, palette, legend, legend_out, sharex, sharey, margin_titles, facet_kws, **kwargs)\u001b[0m\n\u001b[0;32m   3845\u001b[0m \u001b[1;33m\u001b[0m\u001b[0m\n\u001b[0;32m   3846\u001b[0m     \u001b[1;31m# Draw the plot onto the facets\u001b[0m\u001b[1;33m\u001b[0m\u001b[1;33m\u001b[0m\u001b[0m\n\u001b[1;32m-> 3847\u001b[1;33m     \u001b[0mg\u001b[0m\u001b[1;33m.\u001b[0m\u001b[0mmap_dataframe\u001b[0m\u001b[1;33m(\u001b[0m\u001b[0mplot_func\u001b[0m\u001b[1;33m,\u001b[0m \u001b[0mx\u001b[0m\u001b[1;33m=\u001b[0m\u001b[0mx\u001b[0m\u001b[1;33m,\u001b[0m \u001b[0my\u001b[0m\u001b[1;33m=\u001b[0m\u001b[0my\u001b[0m\u001b[1;33m,\u001b[0m \u001b[0mhue\u001b[0m\u001b[1;33m=\u001b[0m\u001b[0mhue\u001b[0m\u001b[1;33m,\u001b[0m \u001b[1;33m**\u001b[0m\u001b[0mplot_kws\u001b[0m\u001b[1;33m)\u001b[0m\u001b[1;33m\u001b[0m\u001b[1;33m\u001b[0m\u001b[0m\n\u001b[0m\u001b[0;32m   3848\u001b[0m \u001b[1;33m\u001b[0m\u001b[0m\n\u001b[0;32m   3849\u001b[0m     \u001b[1;32mif\u001b[0m \u001b[0mp\u001b[0m\u001b[1;33m.\u001b[0m\u001b[0morient\u001b[0m \u001b[1;33m==\u001b[0m \u001b[1;34m\"h\"\u001b[0m\u001b[1;33m:\u001b[0m\u001b[1;33m\u001b[0m\u001b[1;33m\u001b[0m\u001b[0m\n",
      "\u001b[1;32m~\\anaconda3\\lib\\site-packages\\seaborn\\axisgrid.py\u001b[0m in \u001b[0;36mmap_dataframe\u001b[1;34m(self, func, *args, **kwargs)\u001b[0m\n\u001b[0;32m    775\u001b[0m \u001b[1;33m\u001b[0m\u001b[0m\n\u001b[0;32m    776\u001b[0m             \u001b[1;31m# Draw the plot\u001b[0m\u001b[1;33m\u001b[0m\u001b[1;33m\u001b[0m\u001b[0m\n\u001b[1;32m--> 777\u001b[1;33m             \u001b[0mself\u001b[0m\u001b[1;33m.\u001b[0m\u001b[0m_facet_plot\u001b[0m\u001b[1;33m(\u001b[0m\u001b[0mfunc\u001b[0m\u001b[1;33m,\u001b[0m \u001b[0max\u001b[0m\u001b[1;33m,\u001b[0m \u001b[0margs\u001b[0m\u001b[1;33m,\u001b[0m \u001b[0mkwargs\u001b[0m\u001b[1;33m)\u001b[0m\u001b[1;33m\u001b[0m\u001b[1;33m\u001b[0m\u001b[0m\n\u001b[0m\u001b[0;32m    778\u001b[0m \u001b[1;33m\u001b[0m\u001b[0m\n\u001b[0;32m    779\u001b[0m         \u001b[1;31m# For axis labels, prefer to use positional args for backcompat\u001b[0m\u001b[1;33m\u001b[0m\u001b[1;33m\u001b[0m\u001b[0m\n",
      "\u001b[1;32m~\\anaconda3\\lib\\site-packages\\seaborn\\axisgrid.py\u001b[0m in \u001b[0;36m_facet_plot\u001b[1;34m(self, func, ax, plot_args, plot_kwargs)\u001b[0m\n\u001b[0;32m    804\u001b[0m             \u001b[0mplot_args\u001b[0m \u001b[1;33m=\u001b[0m \u001b[1;33m[\u001b[0m\u001b[1;33m]\u001b[0m\u001b[1;33m\u001b[0m\u001b[1;33m\u001b[0m\u001b[0m\n\u001b[0;32m    805\u001b[0m             \u001b[0mplot_kwargs\u001b[0m\u001b[1;33m[\u001b[0m\u001b[1;34m\"ax\"\u001b[0m\u001b[1;33m]\u001b[0m \u001b[1;33m=\u001b[0m \u001b[0max\u001b[0m\u001b[1;33m\u001b[0m\u001b[1;33m\u001b[0m\u001b[0m\n\u001b[1;32m--> 806\u001b[1;33m         \u001b[0mfunc\u001b[0m\u001b[1;33m(\u001b[0m\u001b[1;33m*\u001b[0m\u001b[0mplot_args\u001b[0m\u001b[1;33m,\u001b[0m \u001b[1;33m**\u001b[0m\u001b[0mplot_kwargs\u001b[0m\u001b[1;33m)\u001b[0m\u001b[1;33m\u001b[0m\u001b[1;33m\u001b[0m\u001b[0m\n\u001b[0m\u001b[0;32m    807\u001b[0m \u001b[1;33m\u001b[0m\u001b[0m\n\u001b[0;32m    808\u001b[0m         \u001b[1;31m# Sort out the supporting information\u001b[0m\u001b[1;33m\u001b[0m\u001b[1;33m\u001b[0m\u001b[0m\n",
      "\u001b[1;32m~\\anaconda3\\lib\\site-packages\\seaborn\\_decorators.py\u001b[0m in \u001b[0;36minner_f\u001b[1;34m(*args, **kwargs)\u001b[0m\n\u001b[0;32m     44\u001b[0m             )\n\u001b[0;32m     45\u001b[0m         \u001b[0mkwargs\u001b[0m\u001b[1;33m.\u001b[0m\u001b[0mupdate\u001b[0m\u001b[1;33m(\u001b[0m\u001b[1;33m{\u001b[0m\u001b[0mk\u001b[0m\u001b[1;33m:\u001b[0m \u001b[0marg\u001b[0m \u001b[1;32mfor\u001b[0m \u001b[0mk\u001b[0m\u001b[1;33m,\u001b[0m \u001b[0marg\u001b[0m \u001b[1;32min\u001b[0m \u001b[0mzip\u001b[0m\u001b[1;33m(\u001b[0m\u001b[0msig\u001b[0m\u001b[1;33m.\u001b[0m\u001b[0mparameters\u001b[0m\u001b[1;33m,\u001b[0m \u001b[0margs\u001b[0m\u001b[1;33m)\u001b[0m\u001b[1;33m}\u001b[0m\u001b[1;33m)\u001b[0m\u001b[1;33m\u001b[0m\u001b[1;33m\u001b[0m\u001b[0m\n\u001b[1;32m---> 46\u001b[1;33m         \u001b[1;32mreturn\u001b[0m \u001b[0mf\u001b[0m\u001b[1;33m(\u001b[0m\u001b[1;33m**\u001b[0m\u001b[0mkwargs\u001b[0m\u001b[1;33m)\u001b[0m\u001b[1;33m\u001b[0m\u001b[1;33m\u001b[0m\u001b[0m\n\u001b[0m\u001b[0;32m     47\u001b[0m     \u001b[1;32mreturn\u001b[0m \u001b[0minner_f\u001b[0m\u001b[1;33m\u001b[0m\u001b[1;33m\u001b[0m\u001b[0m\n\u001b[0;32m     48\u001b[0m \u001b[1;33m\u001b[0m\u001b[0m\n",
      "\u001b[1;32m~\\anaconda3\\lib\\site-packages\\seaborn\\categorical.py\u001b[0m in \u001b[0;36mstripplot\u001b[1;34m(x, y, hue, data, order, hue_order, jitter, dodge, orient, color, palette, size, edgecolor, linewidth, ax, **kwargs)\u001b[0m\n\u001b[0;32m   2820\u001b[0m                        linewidth=linewidth))\n\u001b[0;32m   2821\u001b[0m \u001b[1;33m\u001b[0m\u001b[0m\n\u001b[1;32m-> 2822\u001b[1;33m     \u001b[0mplotter\u001b[0m\u001b[1;33m.\u001b[0m\u001b[0mplot\u001b[0m\u001b[1;33m(\u001b[0m\u001b[0max\u001b[0m\u001b[1;33m,\u001b[0m \u001b[0mkwargs\u001b[0m\u001b[1;33m)\u001b[0m\u001b[1;33m\u001b[0m\u001b[1;33m\u001b[0m\u001b[0m\n\u001b[0m\u001b[0;32m   2823\u001b[0m     \u001b[1;32mreturn\u001b[0m \u001b[0max\u001b[0m\u001b[1;33m\u001b[0m\u001b[1;33m\u001b[0m\u001b[0m\n\u001b[0;32m   2824\u001b[0m \u001b[1;33m\u001b[0m\u001b[0m\n",
      "\u001b[1;32m~\\anaconda3\\lib\\site-packages\\seaborn\\categorical.py\u001b[0m in \u001b[0;36mplot\u001b[1;34m(self, ax, kws)\u001b[0m\n\u001b[0;32m   1158\u001b[0m     \u001b[1;32mdef\u001b[0m \u001b[0mplot\u001b[0m\u001b[1;33m(\u001b[0m\u001b[0mself\u001b[0m\u001b[1;33m,\u001b[0m \u001b[0max\u001b[0m\u001b[1;33m,\u001b[0m \u001b[0mkws\u001b[0m\u001b[1;33m)\u001b[0m\u001b[1;33m:\u001b[0m\u001b[1;33m\u001b[0m\u001b[1;33m\u001b[0m\u001b[0m\n\u001b[0;32m   1159\u001b[0m         \u001b[1;34m\"\"\"Make the plot.\"\"\"\u001b[0m\u001b[1;33m\u001b[0m\u001b[1;33m\u001b[0m\u001b[0m\n\u001b[1;32m-> 1160\u001b[1;33m         \u001b[0mself\u001b[0m\u001b[1;33m.\u001b[0m\u001b[0mdraw_stripplot\u001b[0m\u001b[1;33m(\u001b[0m\u001b[0max\u001b[0m\u001b[1;33m,\u001b[0m \u001b[0mkws\u001b[0m\u001b[1;33m)\u001b[0m\u001b[1;33m\u001b[0m\u001b[1;33m\u001b[0m\u001b[0m\n\u001b[0m\u001b[0;32m   1161\u001b[0m         \u001b[0mself\u001b[0m\u001b[1;33m.\u001b[0m\u001b[0madd_legend_data\u001b[0m\u001b[1;33m(\u001b[0m\u001b[0max\u001b[0m\u001b[1;33m)\u001b[0m\u001b[1;33m\u001b[0m\u001b[1;33m\u001b[0m\u001b[0m\n\u001b[0;32m   1162\u001b[0m         \u001b[0mself\u001b[0m\u001b[1;33m.\u001b[0m\u001b[0mannotate_axes\u001b[0m\u001b[1;33m(\u001b[0m\u001b[0max\u001b[0m\u001b[1;33m)\u001b[0m\u001b[1;33m\u001b[0m\u001b[1;33m\u001b[0m\u001b[0m\n",
      "\u001b[1;32m~\\anaconda3\\lib\\site-packages\\seaborn\\categorical.py\u001b[0m in \u001b[0;36mdraw_stripplot\u001b[1;34m(self, ax, kws)\u001b[0m\n\u001b[0;32m   1127\u001b[0m \u001b[1;33m\u001b[0m\u001b[0m\n\u001b[0;32m   1128\u001b[0m                 \u001b[0mstrip_data\u001b[0m \u001b[1;33m=\u001b[0m \u001b[0mgroup_data\u001b[0m\u001b[1;33m[\u001b[0m\u001b[0mhue_mask\u001b[0m\u001b[1;33m]\u001b[0m\u001b[1;33m\u001b[0m\u001b[1;33m\u001b[0m\u001b[0m\n\u001b[1;32m-> 1129\u001b[1;33m                 \u001b[0mpoint_colors\u001b[0m \u001b[1;33m=\u001b[0m \u001b[0mnp\u001b[0m\u001b[1;33m.\u001b[0m\u001b[0masarray\u001b[0m\u001b[1;33m(\u001b[0m\u001b[0mself\u001b[0m\u001b[1;33m.\u001b[0m\u001b[0mpoint_colors\u001b[0m\u001b[1;33m[\u001b[0m\u001b[0mi\u001b[0m\u001b[1;33m]\u001b[0m\u001b[1;33m[\u001b[0m\u001b[0mhue_mask\u001b[0m\u001b[1;33m]\u001b[0m\u001b[1;33m)\u001b[0m\u001b[1;33m\u001b[0m\u001b[1;33m\u001b[0m\u001b[0m\n\u001b[0m\u001b[0;32m   1130\u001b[0m \u001b[1;33m\u001b[0m\u001b[0m\n\u001b[0;32m   1131\u001b[0m                 \u001b[1;31m# Plot the points in centered positions\u001b[0m\u001b[1;33m\u001b[0m\u001b[1;33m\u001b[0m\u001b[0m\n",
      "\u001b[1;32m~\\anaconda3\\lib\\site-packages\\seaborn\\categorical.py\u001b[0m in \u001b[0;36mpoint_colors\u001b[1;34m(self)\u001b[0m\n\u001b[0;32m   1061\u001b[0m             \u001b[0mgroup_colors\u001b[0m \u001b[1;33m=\u001b[0m \u001b[0mnp\u001b[0m\u001b[1;33m.\u001b[0m\u001b[0mempty\u001b[0m\u001b[1;33m(\u001b[0m\u001b[0mgroup_data\u001b[0m\u001b[1;33m.\u001b[0m\u001b[0msize\u001b[0m\u001b[1;33m,\u001b[0m \u001b[0mint\u001b[0m\u001b[1;33m)\u001b[0m\u001b[1;33m\u001b[0m\u001b[1;33m\u001b[0m\u001b[0m\n\u001b[0;32m   1062\u001b[0m             \u001b[1;32mif\u001b[0m \u001b[0misinstance\u001b[0m\u001b[1;33m(\u001b[0m\u001b[0mgroup_data\u001b[0m\u001b[1;33m,\u001b[0m \u001b[0mpd\u001b[0m\u001b[1;33m.\u001b[0m\u001b[0mSeries\u001b[0m\u001b[1;33m)\u001b[0m\u001b[1;33m:\u001b[0m\u001b[1;33m\u001b[0m\u001b[1;33m\u001b[0m\u001b[0m\n\u001b[1;32m-> 1063\u001b[1;33m                 \u001b[0mgroup_colors\u001b[0m \u001b[1;33m=\u001b[0m \u001b[0mpd\u001b[0m\u001b[1;33m.\u001b[0m\u001b[0mSeries\u001b[0m\u001b[1;33m(\u001b[0m\u001b[0mgroup_colors\u001b[0m\u001b[1;33m,\u001b[0m \u001b[0mgroup_data\u001b[0m\u001b[1;33m.\u001b[0m\u001b[0mindex\u001b[0m\u001b[1;33m)\u001b[0m\u001b[1;33m\u001b[0m\u001b[1;33m\u001b[0m\u001b[0m\n\u001b[0m\u001b[0;32m   1064\u001b[0m \u001b[1;33m\u001b[0m\u001b[0m\n\u001b[0;32m   1065\u001b[0m             \u001b[1;32mif\u001b[0m \u001b[0mself\u001b[0m\u001b[1;33m.\u001b[0m\u001b[0mplot_hues\u001b[0m \u001b[1;32mis\u001b[0m \u001b[1;32mNone\u001b[0m\u001b[1;33m:\u001b[0m\u001b[1;33m\u001b[0m\u001b[1;33m\u001b[0m\u001b[0m\n",
      "\u001b[1;32m~\\anaconda3\\lib\\site-packages\\pandas\\core\\series.py\u001b[0m in \u001b[0;36m__init__\u001b[1;34m(self, data, index, dtype, name, copy, fastpath)\u001b[0m\n\u001b[0;32m    441\u001b[0m                 \u001b[0mmanager\u001b[0m \u001b[1;33m=\u001b[0m \u001b[0mget_option\u001b[0m\u001b[1;33m(\u001b[0m\u001b[1;34m\"mode.data_manager\"\u001b[0m\u001b[1;33m)\u001b[0m\u001b[1;33m\u001b[0m\u001b[1;33m\u001b[0m\u001b[0m\n\u001b[0;32m    442\u001b[0m                 \u001b[1;32mif\u001b[0m \u001b[0mmanager\u001b[0m \u001b[1;33m==\u001b[0m \u001b[1;34m\"block\"\u001b[0m\u001b[1;33m:\u001b[0m\u001b[1;33m\u001b[0m\u001b[1;33m\u001b[0m\u001b[0m\n\u001b[1;32m--> 443\u001b[1;33m                     \u001b[0mdata\u001b[0m \u001b[1;33m=\u001b[0m \u001b[0mSingleBlockManager\u001b[0m\u001b[1;33m.\u001b[0m\u001b[0mfrom_array\u001b[0m\u001b[1;33m(\u001b[0m\u001b[0mdata\u001b[0m\u001b[1;33m,\u001b[0m \u001b[0mindex\u001b[0m\u001b[1;33m)\u001b[0m\u001b[1;33m\u001b[0m\u001b[1;33m\u001b[0m\u001b[0m\n\u001b[0m\u001b[0;32m    444\u001b[0m                 \u001b[1;32melif\u001b[0m \u001b[0mmanager\u001b[0m \u001b[1;33m==\u001b[0m \u001b[1;34m\"array\"\u001b[0m\u001b[1;33m:\u001b[0m\u001b[1;33m\u001b[0m\u001b[1;33m\u001b[0m\u001b[0m\n\u001b[0;32m    445\u001b[0m                     \u001b[0mdata\u001b[0m \u001b[1;33m=\u001b[0m \u001b[0mSingleArrayManager\u001b[0m\u001b[1;33m.\u001b[0m\u001b[0mfrom_array\u001b[0m\u001b[1;33m(\u001b[0m\u001b[0mdata\u001b[0m\u001b[1;33m,\u001b[0m \u001b[0mindex\u001b[0m\u001b[1;33m)\u001b[0m\u001b[1;33m\u001b[0m\u001b[1;33m\u001b[0m\u001b[0m\n",
      "\u001b[1;32m~\\anaconda3\\lib\\site-packages\\pandas\\core\\internals\\managers.py\u001b[0m in \u001b[0;36mfrom_array\u001b[1;34m(cls, array, index)\u001b[0m\n\u001b[0;32m   1572\u001b[0m         \u001b[0mConstructor\u001b[0m \u001b[1;32mfor\u001b[0m \u001b[1;32mif\u001b[0m \u001b[0mwe\u001b[0m \u001b[0mhave\u001b[0m \u001b[0man\u001b[0m \u001b[0marray\u001b[0m \u001b[0mthat\u001b[0m \u001b[1;32mis\u001b[0m \u001b[1;32mnot\u001b[0m \u001b[0myet\u001b[0m \u001b[0ma\u001b[0m \u001b[0mBlock\u001b[0m\u001b[1;33m.\u001b[0m\u001b[1;33m\u001b[0m\u001b[1;33m\u001b[0m\u001b[0m\n\u001b[0;32m   1573\u001b[0m         \"\"\"\n\u001b[1;32m-> 1574\u001b[1;33m         \u001b[0mblock\u001b[0m \u001b[1;33m=\u001b[0m \u001b[0mnew_block\u001b[0m\u001b[1;33m(\u001b[0m\u001b[0marray\u001b[0m\u001b[1;33m,\u001b[0m \u001b[0mplacement\u001b[0m\u001b[1;33m=\u001b[0m\u001b[0mslice\u001b[0m\u001b[1;33m(\u001b[0m\u001b[1;36m0\u001b[0m\u001b[1;33m,\u001b[0m \u001b[0mlen\u001b[0m\u001b[1;33m(\u001b[0m\u001b[0mindex\u001b[0m\u001b[1;33m)\u001b[0m\u001b[1;33m)\u001b[0m\u001b[1;33m,\u001b[0m \u001b[0mndim\u001b[0m\u001b[1;33m=\u001b[0m\u001b[1;36m1\u001b[0m\u001b[1;33m)\u001b[0m\u001b[1;33m\u001b[0m\u001b[1;33m\u001b[0m\u001b[0m\n\u001b[0m\u001b[0;32m   1575\u001b[0m         \u001b[1;32mreturn\u001b[0m \u001b[0mcls\u001b[0m\u001b[1;33m(\u001b[0m\u001b[0mblock\u001b[0m\u001b[1;33m,\u001b[0m \u001b[0mindex\u001b[0m\u001b[1;33m)\u001b[0m\u001b[1;33m\u001b[0m\u001b[1;33m\u001b[0m\u001b[0m\n\u001b[0;32m   1576\u001b[0m \u001b[1;33m\u001b[0m\u001b[0m\n",
      "\u001b[1;32m~\\anaconda3\\lib\\site-packages\\pandas\\core\\internals\\blocks.py\u001b[0m in \u001b[0;36mnew_block\u001b[1;34m(values, placement, ndim, klass)\u001b[0m\n\u001b[0;32m   1932\u001b[0m \u001b[1;33m\u001b[0m\u001b[0m\n\u001b[0;32m   1933\u001b[0m     \u001b[1;32mif\u001b[0m \u001b[1;32mnot\u001b[0m \u001b[0misinstance\u001b[0m\u001b[1;33m(\u001b[0m\u001b[0mplacement\u001b[0m\u001b[1;33m,\u001b[0m \u001b[0mBlockPlacement\u001b[0m\u001b[1;33m)\u001b[0m\u001b[1;33m:\u001b[0m\u001b[1;33m\u001b[0m\u001b[1;33m\u001b[0m\u001b[0m\n\u001b[1;32m-> 1934\u001b[1;33m         \u001b[0mplacement\u001b[0m \u001b[1;33m=\u001b[0m \u001b[0mBlockPlacement\u001b[0m\u001b[1;33m(\u001b[0m\u001b[0mplacement\u001b[0m\u001b[1;33m)\u001b[0m\u001b[1;33m\u001b[0m\u001b[1;33m\u001b[0m\u001b[0m\n\u001b[0m\u001b[0;32m   1935\u001b[0m \u001b[1;33m\u001b[0m\u001b[0m\n\u001b[0;32m   1936\u001b[0m     \u001b[0mvalues\u001b[0m\u001b[1;33m,\u001b[0m \u001b[0m_\u001b[0m \u001b[1;33m=\u001b[0m \u001b[0mextract_pandas_array\u001b[0m\u001b[1;33m(\u001b[0m\u001b[0mvalues\u001b[0m\u001b[1;33m,\u001b[0m \u001b[1;32mNone\u001b[0m\u001b[1;33m,\u001b[0m \u001b[0mndim\u001b[0m\u001b[1;33m)\u001b[0m\u001b[1;33m\u001b[0m\u001b[1;33m\u001b[0m\u001b[0m\n",
      "\u001b[1;31mKeyboardInterrupt\u001b[0m: "
     ]
    },
    {
     "data": {
      "image/png": "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\n",
>>>>>>> parent of 5b3df61 (6 feature analysis)
      "text/plain": [
       "<Figure size 360x360 with 1 Axes>"
      ]
     },
     "metadata": {
      "needs_background": "light"
     },
     "output_type": "display_data"
    }
   ],
   "source": [
<<<<<<< HEAD
    "sns.catplot(x='production_country',y='revenue',data=trainData)"
=======
    "sns.catplot(x='popularity',y='revenue',data=trainData)\n"
>>>>>>> parent of 5b3df61 (6 feature analysis)
   ]
  },
  {
   "cell_type": "code",
<<<<<<< HEAD
   "execution_count": 43,
   "id": "3ec2172c",
   "metadata": {},
   "outputs": [],
   "source": [
    "is_use_preduction=pd.DataFrame(columns=[\"is_use_preduction\"])\n",
    "trainData=pd.concat([trainData,is_use_preduction],axis=1)\n",
    "testData=pd.concat([testData,is_use_preduction],axis=1)"
   ]
  },
  {
   "cell_type": "code",
   "execution_count": 44,
   "id": "7831b203",
   "metadata": {},
   "outputs": [
    {
     "name": "stderr",
     "output_type": "stream",
     "text": [
      "C:\\Users\\moham\\AppData\\Local\\Temp/ipykernel_15976/1949488897.py:4: SettingWithCopyWarning: \n",
      "A value is trying to be set on a copy of a slice from a DataFrame\n",
      "\n",
      "See the caveats in the documentation: https://pandas.pydata.org/pandas-docs/stable/user_guide/indexing.html#returning-a-view-versus-a-copy\n",
      "  trainData['is_use_preduction'][j]=1\n",
      "C:\\Users\\moham\\AppData\\Local\\Temp/ipykernel_15976/1949488897.py:8: SettingWithCopyWarning: \n",
      "A value is trying to be set on a copy of a slice from a DataFrame\n",
      "\n",
      "See the caveats in the documentation: https://pandas.pydata.org/pandas-docs/stable/user_guide/indexing.html#returning-a-view-versus-a-copy\n",
      "  trainData['is_use_preduction'][j]=0\n",
      "C:\\Users\\moham\\AppData\\Local\\Temp/ipykernel_15976/1949488897.py:13: SettingWithCopyWarning: \n",
      "A value is trying to be set on a copy of a slice from a DataFrame\n",
      "\n",
      "See the caveats in the documentation: https://pandas.pydata.org/pandas-docs/stable/user_guide/indexing.html#returning-a-view-versus-a-copy\n",
      "  testData['is_use_preduction'][j]=1\n",
      "C:\\Users\\moham\\AppData\\Local\\Temp/ipykernel_15976/1949488897.py:17: SettingWithCopyWarning: \n",
      "A value is trying to be set on a copy of a slice from a DataFrame\n",
      "\n",
      "See the caveats in the documentation: https://pandas.pydata.org/pandas-docs/stable/user_guide/indexing.html#returning-a-view-versus-a-copy\n",
      "  testData['is_use_preduction'][j]=0\n"
     ]
    }
   ],
   "source": [
    "j=0\n",
    "for i in trainData[\"production_country\"]:\n",
    "    if i=='United States of America':\n",
    "        trainData['is_use_preduction'][j]=1\n",
    "    elif str(i)=='NaN':\n",
    "        trainData['is_use_preduction'][j]=np.NaN\n",
    "    else:\n",
    "        trainData['is_use_preduction'][j]=0\n",
    "    j+=1\n",
    "j=0\n",
    "for i in testData[\"production_country\"]:\n",
    "    if i=='United States of America':\n",
    "        testData['is_use_preduction'][j]=1\n",
    "    elif str(i)=='NaN':\n",
    "        testData['is_use_preduction'][j]=np.NaN\n",
    "    else:\n",
    "        testData['is_use_preduction'][j]=0\n",
    "    j+=1\n",
    "    \n",
    "    "
   ]
  },
  {
   "cell_type": "code",
   "execution_count": 45,
   "id": "76e4b6e7",
   "metadata": {},
   "outputs": [
    {
     "data": {
      "text/html": [
       "<div>\n",
       "<style scoped>\n",
       "    .dataframe tbody tr th:only-of-type {\n",
       "        vertical-align: middle;\n",
       "    }\n",
       "\n",
       "    .dataframe tbody tr th {\n",
       "        vertical-align: top;\n",
       "    }\n",
       "\n",
       "    .dataframe thead th {\n",
       "        text-align: right;\n",
       "    }\n",
       "</style>\n",
       "<table border=\"1\" class=\"dataframe\">\n",
       "  <thead>\n",
       "    <tr style=\"text-align: right;\">\n",
       "      <th></th>\n",
       "      <th>budget</th>\n",
       "      <th>popularity</th>\n",
       "      <th>production_companies</th>\n",
       "      <th>production_countries</th>\n",
       "      <th>release_date</th>\n",
       "      <th>runtime</th>\n",
       "      <th>spoken_languages</th>\n",
       "      <th>status</th>\n",
       "      <th>tagline</th>\n",
       "      <th>title</th>\n",
       "      <th>Keywords</th>\n",
       "      <th>cast</th>\n",
       "      <th>crew</th>\n",
       "      <th>revenue</th>\n",
       "      <th>genre_name</th>\n",
       "      <th>Homepage</th>\n",
       "      <th>Has_En</th>\n",
       "      <th>production_country</th>\n",
       "      <th>is_use_preduction</th>\n",
       "    </tr>\n",
       "  </thead>\n",
       "  <tbody>\n",
       "    <tr>\n",
       "      <th>0</th>\n",
       "      <td>14000000.00</td>\n",
       "      <td>6.575393</td>\n",
       "      <td>[{'name': 'Paramount Pictures', 'id': 4}, {'na...</td>\n",
       "      <td>[{'iso_3166_1': 'US', 'name': 'United States o...</td>\n",
       "      <td>2/20/15</td>\n",
       "      <td>93.0</td>\n",
       "      <td>[{'iso_639_1': 'en', 'name': 'English'}]</td>\n",
       "      <td>Released</td>\n",
       "      <td>The Laws of Space and Time are About to be Vio...</td>\n",
       "      <td>Hot Tub Time Machine 2</td>\n",
       "      <td>[{'id': 4379, 'name': 'time travel'}, {'id': 9...</td>\n",
       "      <td>[{'cast_id': 4, 'character': 'Lou', 'credit_id...</td>\n",
       "      <td>[{'credit_id': '59ac067c92514107af02c8c8', 'de...</td>\n",
       "      <td>12314651</td>\n",
       "      <td>Comedy</td>\n",
       "      <td>0</td>\n",
       "      <td>1</td>\n",
       "      <td>United States of America</td>\n",
       "      <td>1</td>\n",
       "    </tr>\n",
       "    <tr>\n",
       "      <th>1</th>\n",
       "      <td>40000000.00</td>\n",
       "      <td>8.248895</td>\n",
       "      <td>[{'name': 'Walt Disney Pictures', 'id': 2}]</td>\n",
       "      <td>[{'iso_3166_1': 'US', 'name': 'United States o...</td>\n",
       "      <td>8/6/04</td>\n",
       "      <td>113.0</td>\n",
       "      <td>[{'iso_639_1': 'en', 'name': 'English'}]</td>\n",
       "      <td>Released</td>\n",
       "      <td>It can take a lifetime to find true love; she'...</td>\n",
       "      <td>The Princess Diaries 2: Royal Engagement</td>\n",
       "      <td>[{'id': 2505, 'name': 'coronation'}, {'id': 42...</td>\n",
       "      <td>[{'cast_id': 1, 'character': 'Mia Thermopolis'...</td>\n",
       "      <td>[{'credit_id': '52fe43fe9251416c7502563d', 'de...</td>\n",
       "      <td>95149435</td>\n",
       "      <td>Comedy</td>\n",
       "      <td>0</td>\n",
       "      <td>1</td>\n",
       "      <td>United States of America</td>\n",
       "      <td>1</td>\n",
       "    </tr>\n",
       "    <tr>\n",
       "      <th>2</th>\n",
       "      <td>3300000.00</td>\n",
       "      <td>64.299990</td>\n",
       "      <td>[{'name': 'Bold Films', 'id': 2266}, {'name': ...</td>\n",
       "      <td>[{'iso_3166_1': 'US', 'name': 'United States o...</td>\n",
       "      <td>10/10/14</td>\n",
       "      <td>105.0</td>\n",
       "      <td>[{'iso_639_1': 'en', 'name': 'English'}]</td>\n",
       "      <td>Released</td>\n",
       "      <td>The road to greatness can take you to the edge.</td>\n",
       "      <td>Whiplash</td>\n",
       "      <td>[{'id': 1416, 'name': 'jazz'}, {'id': 1523, 'n...</td>\n",
       "      <td>[{'cast_id': 5, 'character': 'Andrew Neimann',...</td>\n",
       "      <td>[{'credit_id': '54d5356ec3a3683ba0000039', 'de...</td>\n",
       "      <td>13092000</td>\n",
       "      <td>Drama</td>\n",
       "      <td>1</td>\n",
       "      <td>1</td>\n",
       "      <td>United States of America</td>\n",
       "      <td>1</td>\n",
       "    </tr>\n",
       "    <tr>\n",
       "      <th>3</th>\n",
       "      <td>1200000.00</td>\n",
       "      <td>3.174936</td>\n",
       "      <td>NaN</td>\n",
       "      <td>[{'iso_3166_1': 'IN', 'name': 'India'}]</td>\n",
       "      <td>3/9/12</td>\n",
       "      <td>122.0</td>\n",
       "      <td>[{'iso_639_1': 'en', 'name': 'English'}, {'iso...</td>\n",
       "      <td>Released</td>\n",
       "      <td>NaN</td>\n",
       "      <td>Kahaani</td>\n",
       "      <td>[{'id': 10092, 'name': 'mystery'}, {'id': 1054...</td>\n",
       "      <td>[{'cast_id': 1, 'character': 'Vidya Bagchi', '...</td>\n",
       "      <td>[{'credit_id': '52fe48779251416c9108d6eb', 'de...</td>\n",
       "      <td>16000000</td>\n",
       "      <td>Thriller</td>\n",
       "      <td>1</td>\n",
       "      <td>1</td>\n",
       "      <td>India</td>\n",
       "      <td>0</td>\n",
       "    </tr>\n",
       "    <tr>\n",
       "      <th>4</th>\n",
       "      <td>22531334.11</td>\n",
       "      <td>1.148070</td>\n",
       "      <td>NaN</td>\n",
       "      <td>[{'iso_3166_1': 'KR', 'name': 'South Korea'}]</td>\n",
       "      <td>2/5/09</td>\n",
       "      <td>118.0</td>\n",
       "      <td>[{'iso_639_1': 'ko', 'name': '한국어/조선말'}]</td>\n",
       "      <td>Released</td>\n",
       "      <td>NaN</td>\n",
       "      <td>Marine Boy</td>\n",
       "      <td>NaN</td>\n",
       "      <td>[{'cast_id': 3, 'character': 'Chun-soo', 'cred...</td>\n",
       "      <td>[{'credit_id': '52fe464b9251416c75073b43', 'de...</td>\n",
       "      <td>3923970</td>\n",
       "      <td>Action</td>\n",
       "      <td>0</td>\n",
       "      <td>1</td>\n",
       "      <td>South Korea</td>\n",
       "      <td>0</td>\n",
       "    </tr>\n",
       "  </tbody>\n",
       "</table>\n",
       "</div>"
      ],
      "text/plain": [
       "        budget  popularity                               production_companies  \\\n",
       "0  14000000.00    6.575393  [{'name': 'Paramount Pictures', 'id': 4}, {'na...   \n",
       "1  40000000.00    8.248895        [{'name': 'Walt Disney Pictures', 'id': 2}]   \n",
       "2   3300000.00   64.299990  [{'name': 'Bold Films', 'id': 2266}, {'name': ...   \n",
       "3   1200000.00    3.174936                                                NaN   \n",
       "4  22531334.11    1.148070                                                NaN   \n",
       "\n",
       "                                production_countries release_date  runtime  \\\n",
       "0  [{'iso_3166_1': 'US', 'name': 'United States o...      2/20/15     93.0   \n",
       "1  [{'iso_3166_1': 'US', 'name': 'United States o...       8/6/04    113.0   \n",
       "2  [{'iso_3166_1': 'US', 'name': 'United States o...     10/10/14    105.0   \n",
       "3            [{'iso_3166_1': 'IN', 'name': 'India'}]       3/9/12    122.0   \n",
       "4      [{'iso_3166_1': 'KR', 'name': 'South Korea'}]       2/5/09    118.0   \n",
       "\n",
       "                                    spoken_languages    status  \\\n",
       "0           [{'iso_639_1': 'en', 'name': 'English'}]  Released   \n",
       "1           [{'iso_639_1': 'en', 'name': 'English'}]  Released   \n",
       "2           [{'iso_639_1': 'en', 'name': 'English'}]  Released   \n",
       "3  [{'iso_639_1': 'en', 'name': 'English'}, {'iso...  Released   \n",
       "4           [{'iso_639_1': 'ko', 'name': '한국어/조선말'}]  Released   \n",
       "\n",
       "                                             tagline  \\\n",
       "0  The Laws of Space and Time are About to be Vio...   \n",
       "1  It can take a lifetime to find true love; she'...   \n",
       "2    The road to greatness can take you to the edge.   \n",
       "3                                                NaN   \n",
       "4                                                NaN   \n",
       "\n",
       "                                      title  \\\n",
       "0                    Hot Tub Time Machine 2   \n",
       "1  The Princess Diaries 2: Royal Engagement   \n",
       "2                                  Whiplash   \n",
       "3                                   Kahaani   \n",
       "4                                Marine Boy   \n",
       "\n",
       "                                            Keywords  \\\n",
       "0  [{'id': 4379, 'name': 'time travel'}, {'id': 9...   \n",
       "1  [{'id': 2505, 'name': 'coronation'}, {'id': 42...   \n",
       "2  [{'id': 1416, 'name': 'jazz'}, {'id': 1523, 'n...   \n",
       "3  [{'id': 10092, 'name': 'mystery'}, {'id': 1054...   \n",
       "4                                                NaN   \n",
       "\n",
       "                                                cast  \\\n",
       "0  [{'cast_id': 4, 'character': 'Lou', 'credit_id...   \n",
       "1  [{'cast_id': 1, 'character': 'Mia Thermopolis'...   \n",
       "2  [{'cast_id': 5, 'character': 'Andrew Neimann',...   \n",
       "3  [{'cast_id': 1, 'character': 'Vidya Bagchi', '...   \n",
       "4  [{'cast_id': 3, 'character': 'Chun-soo', 'cred...   \n",
       "\n",
       "                                                crew   revenue genre_name  \\\n",
       "0  [{'credit_id': '59ac067c92514107af02c8c8', 'de...  12314651     Comedy   \n",
       "1  [{'credit_id': '52fe43fe9251416c7502563d', 'de...  95149435     Comedy   \n",
       "2  [{'credit_id': '54d5356ec3a3683ba0000039', 'de...  13092000      Drama   \n",
       "3  [{'credit_id': '52fe48779251416c9108d6eb', 'de...  16000000   Thriller   \n",
       "4  [{'credit_id': '52fe464b9251416c75073b43', 'de...   3923970     Action   \n",
       "\n",
       "  Homepage  Has_En        production_country is_use_preduction  \n",
       "0        0       1  United States of America                 1  \n",
       "1        0       1  United States of America                 1  \n",
       "2        1       1  United States of America                 1  \n",
       "3        1       1                     India                 0  \n",
       "4        0       1               South Korea                 0  "
      ]
     },
     "execution_count": 45,
     "metadata": {},
     "output_type": "execute_result"
    }
   ],
   "source": [
    "trainData.head()\n"
   ]
  },
  {
   "cell_type": "code",
   "execution_count": 46,
   "id": "e5e184e3",
   "metadata": {},
   "outputs": [],
   "source": [
    "trainData.drop(['production_countries','production_country'], axis=1, inplace=True)\n",
    "testData.drop(['production_countries','production_country'], axis=1, inplace=True)\n"
   ]
  },
  {
   "cell_type": "code",
   "execution_count": 47,
   "id": "6aead533",
   "metadata": {},
   "outputs": [
    {
     "data": {
      "text/plain": [
       "0"
      ]
     },
     "execution_count": 47,
     "metadata": {},
     "output_type": "execute_result"
    }
   ],
   "source": [
    "trainData['is_use_preduction'].isnull().sum()"
   ]
  },
  {
   "cell_type": "code",
   "execution_count": 48,
   "id": "6b2d11d0",
   "metadata": {},
   "outputs": [
    {
     "data": {
      "text/html": [
       "<div>\n",
       "<style scoped>\n",
       "    .dataframe tbody tr th:only-of-type {\n",
       "        vertical-align: middle;\n",
       "    }\n",
       "\n",
       "    .dataframe tbody tr th {\n",
       "        vertical-align: top;\n",
       "    }\n",
       "\n",
       "    .dataframe thead th {\n",
       "        text-align: right;\n",
       "    }\n",
       "</style>\n",
       "<table border=\"1\" class=\"dataframe\">\n",
       "  <thead>\n",
       "    <tr style=\"text-align: right;\">\n",
       "      <th></th>\n",
       "      <th>budget</th>\n",
       "      <th>popularity</th>\n",
       "      <th>production_companies</th>\n",
       "      <th>release_date</th>\n",
       "      <th>runtime</th>\n",
       "      <th>spoken_languages</th>\n",
       "      <th>status</th>\n",
       "      <th>tagline</th>\n",
       "      <th>title</th>\n",
       "      <th>Keywords</th>\n",
       "      <th>cast</th>\n",
       "      <th>crew</th>\n",
       "      <th>revenue</th>\n",
       "      <th>genre_name</th>\n",
       "      <th>Homepage</th>\n",
       "      <th>Has_En</th>\n",
       "      <th>is_use_preduction</th>\n",
       "    </tr>\n",
       "  </thead>\n",
       "  <tbody>\n",
       "    <tr>\n",
       "      <th>0</th>\n",
       "      <td>14000000.00</td>\n",
       "      <td>6.575393</td>\n",
       "      <td>[{'name': 'Paramount Pictures', 'id': 4}, {'na...</td>\n",
       "      <td>2/20/15</td>\n",
       "      <td>93.0</td>\n",
       "      <td>[{'iso_639_1': 'en', 'name': 'English'}]</td>\n",
       "      <td>Released</td>\n",
       "      <td>The Laws of Space and Time are About to be Vio...</td>\n",
       "      <td>Hot Tub Time Machine 2</td>\n",
       "      <td>[{'id': 4379, 'name': 'time travel'}, {'id': 9...</td>\n",
       "      <td>[{'cast_id': 4, 'character': 'Lou', 'credit_id...</td>\n",
       "      <td>[{'credit_id': '59ac067c92514107af02c8c8', 'de...</td>\n",
       "      <td>12314651</td>\n",
       "      <td>Comedy</td>\n",
       "      <td>0</td>\n",
       "      <td>1</td>\n",
       "      <td>1</td>\n",
       "    </tr>\n",
       "    <tr>\n",
       "      <th>1</th>\n",
       "      <td>40000000.00</td>\n",
       "      <td>8.248895</td>\n",
       "      <td>[{'name': 'Walt Disney Pictures', 'id': 2}]</td>\n",
       "      <td>8/6/04</td>\n",
       "      <td>113.0</td>\n",
       "      <td>[{'iso_639_1': 'en', 'name': 'English'}]</td>\n",
       "      <td>Released</td>\n",
       "      <td>It can take a lifetime to find true love; she'...</td>\n",
       "      <td>The Princess Diaries 2: Royal Engagement</td>\n",
       "      <td>[{'id': 2505, 'name': 'coronation'}, {'id': 42...</td>\n",
       "      <td>[{'cast_id': 1, 'character': 'Mia Thermopolis'...</td>\n",
       "      <td>[{'credit_id': '52fe43fe9251416c7502563d', 'de...</td>\n",
       "      <td>95149435</td>\n",
       "      <td>Comedy</td>\n",
       "      <td>0</td>\n",
       "      <td>1</td>\n",
       "      <td>1</td>\n",
       "    </tr>\n",
       "    <tr>\n",
       "      <th>2</th>\n",
       "      <td>3300000.00</td>\n",
       "      <td>64.299990</td>\n",
       "      <td>[{'name': 'Bold Films', 'id': 2266}, {'name': ...</td>\n",
       "      <td>10/10/14</td>\n",
       "      <td>105.0</td>\n",
       "      <td>[{'iso_639_1': 'en', 'name': 'English'}]</td>\n",
       "      <td>Released</td>\n",
       "      <td>The road to greatness can take you to the edge.</td>\n",
       "      <td>Whiplash</td>\n",
       "      <td>[{'id': 1416, 'name': 'jazz'}, {'id': 1523, 'n...</td>\n",
       "      <td>[{'cast_id': 5, 'character': 'Andrew Neimann',...</td>\n",
       "      <td>[{'credit_id': '54d5356ec3a3683ba0000039', 'de...</td>\n",
       "      <td>13092000</td>\n",
       "      <td>Drama</td>\n",
       "      <td>1</td>\n",
       "      <td>1</td>\n",
       "      <td>1</td>\n",
       "    </tr>\n",
       "    <tr>\n",
       "      <th>3</th>\n",
       "      <td>1200000.00</td>\n",
       "      <td>3.174936</td>\n",
       "      <td>NaN</td>\n",
       "      <td>3/9/12</td>\n",
       "      <td>122.0</td>\n",
       "      <td>[{'iso_639_1': 'en', 'name': 'English'}, {'iso...</td>\n",
       "      <td>Released</td>\n",
       "      <td>NaN</td>\n",
       "      <td>Kahaani</td>\n",
       "      <td>[{'id': 10092, 'name': 'mystery'}, {'id': 1054...</td>\n",
       "      <td>[{'cast_id': 1, 'character': 'Vidya Bagchi', '...</td>\n",
       "      <td>[{'credit_id': '52fe48779251416c9108d6eb', 'de...</td>\n",
       "      <td>16000000</td>\n",
       "      <td>Thriller</td>\n",
       "      <td>1</td>\n",
       "      <td>1</td>\n",
       "      <td>0</td>\n",
       "    </tr>\n",
       "    <tr>\n",
       "      <th>4</th>\n",
       "      <td>22531334.11</td>\n",
       "      <td>1.148070</td>\n",
       "      <td>NaN</td>\n",
       "      <td>2/5/09</td>\n",
       "      <td>118.0</td>\n",
       "      <td>[{'iso_639_1': 'ko', 'name': '한국어/조선말'}]</td>\n",
       "      <td>Released</td>\n",
       "      <td>NaN</td>\n",
       "      <td>Marine Boy</td>\n",
       "      <td>NaN</td>\n",
       "      <td>[{'cast_id': 3, 'character': 'Chun-soo', 'cred...</td>\n",
       "      <td>[{'credit_id': '52fe464b9251416c75073b43', 'de...</td>\n",
       "      <td>3923970</td>\n",
       "      <td>Action</td>\n",
       "      <td>0</td>\n",
       "      <td>1</td>\n",
       "      <td>0</td>\n",
       "    </tr>\n",
       "  </tbody>\n",
       "</table>\n",
       "</div>"
      ],
      "text/plain": [
       "        budget  popularity                               production_companies  \\\n",
       "0  14000000.00    6.575393  [{'name': 'Paramount Pictures', 'id': 4}, {'na...   \n",
       "1  40000000.00    8.248895        [{'name': 'Walt Disney Pictures', 'id': 2}]   \n",
       "2   3300000.00   64.299990  [{'name': 'Bold Films', 'id': 2266}, {'name': ...   \n",
       "3   1200000.00    3.174936                                                NaN   \n",
       "4  22531334.11    1.148070                                                NaN   \n",
       "\n",
       "  release_date  runtime                                   spoken_languages  \\\n",
       "0      2/20/15     93.0           [{'iso_639_1': 'en', 'name': 'English'}]   \n",
       "1       8/6/04    113.0           [{'iso_639_1': 'en', 'name': 'English'}]   \n",
       "2     10/10/14    105.0           [{'iso_639_1': 'en', 'name': 'English'}]   \n",
       "3       3/9/12    122.0  [{'iso_639_1': 'en', 'name': 'English'}, {'iso...   \n",
       "4       2/5/09    118.0           [{'iso_639_1': 'ko', 'name': '한국어/조선말'}]   \n",
       "\n",
       "     status                                            tagline  \\\n",
       "0  Released  The Laws of Space and Time are About to be Vio...   \n",
       "1  Released  It can take a lifetime to find true love; she'...   \n",
       "2  Released    The road to greatness can take you to the edge.   \n",
       "3  Released                                                NaN   \n",
       "4  Released                                                NaN   \n",
       "\n",
       "                                      title  \\\n",
       "0                    Hot Tub Time Machine 2   \n",
       "1  The Princess Diaries 2: Royal Engagement   \n",
       "2                                  Whiplash   \n",
       "3                                   Kahaani   \n",
       "4                                Marine Boy   \n",
       "\n",
       "                                            Keywords  \\\n",
       "0  [{'id': 4379, 'name': 'time travel'}, {'id': 9...   \n",
       "1  [{'id': 2505, 'name': 'coronation'}, {'id': 42...   \n",
       "2  [{'id': 1416, 'name': 'jazz'}, {'id': 1523, 'n...   \n",
       "3  [{'id': 10092, 'name': 'mystery'}, {'id': 1054...   \n",
       "4                                                NaN   \n",
       "\n",
       "                                                cast  \\\n",
       "0  [{'cast_id': 4, 'character': 'Lou', 'credit_id...   \n",
       "1  [{'cast_id': 1, 'character': 'Mia Thermopolis'...   \n",
       "2  [{'cast_id': 5, 'character': 'Andrew Neimann',...   \n",
       "3  [{'cast_id': 1, 'character': 'Vidya Bagchi', '...   \n",
       "4  [{'cast_id': 3, 'character': 'Chun-soo', 'cred...   \n",
       "\n",
       "                                                crew   revenue genre_name  \\\n",
       "0  [{'credit_id': '59ac067c92514107af02c8c8', 'de...  12314651     Comedy   \n",
       "1  [{'credit_id': '52fe43fe9251416c7502563d', 'de...  95149435     Comedy   \n",
       "2  [{'credit_id': '54d5356ec3a3683ba0000039', 'de...  13092000      Drama   \n",
       "3  [{'credit_id': '52fe48779251416c9108d6eb', 'de...  16000000   Thriller   \n",
       "4  [{'credit_id': '52fe464b9251416c75073b43', 'de...   3923970     Action   \n",
       "\n",
       "  Homepage  Has_En is_use_preduction  \n",
       "0        0       1                 1  \n",
       "1        0       1                 1  \n",
       "2        1       1                 1  \n",
       "3        1       1                 0  \n",
       "4        0       1                 0  "
      ]
     },
     "execution_count": 48,
     "metadata": {},
     "output_type": "execute_result"
    }
   ],
   "source": [
    "trainData.head()\n"
=======
   "execution_count": null,
   "id": "f4357f4d",
   "metadata": {},
   "outputs": [],
   "source": [
    "#genres\n",
    "#print('Number of genres in films')\n",
    "#trainData['genres'].apply(lambda x: len(x) if x != {} else 0).value_counts()"
>>>>>>> parent of 5b3df61 (6 feature analysis)
   ]
  },
  {
   "cell_type": "code",
   "execution_count": 49,
   "id": "02b21d2a",
   "metadata": {},
   "outputs": [],
   "source": [
    "#realse_data"
   ]
  },
  {
   "cell_type": "code",
   "execution_count": 50,
   "id": "e600c701",
   "metadata": {},
   "outputs": [],
   "source": [
    "trainData['Day'] = trainData['release_date'].str.split('/', expand=True).replace(np.nan,-1)[0]\n",
    "trainData['Month'] = trainData['release_date'].str.split('/', expand=True).replace(np.nan,-1)[1]\n",
    "trainData['Year'] = trainData['release_date'].str.split('/', expand=True).replace(np.nan,-1)[2]\n",
    "trainData['Day'] = trainData['Day'].astype(int)\n",
    "trainData['Month'] = trainData['Month'].astype(int)\n",
    "trainData['Year'] = trainData['Year'].astype(int)"
   ]
  },
  {
   "cell_type": "code",
   "execution_count": 51,
   "id": "c9a064d5",
   "metadata": {},
   "outputs": [
    {
     "data": {
      "text/plain": [
       "<seaborn.axisgrid.FacetGrid at 0x1dfd4913940>"
      ]
     },
     "execution_count": 51,
     "metadata": {},
     "output_type": "execute_result"
    },
    {
     "data": {
      "image/png": "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\n",
      "text/plain": [
       "<Figure size 360x360 with 1 Axes>"
      ]
     },
     "metadata": {
      "needs_background": "light"
     },
     "output_type": "display_data"
    }
   ],
   "source": [
    "sns.catplot(x='Day',y='revenue',data=trainData)\n"
   ]
  },
  {
   "cell_type": "code",
   "execution_count": 52,
   "id": "86cb40c8",
   "metadata": {},
   "outputs": [
    {
     "data": {
      "text/plain": [
       "0"
      ]
     },
     "execution_count": 52,
     "metadata": {},
     "output_type": "execute_result"
    }
   ],
   "source": [
    "trainData[\"Day\"].isnull().sum()"
   ]
  },
  {
   "cell_type": "code",
   "execution_count": 53,
   "id": "8bdd6c24",
   "metadata": {},
   "outputs": [
    {
     "data": {
      "text/plain": [
       "<seaborn.axisgrid.FacetGrid at 0x1dfd3421b80>"
      ]
     },
     "execution_count": 53,
     "metadata": {},
     "output_type": "execute_result"
    },
    {
     "data": {
      "image/png": "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\n",
      "text/plain": [
       "<Figure size 360x360 with 1 Axes>"
      ]
     },
     "metadata": {
      "needs_background": "light"
     },
     "output_type": "display_data"
    }
   ],
   "source": [
    "sns.catplot(x='Month',y='revenue',data=trainData)\n"
   ]
  },
  {
   "cell_type": "code",
   "execution_count": 54,
   "id": "7c7af8d7",
   "metadata": {},
   "outputs": [
    {
     "data": {
      "text/plain": [
       "<matplotlib.collections.PathCollection at 0x1dfd6cc7190>"
      ]
     },
     "execution_count": 54,
     "metadata": {},
     "output_type": "execute_result"
    },
    {
     "data": {
      "image/png": "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\n",
      "text/plain": [
       "<Figure size 432x288 with 1 Axes>"
      ]
     },
     "metadata": {
      "needs_background": "light"
     },
     "output_type": "display_data"
    }
   ],
   "source": [
    "plt.scatter('Year','revenue',data=trainData)"
   ]
  },
  {
   "cell_type": "code",
   "execution_count": 55,
   "id": "fe85180b",
   "metadata": {},
   "outputs": [],
   "source": [
    "#runtime "
   ]
  },
  {
   "cell_type": "code",
   "execution_count": 56,
   "id": "4c233eb7",
   "metadata": {},
   "outputs": [
    {
     "name": "stdout",
     "output_type": "stream",
     "text": [
      "0 93.0\n",
      "1 113.0\n",
      "2 105.0\n",
      "3 122.0\n",
      "4 118.0\n"
     ]
    }
   ],
   "source": [
    "for i,e in enumerate(trainData['runtime'][:5]):\n",
    "    print(i,e)"
   ]
  },
  {
   "cell_type": "code",
   "execution_count": 57,
   "id": "d731f53c",
   "metadata": {},
   "outputs": [
    {
     "data": {
      "text/plain": [
       "2"
      ]
     },
     "execution_count": 57,
     "metadata": {},
     "output_type": "execute_result"
    }
   ],
   "source": [
    "trainData['runtime'].isnull().sum()"
   ]
  },
  {
   "cell_type": "code",
   "execution_count": 58,
   "id": "2a26b4df",
   "metadata": {},
   "outputs": [
    {
     "data": {
      "text/plain": [
       "0"
      ]
     },
     "execution_count": 58,
     "metadata": {},
     "output_type": "execute_result"
    }
   ],
   "source": [
    "trainData['runtime']=trainData['runtime'].fillna(trainData['runtime'].mean()).round()\n",
    "testData['runtime']=testData['runtime'].fillna(testData['runtime'].mean()).round()\n",
    "trainData['runtime'].isnull().sum()"
   ]
  },
  {
   "cell_type": "code",
   "execution_count": 59,
   "id": "afc4865f",
   "metadata": {},
   "outputs": [
    {
     "data": {
      "text/plain": [
       "<matplotlib.collections.PathCollection at 0x1dfd6d26dc0>"
      ]
     },
     "execution_count": 59,
     "metadata": {},
     "output_type": "execute_result"
    },
    {
     "data": {
      "image/png": "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\n",
      "text/plain": [
       "<Figure size 864x648 with 1 Axes>"
      ]
     },
     "metadata": {
      "needs_background": "light"
     },
     "output_type": "display_data"
    }
   ],
   "source": [
    "plt.subplots(figsize=(12, 9))\n",
    "plt.scatter('runtime','revenue',data=trainData)"
   ]
  },
  {
   "cell_type": "code",
   "execution_count": 60,
   "id": "d2c360c9",
   "metadata": {},
   "outputs": [],
   "source": [
    "#spoken_languages"
   ]
  },
  {
   "cell_type": "code",
   "execution_count": 61,
   "id": "12c0a8e8",
   "metadata": {},
   "outputs": [
    {
     "name": "stdout",
     "output_type": "stream",
     "text": [
      "0 [{'iso_639_1': 'en', 'name': 'English'}]\n",
      "1 [{'iso_639_1': 'en', 'name': 'English'}]\n",
      "2 [{'iso_639_1': 'en', 'name': 'English'}]\n",
      "3 [{'iso_639_1': 'en', 'name': 'English'}, {'iso_639_1': 'hi', 'name': 'हिन्दी'}]\n",
      "4 [{'iso_639_1': 'ko', 'name': '한국어/조선말'}]\n"
     ]
    }
   ],
   "source": [
    "for i,e in enumerate(trainData['spoken_languages'][:5]):\n",
    "    print(i,e)"
   ]
  },
  {
   "cell_type": "code",
   "execution_count": 62,
   "id": "62912904",
   "metadata": {},
   "outputs": [],
   "source": [
    "number_of_spoken_languages = pd.DataFrame(columns=['number_of_spoken_languages'])\n",
    "trainData = pd.concat([trainData, number_of_spoken_languages], axis=1)\n",
    "testData = pd.concat([testData, number_of_spoken_languages], axis=1)"
   ]
  },
  {
   "cell_type": "code",
   "execution_count": null,
   "id": "752cd257",
   "metadata": {},
   "outputs": [
    {
     "name": "stderr",
     "output_type": "stream",
     "text": [
      "C:\\Users\\moham\\AppData\\Local\\Temp/ipykernel_15976/3689744017.py:5: SettingWithCopyWarning: \n",
      "A value is trying to be set on a copy of a slice from a DataFrame\n",
      "\n",
      "See the caveats in the documentation: https://pandas.pydata.org/pandas-docs/stable/user_guide/indexing.html#returning-a-view-versus-a-copy\n",
      "  trainData['number_of_spoken_languages'][j] = len(d)\n",
      "C:\\Users\\moham\\AppData\\Local\\Temp/ipykernel_15976/3689744017.py:7: SettingWithCopyWarning: \n",
      "A value is trying to be set on a copy of a slice from a DataFrame\n",
      "\n",
      "See the caveats in the documentation: https://pandas.pydata.org/pandas-docs/stable/user_guide/indexing.html#returning-a-view-versus-a-copy\n",
      "  trainData['number_of_spoken_languages'][j] = np.NaN\n",
      "C:\\Users\\moham\\AppData\\Local\\Temp/ipykernel_15976/3689744017.py:14: SettingWithCopyWarning: \n",
      "A value is trying to be set on a copy of a slice from a DataFrame\n",
      "\n",
      "See the caveats in the documentation: https://pandas.pydata.org/pandas-docs/stable/user_guide/indexing.html#returning-a-view-versus-a-copy\n",
      "  testData['number_of_spoken_languages'][j] = len(d)\n",
      "C:\\Users\\moham\\AppData\\Local\\Temp/ipykernel_15976/3689744017.py:16: SettingWithCopyWarning: \n",
      "A value is trying to be set on a copy of a slice from a DataFrame\n",
      "\n",
      "See the caveats in the documentation: https://pandas.pydata.org/pandas-docs/stable/user_guide/indexing.html#returning-a-view-versus-a-copy\n",
      "  testData['number_of_spoken_languages'][j] = np.NaN\n"
     ]
    }
   ],
   "source": [
    "j = 0\n",
    "for i in trainData['spoken_languages']:\n",
    "    d = get_dict(i)\n",
    "    if d != {}:\n",
    "        trainData['number_of_spoken_languages'][j] = len(d)\n",
    "    else:\n",
    "        trainData['number_of_spoken_languages'][j] = np.NaN\n",
    "    j += 1\n",
    "    \n",
    "j = 0\n",
    "for i in testData['spoken_languages']:\n",
    "    d = get_dict(i)\n",
    "    if d != {}:\n",
    "        testData['number_of_spoken_languages'][j] = len(d)\n",
    "    else:\n",
    "        testData['number_of_spoken_languages'][j] = np.NaN\n",
    "    j += 1"
   ]
  },
  {
   "cell_type": "code",
   "execution_count": null,
   "id": "bfd7dc01",
   "metadata": {},
   "outputs": [],
   "source": [
    "sns.catplot(x='number_of_spoken_languages', y='revenue', data=trainData)"
   ]
  },
  {
   "cell_type": "code",
   "execution_count": null,
   "id": "f4357f4d",
   "metadata": {},
   "outputs": [],
   "source": [
    "trainData[\"number_of_spoken_languages\"].isnull().sum()"
   ]
  },
  {
   "cell_type": "code",
   "execution_count": null,
   "id": "3716d326",
   "metadata": {},
   "outputs": [],
   "source": [
    "trainData['\"number_of_spoken_languages']=trainData['\"number_of_spoken_languages'].fillna(trainData['\"number_of_spoken_languages'].mean()).round()\n",
    "testData['\"number_of_spoken_languages']=testData['\"number_of_spoken_languages'].fillna(testData['\"number_of_spoken_languages'].mean()).round()"
   ]
  },
  {
   "cell_type": "code",
   "execution_count": null,
   "id": "4e3bc810",
   "metadata": {},
   "outputs": [],
   "source": [
    "trainData.drop(['spoken_languages'], axis=1, inplace=True)\n",
    "testData.drop(['spoken_languages'], axis=1, inplace=True)"
   ]
  },
  {
   "cell_type": "code",
   "execution_count": null,
   "id": "1665471d",
   "metadata": {},
   "outputs": [],
   "source": [
    "trainData.head()"
   ]
  },
  {
   "cell_type": "code",
   "execution_count": null,
   "id": "f6b6c790",
   "metadata": {},
   "outputs": [],
   "source": []
  }
 ],
 "metadata": {
  "kernelspec": {
   "display_name": "Python 3 (ipykernel)",
   "language": "python",
   "name": "python3"
  },
  "language_info": {
   "codemirror_mode": {
    "name": "ipython",
    "version": 3
   },
   "file_extension": ".py",
   "mimetype": "text/x-python",
   "name": "python",
   "nbconvert_exporter": "python",
   "pygments_lexer": "ipython3",
   "version": "3.9.7"
  }
 },
 "nbformat": 4,
 "nbformat_minor": 5
}
